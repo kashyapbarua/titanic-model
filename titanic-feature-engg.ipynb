{
 "cells": [
  {
   "cell_type": "markdown",
   "id": "ranking-marker",
   "metadata": {
    "execution": {
     "iopub.execute_input": "2021-06-27T15:39:43.023309Z",
     "iopub.status.busy": "2021-06-27T15:39:43.022922Z",
     "iopub.status.idle": "2021-06-27T15:39:43.030724Z",
     "shell.execute_reply": "2021-06-27T15:39:43.029112Z",
     "shell.execute_reply.started": "2021-06-27T15:39:43.023276Z"
    },
    "papermill": {
     "duration": 0.027155,
     "end_time": "2021-06-27T16:20:27.637080",
     "exception": false,
     "start_time": "2021-06-27T16:20:27.609925",
     "status": "completed"
    },
    "tags": []
   },
   "source": [
    "## Titanic Disaster Dataset Feature Engineering\n",
    "\n",
    "This notebook is an attempt towards kick-starting my way around the Titanic dataset to improve my model scores based on feature engineering techniques.\n",
    "This is not going to be an extensive EDA notebook for viewers, as there are already tons of notebooks available with great amount of EDA to understand the intricacies of the dataset from all aspects.\n",
    "* We will work with missing value imputations\n",
    "* We will also try to combine some features with each other to come up with new ones\n",
    "* We will try to improve our scores by building up on our feature engineering process"
   ]
  },
  {
   "cell_type": "code",
   "execution_count": 1,
   "id": "induced-sculpture",
   "metadata": {
    "_cell_guid": "b1076dfc-b9ad-4769-8c92-a6c4dae69d19",
    "_uuid": "8f2839f25d086af736a60e9eeb907d3b93b6e0e5",
    "execution": {
     "iopub.execute_input": "2021-06-27T16:20:27.694663Z",
     "iopub.status.busy": "2021-06-27T16:20:27.692988Z",
     "iopub.status.idle": "2021-06-27T16:20:27.701799Z",
     "shell.execute_reply": "2021-06-27T16:20:27.702201Z",
     "shell.execute_reply.started": "2021-06-27T16:15:33.875948Z"
    },
    "papermill": {
     "duration": 0.039387,
     "end_time": "2021-06-27T16:20:27.702503",
     "exception": false,
     "start_time": "2021-06-27T16:20:27.663116",
     "status": "completed"
    },
    "tags": []
   },
   "outputs": [],
   "source": [
    "# Import the required packages here\n",
    "\n",
    "import numpy as np\n",
    "import pandas as pd"
   ]
  },
  {
   "cell_type": "code",
   "execution_count": 2,
   "id": "assisted-assist",
   "metadata": {
    "execution": {
     "iopub.execute_input": "2021-06-27T16:20:27.757919Z",
     "iopub.status.busy": "2021-06-27T16:20:27.757027Z",
     "iopub.status.idle": "2021-06-27T16:20:27.789096Z",
     "shell.execute_reply": "2021-06-27T16:20:27.788490Z",
     "shell.execute_reply.started": "2021-06-27T16:15:34.100439Z"
    },
    "papermill": {
     "duration": 0.060833,
     "end_time": "2021-06-27T16:20:27.789227",
     "exception": false,
     "start_time": "2021-06-27T16:20:27.728394",
     "status": "completed"
    },
    "tags": []
   },
   "outputs": [],
   "source": [
    "# Import the datasets here\n",
    "train = pd.read_csv('/kaggle/input/titanic/train.csv')\n",
    "test = pd.read_csv('/kaggle/input/titanic/test.csv')"
   ]
  },
  {
   "cell_type": "code",
   "execution_count": 3,
   "id": "magnetic-vietnamese",
   "metadata": {
    "execution": {
     "iopub.execute_input": "2021-06-27T16:20:27.847799Z",
     "iopub.status.busy": "2021-06-27T16:20:27.846968Z",
     "iopub.status.idle": "2021-06-27T16:20:27.850875Z",
     "shell.execute_reply": "2021-06-27T16:20:27.850299Z",
     "shell.execute_reply.started": "2021-06-27T16:15:34.315806Z"
    },
    "papermill": {
     "duration": 0.035505,
     "end_time": "2021-06-27T16:20:27.851003",
     "exception": false,
     "start_time": "2021-06-27T16:20:27.815498",
     "status": "completed"
    },
    "tags": []
   },
   "outputs": [
    {
     "name": "stdout",
     "output_type": "stream",
     "text": [
      "(891, 12)\n",
      "(418, 11)\n"
     ]
    }
   ],
   "source": [
    "print(train.shape)\n",
    "print(test.shape)"
   ]
  },
  {
   "cell_type": "code",
   "execution_count": 4,
   "id": "julian-literacy",
   "metadata": {
    "execution": {
     "iopub.execute_input": "2021-06-27T16:20:27.918372Z",
     "iopub.status.busy": "2021-06-27T16:20:27.917662Z",
     "iopub.status.idle": "2021-06-27T16:20:27.928567Z",
     "shell.execute_reply": "2021-06-27T16:20:27.927844Z",
     "shell.execute_reply.started": "2021-06-27T16:15:34.514234Z"
    },
    "papermill": {
     "duration": 0.049791,
     "end_time": "2021-06-27T16:20:27.928736",
     "exception": false,
     "start_time": "2021-06-27T16:20:27.878945",
     "status": "completed"
    },
    "tags": []
   },
   "outputs": [],
   "source": [
    "# Append the train and test dataframes for data cleaning\n",
    "\n",
    "train['test_flag'] = 0\n",
    "test['test_flag'] = 1\n",
    "df_combined = pd.concat([train, test], axis=0, copy=True)"
   ]
  },
  {
   "cell_type": "markdown",
   "id": "talented-security",
   "metadata": {
    "papermill": {
     "duration": 0.027094,
     "end_time": "2021-06-27T16:20:27.983104",
     "exception": false,
     "start_time": "2021-06-27T16:20:27.956010",
     "status": "completed"
    },
    "tags": []
   },
   "source": [
    "### High level EDA"
   ]
  },
  {
   "cell_type": "code",
   "execution_count": 5,
   "id": "sustained-independence",
   "metadata": {
    "execution": {
     "iopub.execute_input": "2021-06-27T16:20:28.042338Z",
     "iopub.status.busy": "2021-06-27T16:20:28.041682Z",
     "iopub.status.idle": "2021-06-27T16:20:28.070629Z",
     "shell.execute_reply": "2021-06-27T16:20:28.071104Z",
     "shell.execute_reply.started": "2021-06-27T16:15:34.863823Z"
    },
    "papermill": {
     "duration": 0.059356,
     "end_time": "2021-06-27T16:20:28.071290",
     "exception": false,
     "start_time": "2021-06-27T16:20:28.011934",
     "status": "completed"
    },
    "tags": []
   },
   "outputs": [
    {
     "name": "stdout",
     "output_type": "stream",
     "text": [
      "PassengerId     0.000000\n",
      "Survived       31.932773\n",
      "Pclass          0.000000\n",
      "Name            0.000000\n",
      "Sex             0.000000\n",
      "Age            20.091673\n",
      "SibSp           0.000000\n",
      "Parch           0.000000\n",
      "Ticket          0.000000\n",
      "Fare            0.076394\n",
      "Cabin          77.463713\n",
      "Embarked        0.152788\n",
      "test_flag       0.000000\n",
      "dtype: float64\n"
     ]
    }
   ],
   "source": [
    "# Check the % missing values in all the columns of the train set\n",
    "print(df_combined.isnull().sum()*100/df_combined.shape[0])\n",
    "\n",
    "# Ignore the missing values for the output class 'Survived' as they are from the test set"
   ]
  },
  {
   "cell_type": "code",
   "execution_count": 6,
   "id": "legitimate-break",
   "metadata": {
    "execution": {
     "iopub.execute_input": "2021-06-27T16:20:28.131371Z",
     "iopub.status.busy": "2021-06-27T16:20:28.130434Z",
     "iopub.status.idle": "2021-06-27T16:20:28.135764Z",
     "shell.execute_reply": "2021-06-27T16:20:28.135271Z",
     "shell.execute_reply.started": "2021-06-27T16:15:35.007651Z"
    },
    "papermill": {
     "duration": 0.037305,
     "end_time": "2021-06-27T16:20:28.135892",
     "exception": false,
     "start_time": "2021-06-27T16:20:28.098587",
     "status": "completed"
    },
    "tags": []
   },
   "outputs": [],
   "source": [
    "# Subsetting for the list of columns which has less to no missing values\n",
    "\n",
    "df_subset = df_combined[['PassengerId', 'Survived', 'Pclass', 'Sex', 'Age', 'SibSp', 'Parch', 'Ticket', 'Fare', 'Cabin', 'Name', 'Embarked', 'test_flag']]"
   ]
  },
  {
   "cell_type": "markdown",
   "id": "novel-lawrence",
   "metadata": {
    "papermill": {
     "duration": 0.026434,
     "end_time": "2021-06-27T16:20:28.189863",
     "exception": false,
     "start_time": "2021-06-27T16:20:28.163429",
     "status": "completed"
    },
    "tags": []
   },
   "source": [
    "### Data Cleaning and missing value imputation for the columns"
   ]
  },
  {
   "cell_type": "code",
   "execution_count": 7,
   "id": "religious-farmer",
   "metadata": {
    "execution": {
     "iopub.execute_input": "2021-06-27T16:20:28.280136Z",
     "iopub.status.busy": "2021-06-27T16:20:28.279433Z",
     "iopub.status.idle": "2021-06-27T16:20:28.322145Z",
     "shell.execute_reply": "2021-06-27T16:20:28.321624Z",
     "shell.execute_reply.started": "2021-06-27T16:15:35.342853Z"
    },
    "papermill": {
     "duration": 0.105449,
     "end_time": "2021-06-27T16:20:28.322278",
     "exception": false,
     "start_time": "2021-06-27T16:20:28.216829",
     "status": "completed"
    },
    "tags": []
   },
   "outputs": [
    {
     "name": "stderr",
     "output_type": "stream",
     "text": [
      "/opt/conda/lib/python3.7/site-packages/ipykernel_launcher.py:4: SettingWithCopyWarning: \n",
      "A value is trying to be set on a copy of a slice from a DataFrame.\n",
      "Try using .loc[row_indexer,col_indexer] = value instead\n",
      "\n",
      "See the caveats in the documentation: https://pandas.pydata.org/pandas-docs/stable/user_guide/indexing.html#returning-a-view-versus-a-copy\n",
      "  after removing the cwd from sys.path.\n"
     ]
    },
    {
     "data": {
      "text/html": [
       "<div>\n",
       "<style scoped>\n",
       "    .dataframe tbody tr th:only-of-type {\n",
       "        vertical-align: middle;\n",
       "    }\n",
       "\n",
       "    .dataframe tbody tr th {\n",
       "        vertical-align: top;\n",
       "    }\n",
       "\n",
       "    .dataframe thead th {\n",
       "        text-align: right;\n",
       "    }\n",
       "</style>\n",
       "<table border=\"1\" class=\"dataframe\">\n",
       "  <thead>\n",
       "    <tr style=\"text-align: right;\">\n",
       "      <th>Sex</th>\n",
       "      <th>female</th>\n",
       "      <th>male</th>\n",
       "    </tr>\n",
       "    <tr>\n",
       "      <th>Title</th>\n",
       "      <th></th>\n",
       "      <th></th>\n",
       "    </tr>\n",
       "  </thead>\n",
       "  <tbody>\n",
       "    <tr>\n",
       "      <th>Capt</th>\n",
       "      <td>0</td>\n",
       "      <td>1</td>\n",
       "    </tr>\n",
       "    <tr>\n",
       "      <th>Col</th>\n",
       "      <td>0</td>\n",
       "      <td>4</td>\n",
       "    </tr>\n",
       "    <tr>\n",
       "      <th>Countess</th>\n",
       "      <td>1</td>\n",
       "      <td>0</td>\n",
       "    </tr>\n",
       "    <tr>\n",
       "      <th>Don</th>\n",
       "      <td>0</td>\n",
       "      <td>1</td>\n",
       "    </tr>\n",
       "    <tr>\n",
       "      <th>Dona</th>\n",
       "      <td>1</td>\n",
       "      <td>0</td>\n",
       "    </tr>\n",
       "    <tr>\n",
       "      <th>Dr</th>\n",
       "      <td>1</td>\n",
       "      <td>7</td>\n",
       "    </tr>\n",
       "    <tr>\n",
       "      <th>Jonkheer</th>\n",
       "      <td>0</td>\n",
       "      <td>1</td>\n",
       "    </tr>\n",
       "    <tr>\n",
       "      <th>Lady</th>\n",
       "      <td>1</td>\n",
       "      <td>0</td>\n",
       "    </tr>\n",
       "    <tr>\n",
       "      <th>Major</th>\n",
       "      <td>0</td>\n",
       "      <td>2</td>\n",
       "    </tr>\n",
       "    <tr>\n",
       "      <th>Master</th>\n",
       "      <td>0</td>\n",
       "      <td>61</td>\n",
       "    </tr>\n",
       "    <tr>\n",
       "      <th>Miss</th>\n",
       "      <td>260</td>\n",
       "      <td>0</td>\n",
       "    </tr>\n",
       "    <tr>\n",
       "      <th>Mlle</th>\n",
       "      <td>2</td>\n",
       "      <td>0</td>\n",
       "    </tr>\n",
       "    <tr>\n",
       "      <th>Mme</th>\n",
       "      <td>1</td>\n",
       "      <td>0</td>\n",
       "    </tr>\n",
       "    <tr>\n",
       "      <th>Mr</th>\n",
       "      <td>0</td>\n",
       "      <td>757</td>\n",
       "    </tr>\n",
       "    <tr>\n",
       "      <th>Mrs</th>\n",
       "      <td>197</td>\n",
       "      <td>0</td>\n",
       "    </tr>\n",
       "    <tr>\n",
       "      <th>Ms</th>\n",
       "      <td>2</td>\n",
       "      <td>0</td>\n",
       "    </tr>\n",
       "    <tr>\n",
       "      <th>Rev</th>\n",
       "      <td>0</td>\n",
       "      <td>8</td>\n",
       "    </tr>\n",
       "    <tr>\n",
       "      <th>Sir</th>\n",
       "      <td>0</td>\n",
       "      <td>1</td>\n",
       "    </tr>\n",
       "  </tbody>\n",
       "</table>\n",
       "</div>"
      ],
      "text/plain": [
       "Sex       female  male\n",
       "Title                 \n",
       "Capt           0     1\n",
       "Col            0     4\n",
       "Countess       1     0\n",
       "Don            0     1\n",
       "Dona           1     0\n",
       "Dr             1     7\n",
       "Jonkheer       0     1\n",
       "Lady           1     0\n",
       "Major          0     2\n",
       "Master         0    61\n",
       "Miss         260     0\n",
       "Mlle           2     0\n",
       "Mme            1     0\n",
       "Mr             0   757\n",
       "Mrs          197     0\n",
       "Ms             2     0\n",
       "Rev            0     8\n",
       "Sir            0     1"
      ]
     },
     "execution_count": 7,
     "metadata": {},
     "output_type": "execute_result"
    }
   ],
   "source": [
    "# Cleaning and level modifications for the categorical features\n",
    "\n",
    "for dataset in df_subset:\n",
    "    df_subset['Title'] = df_subset.Name.str.extract(' ([A-Za-z]+)\\.', expand=False)\n",
    "\n",
    "pd.crosstab(df_subset['Title'], df_subset['Sex'])"
   ]
  },
  {
   "cell_type": "code",
   "execution_count": 8,
   "id": "collectible-pricing",
   "metadata": {
    "execution": {
     "iopub.execute_input": "2021-06-27T16:20:28.394436Z",
     "iopub.status.busy": "2021-06-27T16:20:28.388786Z",
     "iopub.status.idle": "2021-06-27T16:20:28.439548Z",
     "shell.execute_reply": "2021-06-27T16:20:28.439010Z",
     "shell.execute_reply.started": "2021-06-27T16:15:35.496834Z"
    },
    "papermill": {
     "duration": 0.089783,
     "end_time": "2021-06-27T16:20:28.439708",
     "exception": false,
     "start_time": "2021-06-27T16:20:28.349925",
     "status": "completed"
    },
    "tags": []
   },
   "outputs": [
    {
     "name": "stderr",
     "output_type": "stream",
     "text": [
      "/opt/conda/lib/python3.7/site-packages/ipykernel_launcher.py:3: SettingWithCopyWarning: \n",
      "A value is trying to be set on a copy of a slice from a DataFrame.\n",
      "Try using .loc[row_indexer,col_indexer] = value instead\n",
      "\n",
      "See the caveats in the documentation: https://pandas.pydata.org/pandas-docs/stable/user_guide/indexing.html#returning-a-view-versus-a-copy\n",
      "  This is separate from the ipykernel package so we can avoid doing imports until\n",
      "/opt/conda/lib/python3.7/site-packages/ipykernel_launcher.py:5: SettingWithCopyWarning: \n",
      "A value is trying to be set on a copy of a slice from a DataFrame.\n",
      "Try using .loc[row_indexer,col_indexer] = value instead\n",
      "\n",
      "See the caveats in the documentation: https://pandas.pydata.org/pandas-docs/stable/user_guide/indexing.html#returning-a-view-versus-a-copy\n",
      "  \"\"\"\n",
      "/opt/conda/lib/python3.7/site-packages/ipykernel_launcher.py:6: SettingWithCopyWarning: \n",
      "A value is trying to be set on a copy of a slice from a DataFrame.\n",
      "Try using .loc[row_indexer,col_indexer] = value instead\n",
      "\n",
      "See the caveats in the documentation: https://pandas.pydata.org/pandas-docs/stable/user_guide/indexing.html#returning-a-view-versus-a-copy\n",
      "  \n",
      "/opt/conda/lib/python3.7/site-packages/ipykernel_launcher.py:7: SettingWithCopyWarning: \n",
      "A value is trying to be set on a copy of a slice from a DataFrame.\n",
      "Try using .loc[row_indexer,col_indexer] = value instead\n",
      "\n",
      "See the caveats in the documentation: https://pandas.pydata.org/pandas-docs/stable/user_guide/indexing.html#returning-a-view-versus-a-copy\n",
      "  import sys\n"
     ]
    },
    {
     "data": {
      "text/html": [
       "<div>\n",
       "<style scoped>\n",
       "    .dataframe tbody tr th:only-of-type {\n",
       "        vertical-align: middle;\n",
       "    }\n",
       "\n",
       "    .dataframe tbody tr th {\n",
       "        vertical-align: top;\n",
       "    }\n",
       "\n",
       "    .dataframe thead th {\n",
       "        text-align: right;\n",
       "    }\n",
       "</style>\n",
       "<table border=\"1\" class=\"dataframe\">\n",
       "  <thead>\n",
       "    <tr style=\"text-align: right;\">\n",
       "      <th></th>\n",
       "      <th>Title</th>\n",
       "      <th>Survived</th>\n",
       "    </tr>\n",
       "  </thead>\n",
       "  <tbody>\n",
       "    <tr>\n",
       "      <th>0</th>\n",
       "      <td>Master</td>\n",
       "      <td>0.575000</td>\n",
       "    </tr>\n",
       "    <tr>\n",
       "      <th>1</th>\n",
       "      <td>Miss</td>\n",
       "      <td>0.702703</td>\n",
       "    </tr>\n",
       "    <tr>\n",
       "      <th>2</th>\n",
       "      <td>Mr</td>\n",
       "      <td>0.156673</td>\n",
       "    </tr>\n",
       "    <tr>\n",
       "      <th>3</th>\n",
       "      <td>Mrs</td>\n",
       "      <td>0.793651</td>\n",
       "    </tr>\n",
       "    <tr>\n",
       "      <th>4</th>\n",
       "      <td>Rare</td>\n",
       "      <td>0.347826</td>\n",
       "    </tr>\n",
       "  </tbody>\n",
       "</table>\n",
       "</div>"
      ],
      "text/plain": [
       "    Title  Survived\n",
       "0  Master  0.575000\n",
       "1    Miss  0.702703\n",
       "2      Mr  0.156673\n",
       "3     Mrs  0.793651\n",
       "4    Rare  0.347826"
      ]
     },
     "execution_count": 8,
     "metadata": {},
     "output_type": "execute_result"
    }
   ],
   "source": [
    "for dataset in df_subset:\n",
    "    df_subset['Title'] = df_subset['Title'].replace(['Lady', 'Countess','Capt', 'Col',\\\n",
    "     'Don', 'Dr', 'Major', 'Rev', 'Sir', 'Jonkheer', 'Dona'], 'Rare')\n",
    "\n",
    "    df_subset['Title'] = df_subset['Title'].replace('Mlle', 'Miss')\n",
    "    df_subset['Title'] = df_subset['Title'].replace('Ms', 'Miss')\n",
    "    df_subset['Title'] = df_subset['Title'].replace('Mme', 'Mrs')\n",
    "    \n",
    "df_subset[['Title', 'Survived']].groupby(['Title'], as_index=False).mean()"
   ]
  },
  {
   "cell_type": "code",
   "execution_count": 9,
   "id": "personalized-orleans",
   "metadata": {
    "execution": {
     "iopub.execute_input": "2021-06-27T16:20:28.503908Z",
     "iopub.status.busy": "2021-06-27T16:20:28.503253Z",
     "iopub.status.idle": "2021-06-27T16:20:28.506484Z",
     "shell.execute_reply": "2021-06-27T16:20:28.505945Z",
     "shell.execute_reply.started": "2021-06-27T16:15:35.654860Z"
    },
    "papermill": {
     "duration": 0.038171,
     "end_time": "2021-06-27T16:20:28.506646",
     "exception": false,
     "start_time": "2021-06-27T16:20:28.468475",
     "status": "completed"
    },
    "tags": []
   },
   "outputs": [],
   "source": [
    "df_subset = df_subset.drop(['Name'], axis = 1)"
   ]
  },
  {
   "cell_type": "code",
   "execution_count": 10,
   "id": "directed-affect",
   "metadata": {
    "execution": {
     "iopub.execute_input": "2021-06-27T16:20:28.567175Z",
     "iopub.status.busy": "2021-06-27T16:20:28.566566Z",
     "iopub.status.idle": "2021-06-27T16:20:28.573762Z",
     "shell.execute_reply": "2021-06-27T16:20:28.574268Z",
     "shell.execute_reply.started": "2021-06-27T16:15:36.112174Z"
    },
    "papermill": {
     "duration": 0.039147,
     "end_time": "2021-06-27T16:20:28.574488",
     "exception": false,
     "start_time": "2021-06-27T16:20:28.535341",
     "status": "completed"
    },
    "tags": []
   },
   "outputs": [],
   "source": [
    "df_subset['Cabin'] = df_subset['Cabin'].replace(np.nan, 'U')\n",
    "df_subset['Cabin_Class'] = df_subset['Cabin'].astype(str).str[0]"
   ]
  },
  {
   "cell_type": "code",
   "execution_count": 11,
   "id": "collaborative-siemens",
   "metadata": {
    "execution": {
     "iopub.execute_input": "2021-06-27T16:20:28.634455Z",
     "iopub.status.busy": "2021-06-27T16:20:28.633801Z",
     "iopub.status.idle": "2021-06-27T16:20:28.639013Z",
     "shell.execute_reply": "2021-06-27T16:20:28.639493Z",
     "shell.execute_reply.started": "2021-06-27T16:15:36.709695Z"
    },
    "papermill": {
     "duration": 0.036808,
     "end_time": "2021-06-27T16:20:28.639682",
     "exception": false,
     "start_time": "2021-06-27T16:20:28.602874",
     "status": "completed"
    },
    "tags": []
   },
   "outputs": [],
   "source": [
    "df_subset = df_subset.drop(['Ticket', 'Cabin'], axis = 1)"
   ]
  },
  {
   "cell_type": "code",
   "execution_count": 12,
   "id": "racial-period",
   "metadata": {
    "execution": {
     "iopub.execute_input": "2021-06-27T16:20:28.699471Z",
     "iopub.status.busy": "2021-06-27T16:20:28.698864Z",
     "iopub.status.idle": "2021-06-27T16:20:28.709924Z",
     "shell.execute_reply": "2021-06-27T16:20:28.709256Z",
     "shell.execute_reply.started": "2021-06-27T16:15:37.694697Z"
    },
    "papermill": {
     "duration": 0.042045,
     "end_time": "2021-06-27T16:20:28.710086",
     "exception": false,
     "start_time": "2021-06-27T16:20:28.668041",
     "status": "completed"
    },
    "tags": []
   },
   "outputs": [],
   "source": [
    "median_age = df_subset[\"Age\"].median()\n",
    "df_subset[\"Age\"].fillna(median_age, inplace=True)"
   ]
  },
  {
   "cell_type": "code",
   "execution_count": 13,
   "id": "hispanic-recipe",
   "metadata": {
    "execution": {
     "iopub.execute_input": "2021-06-27T16:20:28.783798Z",
     "iopub.status.busy": "2021-06-27T16:20:28.782846Z",
     "iopub.status.idle": "2021-06-27T16:20:28.787508Z",
     "shell.execute_reply": "2021-06-27T16:20:28.788178Z",
     "shell.execute_reply.started": "2021-06-27T16:15:39.749864Z"
    },
    "papermill": {
     "duration": 0.046676,
     "end_time": "2021-06-27T16:20:28.788413",
     "exception": false,
     "start_time": "2021-06-27T16:20:28.741737",
     "status": "completed"
    },
    "tags": []
   },
   "outputs": [],
   "source": [
    "# df_subset.Age[df_subset.Age <= 12] = 0\n",
    "# df_subset.Age[(df_subset.Age > 12) & (df_subset.Age <= 30)] = 1\n",
    "# df_subset.Age[(df_subset.Age > 30) & (df_subset.Age <= 50)] = 2\n",
    "# df_subset.Age[(df_subset.Age > 50) & (df_subset.Age <= 65)] = 3\n",
    "# df_subset.Age[df_subset.Age > 65] = 4"
   ]
  },
  {
   "cell_type": "code",
   "execution_count": 14,
   "id": "mathematical-jungle",
   "metadata": {
    "execution": {
     "iopub.execute_input": "2021-06-27T16:20:28.856839Z",
     "iopub.status.busy": "2021-06-27T16:20:28.856196Z",
     "iopub.status.idle": "2021-06-27T16:20:28.859348Z",
     "shell.execute_reply": "2021-06-27T16:20:28.858829Z",
     "shell.execute_reply.started": "2021-06-27T16:15:41.734667Z"
    },
    "papermill": {
     "duration": 0.037429,
     "end_time": "2021-06-27T16:20:28.859510",
     "exception": false,
     "start_time": "2021-06-27T16:20:28.822081",
     "status": "completed"
    },
    "tags": []
   },
   "outputs": [],
   "source": [
    "df_subset['Age'] = df_subset['Age'].astype(int)"
   ]
  },
  {
   "cell_type": "code",
   "execution_count": 15,
   "id": "liberal-clause",
   "metadata": {
    "execution": {
     "iopub.execute_input": "2021-06-27T16:20:28.927918Z",
     "iopub.status.busy": "2021-06-27T16:20:28.927193Z",
     "iopub.status.idle": "2021-06-27T16:20:28.930743Z",
     "shell.execute_reply": "2021-06-27T16:20:28.931538Z",
     "shell.execute_reply.started": "2021-06-27T16:15:42.543852Z"
    },
    "papermill": {
     "duration": 0.043555,
     "end_time": "2021-06-27T16:20:28.931888",
     "exception": false,
     "start_time": "2021-06-27T16:20:28.888333",
     "status": "completed"
    },
    "tags": []
   },
   "outputs": [
    {
     "name": "stderr",
     "output_type": "stream",
     "text": [
      "/opt/conda/lib/python3.7/site-packages/ipykernel_launcher.py:1: SettingWithCopyWarning: \n",
      "A value is trying to be set on a copy of a slice from a DataFrame\n",
      "\n",
      "See the caveats in the documentation: https://pandas.pydata.org/pandas-docs/stable/user_guide/indexing.html#returning-a-view-versus-a-copy\n",
      "  \"\"\"Entry point for launching an IPython kernel.\n",
      "/opt/conda/lib/python3.7/site-packages/ipykernel_launcher.py:2: SettingWithCopyWarning: \n",
      "A value is trying to be set on a copy of a slice from a DataFrame\n",
      "\n",
      "See the caveats in the documentation: https://pandas.pydata.org/pandas-docs/stable/user_guide/indexing.html#returning-a-view-versus-a-copy\n",
      "  \n"
     ]
    }
   ],
   "source": [
    "df_subset.Age[df_subset.Age < 18] = 1\n",
    "df_subset.Age[df_subset.Age >= 18] = 0"
   ]
  },
  {
   "cell_type": "code",
   "execution_count": 16,
   "id": "interracial-foundation",
   "metadata": {
    "execution": {
     "iopub.execute_input": "2021-06-27T16:20:29.003382Z",
     "iopub.status.busy": "2021-06-27T16:20:29.002518Z",
     "iopub.status.idle": "2021-06-27T16:20:29.005958Z",
     "shell.execute_reply": "2021-06-27T16:20:29.005386Z",
     "shell.execute_reply.started": "2021-06-27T16:15:46.516590Z"
    },
    "papermill": {
     "duration": 0.044903,
     "end_time": "2021-06-27T16:20:29.006087",
     "exception": false,
     "start_time": "2021-06-27T16:20:28.961184",
     "status": "completed"
    },
    "tags": []
   },
   "outputs": [],
   "source": [
    "for dataset in df_subset:\n",
    "    df_subset['FamilySize'] = df_subset['SibSp'] + df_subset['Parch'] + 1"
   ]
  },
  {
   "cell_type": "code",
   "execution_count": 17,
   "id": "continued-worker",
   "metadata": {
    "execution": {
     "iopub.execute_input": "2021-06-27T16:20:29.083345Z",
     "iopub.status.busy": "2021-06-27T16:20:29.082560Z",
     "iopub.status.idle": "2021-06-27T16:20:29.085907Z",
     "shell.execute_reply": "2021-06-27T16:20:29.085476Z",
     "shell.execute_reply.started": "2021-06-27T16:15:47.642955Z"
    },
    "papermill": {
     "duration": 0.045884,
     "end_time": "2021-06-27T16:20:29.086048",
     "exception": false,
     "start_time": "2021-06-27T16:20:29.040164",
     "status": "completed"
    },
    "tags": []
   },
   "outputs": [],
   "source": [
    "df_subset = df_subset.drop(['SibSp', 'Parch'], axis = 1)"
   ]
  },
  {
   "cell_type": "code",
   "execution_count": 18,
   "id": "prostate-marker",
   "metadata": {
    "execution": {
     "iopub.execute_input": "2021-06-27T16:20:29.160199Z",
     "iopub.status.busy": "2021-06-27T16:20:29.159294Z",
     "iopub.status.idle": "2021-06-27T16:20:29.165168Z",
     "shell.execute_reply": "2021-06-27T16:20:29.164442Z",
     "shell.execute_reply.started": "2021-06-27T16:15:50.122468Z"
    },
    "papermill": {
     "duration": 0.050528,
     "end_time": "2021-06-27T16:20:29.165338",
     "exception": false,
     "start_time": "2021-06-27T16:20:29.114810",
     "status": "completed"
    },
    "tags": []
   },
   "outputs": [
    {
     "name": "stderr",
     "output_type": "stream",
     "text": [
      "/opt/conda/lib/python3.7/site-packages/ipykernel_launcher.py:1: SettingWithCopyWarning: \n",
      "A value is trying to be set on a copy of a slice from a DataFrame\n",
      "\n",
      "See the caveats in the documentation: https://pandas.pydata.org/pandas-docs/stable/user_guide/indexing.html#returning-a-view-versus-a-copy\n",
      "  \"\"\"Entry point for launching an IPython kernel.\n",
      "/opt/conda/lib/python3.7/site-packages/ipykernel_launcher.py:2: SettingWithCopyWarning: \n",
      "A value is trying to be set on a copy of a slice from a DataFrame\n",
      "\n",
      "See the caveats in the documentation: https://pandas.pydata.org/pandas-docs/stable/user_guide/indexing.html#returning-a-view-versus-a-copy\n",
      "  \n",
      "/opt/conda/lib/python3.7/site-packages/ipykernel_launcher.py:3: SettingWithCopyWarning: \n",
      "A value is trying to be set on a copy of a slice from a DataFrame\n",
      "\n",
      "See the caveats in the documentation: https://pandas.pydata.org/pandas-docs/stable/user_guide/indexing.html#returning-a-view-versus-a-copy\n",
      "  This is separate from the ipykernel package so we can avoid doing imports until\n"
     ]
    }
   ],
   "source": [
    "df_subset.FamilySize[df_subset.FamilySize == 1] = 0\n",
    "df_subset.FamilySize[(df_subset.FamilySize > 1) & (df_subset.FamilySize <= 4)] = 1\n",
    "df_subset.FamilySize[(df_subset.FamilySize > 4)] = 2"
   ]
  },
  {
   "cell_type": "code",
   "execution_count": 19,
   "id": "unique-dependence",
   "metadata": {
    "execution": {
     "iopub.execute_input": "2021-06-27T16:20:29.228206Z",
     "iopub.status.busy": "2021-06-27T16:20:29.227263Z",
     "iopub.status.idle": "2021-06-27T16:20:29.234335Z",
     "shell.execute_reply": "2021-06-27T16:20:29.234727Z",
     "shell.execute_reply.started": "2021-06-27T16:15:50.441427Z"
    },
    "papermill": {
     "duration": 0.041128,
     "end_time": "2021-06-27T16:20:29.234889",
     "exception": false,
     "start_time": "2021-06-27T16:20:29.193761",
     "status": "completed"
    },
    "tags": []
   },
   "outputs": [
    {
     "data": {
      "text/plain": [
       "count    1308.000000\n",
       "mean       33.295479\n",
       "std        51.758668\n",
       "min         0.000000\n",
       "25%         7.895800\n",
       "50%        14.454200\n",
       "75%        31.275000\n",
       "max       512.329200\n",
       "Name: Fare, dtype: float64"
      ]
     },
     "execution_count": 19,
     "metadata": {},
     "output_type": "execute_result"
    }
   ],
   "source": [
    "df_subset['Fare'].describe()"
   ]
  },
  {
   "cell_type": "code",
   "execution_count": 20,
   "id": "enormous-strategy",
   "metadata": {
    "execution": {
     "iopub.execute_input": "2021-06-27T16:20:29.295246Z",
     "iopub.status.busy": "2021-06-27T16:20:29.294382Z",
     "iopub.status.idle": "2021-06-27T16:20:29.299399Z",
     "shell.execute_reply": "2021-06-27T16:20:29.299787Z",
     "shell.execute_reply.started": "2021-06-27T16:15:50.773888Z"
    },
    "papermill": {
     "duration": 0.036581,
     "end_time": "2021-06-27T16:20:29.299946",
     "exception": false,
     "start_time": "2021-06-27T16:20:29.263365",
     "status": "completed"
    },
    "tags": []
   },
   "outputs": [],
   "source": [
    "df_subset['Fare'].fillna(df_subset['Fare'].dropna().median(), inplace=True)"
   ]
  },
  {
   "cell_type": "code",
   "execution_count": 21,
   "id": "arctic-campbell",
   "metadata": {
    "execution": {
     "iopub.execute_input": "2021-06-27T16:20:29.364335Z",
     "iopub.status.busy": "2021-06-27T16:20:29.363463Z",
     "iopub.status.idle": "2021-06-27T16:20:29.403661Z",
     "shell.execute_reply": "2021-06-27T16:20:29.404197Z",
     "shell.execute_reply.started": "2021-06-27T16:15:52.130375Z"
    },
    "papermill": {
     "duration": 0.075963,
     "end_time": "2021-06-27T16:20:29.404386",
     "exception": false,
     "start_time": "2021-06-27T16:20:29.328423",
     "status": "completed"
    },
    "tags": []
   },
   "outputs": [
    {
     "name": "stderr",
     "output_type": "stream",
     "text": [
      "/opt/conda/lib/python3.7/site-packages/ipykernel_launcher.py:1: SettingWithCopyWarning: \n",
      "A value is trying to be set on a copy of a slice from a DataFrame\n",
      "\n",
      "See the caveats in the documentation: https://pandas.pydata.org/pandas-docs/stable/user_guide/indexing.html#returning-a-view-versus-a-copy\n",
      "  \"\"\"Entry point for launching an IPython kernel.\n",
      "/opt/conda/lib/python3.7/site-packages/ipykernel_launcher.py:2: SettingWithCopyWarning: \n",
      "A value is trying to be set on a copy of a slice from a DataFrame\n",
      "\n",
      "See the caveats in the documentation: https://pandas.pydata.org/pandas-docs/stable/user_guide/indexing.html#returning-a-view-versus-a-copy\n",
      "  \n",
      "/opt/conda/lib/python3.7/site-packages/ipykernel_launcher.py:3: SettingWithCopyWarning: \n",
      "A value is trying to be set on a copy of a slice from a DataFrame\n",
      "\n",
      "See the caveats in the documentation: https://pandas.pydata.org/pandas-docs/stable/user_guide/indexing.html#returning-a-view-versus-a-copy\n",
      "  This is separate from the ipykernel package so we can avoid doing imports until\n",
      "/opt/conda/lib/python3.7/site-packages/ipykernel_launcher.py:4: SettingWithCopyWarning: \n",
      "A value is trying to be set on a copy of a slice from a DataFrame\n",
      "\n",
      "See the caveats in the documentation: https://pandas.pydata.org/pandas-docs/stable/user_guide/indexing.html#returning-a-view-versus-a-copy\n",
      "  after removing the cwd from sys.path.\n"
     ]
    },
    {
     "data": {
      "text/html": [
       "<div>\n",
       "<style scoped>\n",
       "    .dataframe tbody tr th:only-of-type {\n",
       "        vertical-align: middle;\n",
       "    }\n",
       "\n",
       "    .dataframe tbody tr th {\n",
       "        vertical-align: top;\n",
       "    }\n",
       "\n",
       "    .dataframe thead th {\n",
       "        text-align: right;\n",
       "    }\n",
       "</style>\n",
       "<table border=\"1\" class=\"dataframe\">\n",
       "  <thead>\n",
       "    <tr style=\"text-align: right;\">\n",
       "      <th></th>\n",
       "      <th>PassengerId</th>\n",
       "      <th>Survived</th>\n",
       "      <th>Pclass</th>\n",
       "      <th>Sex</th>\n",
       "      <th>Age</th>\n",
       "      <th>Fare</th>\n",
       "      <th>Embarked</th>\n",
       "      <th>test_flag</th>\n",
       "      <th>Title</th>\n",
       "      <th>Cabin_Class</th>\n",
       "      <th>FamilySize</th>\n",
       "    </tr>\n",
       "  </thead>\n",
       "  <tbody>\n",
       "    <tr>\n",
       "      <th>0</th>\n",
       "      <td>1</td>\n",
       "      <td>0.0</td>\n",
       "      <td>3</td>\n",
       "      <td>male</td>\n",
       "      <td>0</td>\n",
       "      <td>0</td>\n",
       "      <td>S</td>\n",
       "      <td>0</td>\n",
       "      <td>Mr</td>\n",
       "      <td>U</td>\n",
       "      <td>1</td>\n",
       "    </tr>\n",
       "    <tr>\n",
       "      <th>1</th>\n",
       "      <td>2</td>\n",
       "      <td>1.0</td>\n",
       "      <td>1</td>\n",
       "      <td>female</td>\n",
       "      <td>0</td>\n",
       "      <td>3</td>\n",
       "      <td>C</td>\n",
       "      <td>0</td>\n",
       "      <td>Mrs</td>\n",
       "      <td>C</td>\n",
       "      <td>1</td>\n",
       "    </tr>\n",
       "    <tr>\n",
       "      <th>2</th>\n",
       "      <td>3</td>\n",
       "      <td>1.0</td>\n",
       "      <td>3</td>\n",
       "      <td>female</td>\n",
       "      <td>0</td>\n",
       "      <td>1</td>\n",
       "      <td>S</td>\n",
       "      <td>0</td>\n",
       "      <td>Miss</td>\n",
       "      <td>U</td>\n",
       "      <td>0</td>\n",
       "    </tr>\n",
       "    <tr>\n",
       "      <th>3</th>\n",
       "      <td>4</td>\n",
       "      <td>1.0</td>\n",
       "      <td>1</td>\n",
       "      <td>female</td>\n",
       "      <td>0</td>\n",
       "      <td>3</td>\n",
       "      <td>S</td>\n",
       "      <td>0</td>\n",
       "      <td>Mrs</td>\n",
       "      <td>C</td>\n",
       "      <td>1</td>\n",
       "    </tr>\n",
       "    <tr>\n",
       "      <th>4</th>\n",
       "      <td>5</td>\n",
       "      <td>0.0</td>\n",
       "      <td>3</td>\n",
       "      <td>male</td>\n",
       "      <td>0</td>\n",
       "      <td>1</td>\n",
       "      <td>S</td>\n",
       "      <td>0</td>\n",
       "      <td>Mr</td>\n",
       "      <td>U</td>\n",
       "      <td>0</td>\n",
       "    </tr>\n",
       "  </tbody>\n",
       "</table>\n",
       "</div>"
      ],
      "text/plain": [
       "   PassengerId  Survived  Pclass     Sex  Age  Fare Embarked  test_flag Title  \\\n",
       "0            1       0.0       3    male    0     0        S          0    Mr   \n",
       "1            2       1.0       1  female    0     3        C          0   Mrs   \n",
       "2            3       1.0       3  female    0     1        S          0  Miss   \n",
       "3            4       1.0       1  female    0     3        S          0   Mrs   \n",
       "4            5       0.0       3    male    0     1        S          0    Mr   \n",
       "\n",
       "  Cabin_Class  FamilySize  \n",
       "0           U           1  \n",
       "1           C           1  \n",
       "2           U           0  \n",
       "3           C           1  \n",
       "4           U           0  "
      ]
     },
     "execution_count": 21,
     "metadata": {},
     "output_type": "execute_result"
    }
   ],
   "source": [
    "df_subset.Fare[df_subset.Fare <= 7.91] = 0\n",
    "df_subset.Fare[(df_subset.Fare > 7.91) & (df_subset.Fare <= 14.454)] = 1\n",
    "df_subset.Fare[(df_subset.Fare > 14.454) & (df_subset.Fare <= 31)] = 2\n",
    "df_subset.Fare[df_subset.Fare > 31] = 3\n",
    "df_subset['Fare'] = df_subset['Fare'].astype(int)\n",
    "\n",
    "df_subset.head()"
   ]
  },
  {
   "cell_type": "code",
   "execution_count": 22,
   "id": "economic-deployment",
   "metadata": {
    "execution": {
     "iopub.execute_input": "2021-06-27T16:20:29.469954Z",
     "iopub.status.busy": "2021-06-27T16:20:29.469415Z",
     "iopub.status.idle": "2021-06-27T16:20:29.476696Z",
     "shell.execute_reply": "2021-06-27T16:20:29.477198Z",
     "shell.execute_reply.started": "2021-06-27T16:15:53.244042Z"
    },
    "papermill": {
     "duration": 0.043229,
     "end_time": "2021-06-27T16:20:29.477368",
     "exception": false,
     "start_time": "2021-06-27T16:20:29.434139",
     "status": "completed"
    },
    "tags": []
   },
   "outputs": [],
   "source": [
    "mode_embarked = df_subset.Embarked.dropna().mode()[0]\n",
    "df_subset[\"Embarked\"].fillna(mode_embarked, inplace=True)"
   ]
  },
  {
   "cell_type": "code",
   "execution_count": 23,
   "id": "significant-familiar",
   "metadata": {
    "execution": {
     "iopub.execute_input": "2021-06-27T16:20:29.538683Z",
     "iopub.status.busy": "2021-06-27T16:20:29.538128Z",
     "iopub.status.idle": "2021-06-27T16:20:29.552465Z",
     "shell.execute_reply": "2021-06-27T16:20:29.553004Z",
     "shell.execute_reply.started": "2021-06-27T16:15:55.316698Z"
    },
    "papermill": {
     "duration": 0.046804,
     "end_time": "2021-06-27T16:20:29.553162",
     "exception": false,
     "start_time": "2021-06-27T16:20:29.506358",
     "status": "completed"
    },
    "tags": []
   },
   "outputs": [
    {
     "data": {
      "text/html": [
       "<div>\n",
       "<style scoped>\n",
       "    .dataframe tbody tr th:only-of-type {\n",
       "        vertical-align: middle;\n",
       "    }\n",
       "\n",
       "    .dataframe tbody tr th {\n",
       "        vertical-align: top;\n",
       "    }\n",
       "\n",
       "    .dataframe thead th {\n",
       "        text-align: right;\n",
       "    }\n",
       "</style>\n",
       "<table border=\"1\" class=\"dataframe\">\n",
       "  <thead>\n",
       "    <tr style=\"text-align: right;\">\n",
       "      <th></th>\n",
       "      <th>PassengerId</th>\n",
       "      <th>Survived</th>\n",
       "      <th>Pclass</th>\n",
       "      <th>Sex</th>\n",
       "      <th>Age</th>\n",
       "      <th>Fare</th>\n",
       "      <th>Embarked</th>\n",
       "      <th>test_flag</th>\n",
       "      <th>Title</th>\n",
       "      <th>Cabin_Class</th>\n",
       "      <th>FamilySize</th>\n",
       "    </tr>\n",
       "  </thead>\n",
       "  <tbody>\n",
       "    <tr>\n",
       "      <th>0</th>\n",
       "      <td>1</td>\n",
       "      <td>0.0</td>\n",
       "      <td>3</td>\n",
       "      <td>male</td>\n",
       "      <td>0</td>\n",
       "      <td>0</td>\n",
       "      <td>S</td>\n",
       "      <td>0</td>\n",
       "      <td>Mr</td>\n",
       "      <td>U</td>\n",
       "      <td>1</td>\n",
       "    </tr>\n",
       "    <tr>\n",
       "      <th>1</th>\n",
       "      <td>2</td>\n",
       "      <td>1.0</td>\n",
       "      <td>1</td>\n",
       "      <td>female</td>\n",
       "      <td>0</td>\n",
       "      <td>3</td>\n",
       "      <td>C</td>\n",
       "      <td>0</td>\n",
       "      <td>Mrs</td>\n",
       "      <td>C</td>\n",
       "      <td>1</td>\n",
       "    </tr>\n",
       "    <tr>\n",
       "      <th>2</th>\n",
       "      <td>3</td>\n",
       "      <td>1.0</td>\n",
       "      <td>3</td>\n",
       "      <td>female</td>\n",
       "      <td>0</td>\n",
       "      <td>1</td>\n",
       "      <td>S</td>\n",
       "      <td>0</td>\n",
       "      <td>Miss</td>\n",
       "      <td>U</td>\n",
       "      <td>0</td>\n",
       "    </tr>\n",
       "    <tr>\n",
       "      <th>3</th>\n",
       "      <td>4</td>\n",
       "      <td>1.0</td>\n",
       "      <td>1</td>\n",
       "      <td>female</td>\n",
       "      <td>0</td>\n",
       "      <td>3</td>\n",
       "      <td>S</td>\n",
       "      <td>0</td>\n",
       "      <td>Mrs</td>\n",
       "      <td>C</td>\n",
       "      <td>1</td>\n",
       "    </tr>\n",
       "    <tr>\n",
       "      <th>4</th>\n",
       "      <td>5</td>\n",
       "      <td>0.0</td>\n",
       "      <td>3</td>\n",
       "      <td>male</td>\n",
       "      <td>0</td>\n",
       "      <td>1</td>\n",
       "      <td>S</td>\n",
       "      <td>0</td>\n",
       "      <td>Mr</td>\n",
       "      <td>U</td>\n",
       "      <td>0</td>\n",
       "    </tr>\n",
       "  </tbody>\n",
       "</table>\n",
       "</div>"
      ],
      "text/plain": [
       "   PassengerId  Survived  Pclass     Sex  Age  Fare Embarked  test_flag Title  \\\n",
       "0            1       0.0       3    male    0     0        S          0    Mr   \n",
       "1            2       1.0       1  female    0     3        C          0   Mrs   \n",
       "2            3       1.0       3  female    0     1        S          0  Miss   \n",
       "3            4       1.0       1  female    0     3        S          0   Mrs   \n",
       "4            5       0.0       3    male    0     1        S          0    Mr   \n",
       "\n",
       "  Cabin_Class  FamilySize  \n",
       "0           U           1  \n",
       "1           C           1  \n",
       "2           U           0  \n",
       "3           C           1  \n",
       "4           U           0  "
      ]
     },
     "execution_count": 23,
     "metadata": {},
     "output_type": "execute_result"
    }
   ],
   "source": [
    "df_subset.head()"
   ]
  },
  {
   "cell_type": "code",
   "execution_count": 24,
   "id": "incoming-bridges",
   "metadata": {
    "execution": {
     "iopub.execute_input": "2021-06-27T16:20:29.620471Z",
     "iopub.status.busy": "2021-06-27T16:20:29.619692Z",
     "iopub.status.idle": "2021-06-27T16:20:29.635637Z",
     "shell.execute_reply": "2021-06-27T16:20:29.635037Z",
     "shell.execute_reply.started": "2021-06-27T16:15:58.914894Z"
    },
    "papermill": {
     "duration": 0.052325,
     "end_time": "2021-06-27T16:20:29.635771",
     "exception": false,
     "start_time": "2021-06-27T16:20:29.583446",
     "status": "completed"
    },
    "tags": []
   },
   "outputs": [
    {
     "data": {
      "text/html": [
       "<div>\n",
       "<style scoped>\n",
       "    .dataframe tbody tr th:only-of-type {\n",
       "        vertical-align: middle;\n",
       "    }\n",
       "\n",
       "    .dataframe tbody tr th {\n",
       "        vertical-align: top;\n",
       "    }\n",
       "\n",
       "    .dataframe thead th {\n",
       "        text-align: right;\n",
       "    }\n",
       "</style>\n",
       "<table border=\"1\" class=\"dataframe\">\n",
       "  <thead>\n",
       "    <tr style=\"text-align: right;\">\n",
       "      <th></th>\n",
       "      <th>PassengerId</th>\n",
       "      <th>Survived</th>\n",
       "      <th>Pclass</th>\n",
       "      <th>Sex</th>\n",
       "      <th>Age</th>\n",
       "      <th>Fare</th>\n",
       "      <th>Embarked</th>\n",
       "      <th>test_flag</th>\n",
       "      <th>Title</th>\n",
       "      <th>Cabin_Class</th>\n",
       "      <th>FamilySize</th>\n",
       "    </tr>\n",
       "  </thead>\n",
       "  <tbody>\n",
       "    <tr>\n",
       "      <th>0</th>\n",
       "      <td>1</td>\n",
       "      <td>0.0</td>\n",
       "      <td>3</td>\n",
       "      <td>1</td>\n",
       "      <td>0</td>\n",
       "      <td>0</td>\n",
       "      <td>1</td>\n",
       "      <td>0</td>\n",
       "      <td>1</td>\n",
       "      <td>1</td>\n",
       "      <td>1</td>\n",
       "    </tr>\n",
       "    <tr>\n",
       "      <th>1</th>\n",
       "      <td>2</td>\n",
       "      <td>1.0</td>\n",
       "      <td>1</td>\n",
       "      <td>2</td>\n",
       "      <td>0</td>\n",
       "      <td>3</td>\n",
       "      <td>2</td>\n",
       "      <td>0</td>\n",
       "      <td>2</td>\n",
       "      <td>2</td>\n",
       "      <td>1</td>\n",
       "    </tr>\n",
       "    <tr>\n",
       "      <th>2</th>\n",
       "      <td>3</td>\n",
       "      <td>1.0</td>\n",
       "      <td>3</td>\n",
       "      <td>2</td>\n",
       "      <td>0</td>\n",
       "      <td>1</td>\n",
       "      <td>1</td>\n",
       "      <td>0</td>\n",
       "      <td>3</td>\n",
       "      <td>1</td>\n",
       "      <td>0</td>\n",
       "    </tr>\n",
       "    <tr>\n",
       "      <th>3</th>\n",
       "      <td>4</td>\n",
       "      <td>1.0</td>\n",
       "      <td>1</td>\n",
       "      <td>2</td>\n",
       "      <td>0</td>\n",
       "      <td>3</td>\n",
       "      <td>1</td>\n",
       "      <td>0</td>\n",
       "      <td>2</td>\n",
       "      <td>2</td>\n",
       "      <td>1</td>\n",
       "    </tr>\n",
       "    <tr>\n",
       "      <th>4</th>\n",
       "      <td>5</td>\n",
       "      <td>0.0</td>\n",
       "      <td>3</td>\n",
       "      <td>1</td>\n",
       "      <td>0</td>\n",
       "      <td>1</td>\n",
       "      <td>1</td>\n",
       "      <td>0</td>\n",
       "      <td>1</td>\n",
       "      <td>1</td>\n",
       "      <td>0</td>\n",
       "    </tr>\n",
       "  </tbody>\n",
       "</table>\n",
       "</div>"
      ],
      "text/plain": [
       "   PassengerId  Survived  Pclass  Sex  Age  Fare  Embarked  test_flag  Title  \\\n",
       "0            1       0.0       3    1    0     0         1          0      1   \n",
       "1            2       1.0       1    2    0     3         2          0      2   \n",
       "2            3       1.0       3    2    0     1         1          0      3   \n",
       "3            4       1.0       1    2    0     3         1          0      2   \n",
       "4            5       0.0       3    1    0     1         1          0      1   \n",
       "\n",
       "   Cabin_Class  FamilySize  \n",
       "0            1           1  \n",
       "1            2           1  \n",
       "2            1           0  \n",
       "3            2           1  \n",
       "4            1           0  "
      ]
     },
     "execution_count": 24,
     "metadata": {},
     "output_type": "execute_result"
    }
   ],
   "source": [
    "cols_new = ['Embarked', 'Title', 'Sex', 'Cabin_Class']\n",
    "\n",
    "for col in cols_new:\n",
    "    df_subset[col] = pd.factorize(df_subset[col])[0] + 1\n",
    "    \n",
    "df_subset.head()"
   ]
  },
  {
   "cell_type": "code",
   "execution_count": 25,
   "id": "bottom-private",
   "metadata": {
    "execution": {
     "iopub.execute_input": "2021-06-27T16:20:29.702415Z",
     "iopub.status.busy": "2021-06-27T16:20:29.701826Z",
     "iopub.status.idle": "2021-06-27T16:20:29.707352Z",
     "shell.execute_reply": "2021-06-27T16:20:29.706726Z",
     "shell.execute_reply.started": "2021-06-27T16:15:59.328063Z"
    },
    "papermill": {
     "duration": 0.040992,
     "end_time": "2021-06-27T16:20:29.707552",
     "exception": false,
     "start_time": "2021-06-27T16:20:29.666560",
     "status": "completed"
    },
    "tags": []
   },
   "outputs": [],
   "source": [
    "train_set = df_subset[df_subset['test_flag']==0]\n",
    "test_set = df_subset[df_subset['test_flag']==1]"
   ]
  },
  {
   "cell_type": "code",
   "execution_count": 26,
   "id": "opened-visit",
   "metadata": {
    "execution": {
     "iopub.execute_input": "2021-06-27T16:20:29.776820Z",
     "iopub.status.busy": "2021-06-27T16:20:29.776156Z",
     "iopub.status.idle": "2021-06-27T16:20:29.782818Z",
     "shell.execute_reply": "2021-06-27T16:20:29.783209Z",
     "shell.execute_reply.started": "2021-06-27T16:16:06.998525Z"
    },
    "papermill": {
     "duration": 0.041134,
     "end_time": "2021-06-27T16:20:29.783389",
     "exception": false,
     "start_time": "2021-06-27T16:20:29.742255",
     "status": "completed"
    },
    "tags": []
   },
   "outputs": [
    {
     "name": "stderr",
     "output_type": "stream",
     "text": [
      "/opt/conda/lib/python3.7/site-packages/ipykernel_launcher.py:1: SettingWithCopyWarning: \n",
      "A value is trying to be set on a copy of a slice from a DataFrame.\n",
      "Try using .loc[row_indexer,col_indexer] = value instead\n",
      "\n",
      "See the caveats in the documentation: https://pandas.pydata.org/pandas-docs/stable/user_guide/indexing.html#returning-a-view-versus-a-copy\n",
      "  \"\"\"Entry point for launching an IPython kernel.\n"
     ]
    }
   ],
   "source": [
    "train_set['Survived'] = train_set['Survived'].astype(int)"
   ]
  },
  {
   "cell_type": "code",
   "execution_count": 27,
   "id": "considerable-durham",
   "metadata": {
    "execution": {
     "iopub.execute_input": "2021-06-27T16:20:29.851832Z",
     "iopub.status.busy": "2021-06-27T16:20:29.851080Z",
     "iopub.status.idle": "2021-06-27T16:20:29.856333Z",
     "shell.execute_reply": "2021-06-27T16:20:29.855512Z",
     "shell.execute_reply.started": "2021-06-27T16:16:09.536097Z"
    },
    "papermill": {
     "duration": 0.042178,
     "end_time": "2021-06-27T16:20:29.856637",
     "exception": false,
     "start_time": "2021-06-27T16:20:29.814459",
     "status": "completed"
    },
    "tags": []
   },
   "outputs": [
    {
     "name": "stdout",
     "output_type": "stream",
     "text": [
      "(891, 11)\n",
      "(418, 11)\n"
     ]
    }
   ],
   "source": [
    "print(train_set.shape)\n",
    "print(test_set.shape)"
   ]
  },
  {
   "cell_type": "code",
   "execution_count": 28,
   "id": "controversial-store",
   "metadata": {
    "execution": {
     "iopub.execute_input": "2021-06-27T16:20:29.924211Z",
     "iopub.status.busy": "2021-06-27T16:20:29.923634Z",
     "iopub.status.idle": "2021-06-27T16:20:29.929224Z",
     "shell.execute_reply": "2021-06-27T16:20:29.929702Z",
     "shell.execute_reply.started": "2021-06-27T16:16:10.926283Z"
    },
    "papermill": {
     "duration": 0.040199,
     "end_time": "2021-06-27T16:20:29.929890",
     "exception": false,
     "start_time": "2021-06-27T16:20:29.889691",
     "status": "completed"
    },
    "tags": []
   },
   "outputs": [],
   "source": [
    "test_set = test_set.drop(['Survived', 'test_flag'], axis = 1)\n",
    "train_set = train_set.drop(['test_flag'], axis = 1)"
   ]
  },
  {
   "cell_type": "code",
   "execution_count": 29,
   "id": "stupid-contest",
   "metadata": {
    "execution": {
     "iopub.execute_input": "2021-06-27T16:20:29.997165Z",
     "iopub.status.busy": "2021-06-27T16:20:29.996591Z",
     "iopub.status.idle": "2021-06-27T16:20:30.009396Z",
     "shell.execute_reply": "2021-06-27T16:20:30.008821Z",
     "shell.execute_reply.started": "2021-06-27T15:21:02.993924Z"
    },
    "papermill": {
     "duration": 0.047833,
     "end_time": "2021-06-27T16:20:30.009562",
     "exception": false,
     "start_time": "2021-06-27T16:20:29.961729",
     "status": "completed"
    },
    "tags": []
   },
   "outputs": [
    {
     "data": {
      "text/html": [
       "<div>\n",
       "<style scoped>\n",
       "    .dataframe tbody tr th:only-of-type {\n",
       "        vertical-align: middle;\n",
       "    }\n",
       "\n",
       "    .dataframe tbody tr th {\n",
       "        vertical-align: top;\n",
       "    }\n",
       "\n",
       "    .dataframe thead th {\n",
       "        text-align: right;\n",
       "    }\n",
       "</style>\n",
       "<table border=\"1\" class=\"dataframe\">\n",
       "  <thead>\n",
       "    <tr style=\"text-align: right;\">\n",
       "      <th></th>\n",
       "      <th>PassengerId</th>\n",
       "      <th>Survived</th>\n",
       "      <th>Pclass</th>\n",
       "      <th>Sex</th>\n",
       "      <th>Age</th>\n",
       "      <th>Fare</th>\n",
       "      <th>Embarked</th>\n",
       "      <th>Title</th>\n",
       "      <th>Cabin_Class</th>\n",
       "      <th>FamilySize</th>\n",
       "    </tr>\n",
       "  </thead>\n",
       "  <tbody>\n",
       "    <tr>\n",
       "      <th>0</th>\n",
       "      <td>1</td>\n",
       "      <td>0</td>\n",
       "      <td>3</td>\n",
       "      <td>1</td>\n",
       "      <td>0</td>\n",
       "      <td>0</td>\n",
       "      <td>1</td>\n",
       "      <td>1</td>\n",
       "      <td>1</td>\n",
       "      <td>1</td>\n",
       "    </tr>\n",
       "    <tr>\n",
       "      <th>1</th>\n",
       "      <td>2</td>\n",
       "      <td>1</td>\n",
       "      <td>1</td>\n",
       "      <td>2</td>\n",
       "      <td>0</td>\n",
       "      <td>3</td>\n",
       "      <td>2</td>\n",
       "      <td>2</td>\n",
       "      <td>2</td>\n",
       "      <td>1</td>\n",
       "    </tr>\n",
       "    <tr>\n",
       "      <th>2</th>\n",
       "      <td>3</td>\n",
       "      <td>1</td>\n",
       "      <td>3</td>\n",
       "      <td>2</td>\n",
       "      <td>0</td>\n",
       "      <td>1</td>\n",
       "      <td>1</td>\n",
       "      <td>3</td>\n",
       "      <td>1</td>\n",
       "      <td>0</td>\n",
       "    </tr>\n",
       "    <tr>\n",
       "      <th>3</th>\n",
       "      <td>4</td>\n",
       "      <td>1</td>\n",
       "      <td>1</td>\n",
       "      <td>2</td>\n",
       "      <td>0</td>\n",
       "      <td>3</td>\n",
       "      <td>1</td>\n",
       "      <td>2</td>\n",
       "      <td>2</td>\n",
       "      <td>1</td>\n",
       "    </tr>\n",
       "    <tr>\n",
       "      <th>4</th>\n",
       "      <td>5</td>\n",
       "      <td>0</td>\n",
       "      <td>3</td>\n",
       "      <td>1</td>\n",
       "      <td>0</td>\n",
       "      <td>1</td>\n",
       "      <td>1</td>\n",
       "      <td>1</td>\n",
       "      <td>1</td>\n",
       "      <td>0</td>\n",
       "    </tr>\n",
       "  </tbody>\n",
       "</table>\n",
       "</div>"
      ],
      "text/plain": [
       "   PassengerId  Survived  Pclass  Sex  Age  Fare  Embarked  Title  \\\n",
       "0            1         0       3    1    0     0         1      1   \n",
       "1            2         1       1    2    0     3         2      2   \n",
       "2            3         1       3    2    0     1         1      3   \n",
       "3            4         1       1    2    0     3         1      2   \n",
       "4            5         0       3    1    0     1         1      1   \n",
       "\n",
       "   Cabin_Class  FamilySize  \n",
       "0            1           1  \n",
       "1            2           1  \n",
       "2            1           0  \n",
       "3            2           1  \n",
       "4            1           0  "
      ]
     },
     "execution_count": 29,
     "metadata": {},
     "output_type": "execute_result"
    }
   ],
   "source": [
    "train_set.head(5)"
   ]
  },
  {
   "cell_type": "code",
   "execution_count": 30,
   "id": "thick-botswana",
   "metadata": {
    "execution": {
     "iopub.execute_input": "2021-06-27T16:20:30.080188Z",
     "iopub.status.busy": "2021-06-27T16:20:30.079520Z",
     "iopub.status.idle": "2021-06-27T16:20:31.139594Z",
     "shell.execute_reply": "2021-06-27T16:20:31.138183Z",
     "shell.execute_reply.started": "2021-06-27T16:17:28.047567Z"
    },
    "papermill": {
     "duration": 1.097296,
     "end_time": "2021-06-27T16:20:31.139786",
     "exception": false,
     "start_time": "2021-06-27T16:20:30.042490",
     "status": "completed"
    },
    "tags": []
   },
   "outputs": [],
   "source": [
    "from sklearn.model_selection import train_test_split\n",
    "\n",
    "X = train_set[['Age', 'Sex', 'Embarked', 'Title', 'Pclass', 'FamilySize']]\n",
    "y = train_set[['Survived']]"
   ]
  },
  {
   "cell_type": "code",
   "execution_count": 31,
   "id": "consistent-huntington",
   "metadata": {
    "execution": {
     "iopub.execute_input": "2021-06-27T16:20:31.210088Z",
     "iopub.status.busy": "2021-06-27T16:20:31.209392Z",
     "iopub.status.idle": "2021-06-27T16:20:31.217280Z",
     "shell.execute_reply": "2021-06-27T16:20:31.217791Z",
     "shell.execute_reply.started": "2021-06-27T16:17:29.491303Z"
    },
    "papermill": {
     "duration": 0.046087,
     "end_time": "2021-06-27T16:20:31.217960",
     "exception": false,
     "start_time": "2021-06-27T16:20:31.171873",
     "status": "completed"
    },
    "tags": []
   },
   "outputs": [
    {
     "name": "stdout",
     "output_type": "stream",
     "text": [
      "(596, 6) (596, 1)\n",
      "(295, 6) (295, 1)\n"
     ]
    }
   ],
   "source": [
    "X_train, X_test, y_train, y_test = train_test_split(X, y, test_size = 0.33, random_state = 42)\n",
    "\n",
    "print(X_train.shape, y_train.shape)\n",
    "print(X_test.shape, y_test.shape)"
   ]
  },
  {
   "cell_type": "code",
   "execution_count": 32,
   "id": "hollywood-contemporary",
   "metadata": {
    "execution": {
     "iopub.execute_input": "2021-06-27T16:20:31.292459Z",
     "iopub.status.busy": "2021-06-27T16:20:31.291597Z",
     "iopub.status.idle": "2021-06-27T16:20:31.296644Z",
     "shell.execute_reply": "2021-06-27T16:20:31.296048Z",
     "shell.execute_reply.started": "2021-06-27T16:17:32.015087Z"
    },
    "papermill": {
     "duration": 0.047044,
     "end_time": "2021-06-27T16:20:31.296778",
     "exception": false,
     "start_time": "2021-06-27T16:20:31.249734",
     "status": "completed"
    },
    "tags": []
   },
   "outputs": [
    {
     "data": {
      "text/html": [
       "<div>\n",
       "<style scoped>\n",
       "    .dataframe tbody tr th:only-of-type {\n",
       "        vertical-align: middle;\n",
       "    }\n",
       "\n",
       "    .dataframe tbody tr th {\n",
       "        vertical-align: top;\n",
       "    }\n",
       "\n",
       "    .dataframe thead th {\n",
       "        text-align: right;\n",
       "    }\n",
       "</style>\n",
       "<table border=\"1\" class=\"dataframe\">\n",
       "  <thead>\n",
       "    <tr style=\"text-align: right;\">\n",
       "      <th></th>\n",
       "      <th>Age</th>\n",
       "      <th>Sex</th>\n",
       "      <th>Embarked</th>\n",
       "      <th>Title</th>\n",
       "      <th>Pclass</th>\n",
       "      <th>FamilySize</th>\n",
       "    </tr>\n",
       "  </thead>\n",
       "  <tbody>\n",
       "    <tr>\n",
       "      <th>709</th>\n",
       "      <td>0</td>\n",
       "      <td>1</td>\n",
       "      <td>2</td>\n",
       "      <td>4</td>\n",
       "      <td>3</td>\n",
       "      <td>1</td>\n",
       "    </tr>\n",
       "    <tr>\n",
       "      <th>439</th>\n",
       "      <td>0</td>\n",
       "      <td>1</td>\n",
       "      <td>1</td>\n",
       "      <td>1</td>\n",
       "      <td>2</td>\n",
       "      <td>0</td>\n",
       "    </tr>\n",
       "    <tr>\n",
       "      <th>840</th>\n",
       "      <td>0</td>\n",
       "      <td>1</td>\n",
       "      <td>1</td>\n",
       "      <td>1</td>\n",
       "      <td>3</td>\n",
       "      <td>0</td>\n",
       "    </tr>\n",
       "    <tr>\n",
       "      <th>720</th>\n",
       "      <td>1</td>\n",
       "      <td>2</td>\n",
       "      <td>1</td>\n",
       "      <td>3</td>\n",
       "      <td>2</td>\n",
       "      <td>1</td>\n",
       "    </tr>\n",
       "    <tr>\n",
       "      <th>39</th>\n",
       "      <td>1</td>\n",
       "      <td>2</td>\n",
       "      <td>2</td>\n",
       "      <td>3</td>\n",
       "      <td>3</td>\n",
       "      <td>1</td>\n",
       "    </tr>\n",
       "  </tbody>\n",
       "</table>\n",
       "</div>"
      ],
      "text/plain": [
       "     Age  Sex  Embarked  Title  Pclass  FamilySize\n",
       "709    0    1         2      4       3           1\n",
       "439    0    1         1      1       2           0\n",
       "840    0    1         1      1       3           0\n",
       "720    1    2         1      3       2           1\n",
       "39     1    2         2      3       3           1"
      ]
     },
     "execution_count": 32,
     "metadata": {},
     "output_type": "execute_result"
    }
   ],
   "source": [
    "X_test.head()"
   ]
  },
  {
   "cell_type": "code",
   "execution_count": 33,
   "id": "ceramic-alabama",
   "metadata": {
    "execution": {
     "iopub.execute_input": "2021-06-27T16:20:31.365707Z",
     "iopub.status.busy": "2021-06-27T16:20:31.365038Z",
     "iopub.status.idle": "2021-06-27T16:20:31.506954Z",
     "shell.execute_reply": "2021-06-27T16:20:31.507697Z",
     "shell.execute_reply.started": "2021-06-27T16:17:34.908432Z"
    },
    "papermill": {
     "duration": 0.179308,
     "end_time": "2021-06-27T16:20:31.508061",
     "exception": false,
     "start_time": "2021-06-27T16:20:31.328753",
     "status": "completed"
    },
    "tags": []
   },
   "outputs": [
    {
     "name": "stderr",
     "output_type": "stream",
     "text": [
      "/opt/conda/lib/python3.7/site-packages/sklearn/utils/validation.py:63: DataConversionWarning: A column-vector y was passed when a 1d array was expected. Please change the shape of y to (n_samples, ), for example using ravel().\n",
      "  return f(*args, **kwargs)\n"
     ]
    },
    {
     "data": {
      "text/plain": [
       "80.2"
      ]
     },
     "execution_count": 33,
     "metadata": {},
     "output_type": "execute_result"
    }
   ],
   "source": [
    "# Logistic Regression Model\n",
    "\n",
    "from sklearn.linear_model import LogisticRegression\n",
    "\n",
    "logreg = LogisticRegression()\n",
    "logistic_model = logreg.fit(X_train, y_train)\n",
    "predictions = logistic_model.predict(X_test)\n",
    "\n",
    "acc_logistic_regressions = round(logistic_model.score(X_train, y_train) * 100, 2)\n",
    "acc_logistic_regressions"
   ]
  },
  {
   "cell_type": "code",
   "execution_count": 34,
   "id": "secret-lending",
   "metadata": {
    "execution": {
     "iopub.execute_input": "2021-06-27T16:20:31.579860Z",
     "iopub.status.busy": "2021-06-27T16:20:31.579190Z",
     "iopub.status.idle": "2021-06-27T16:20:31.695156Z",
     "shell.execute_reply": "2021-06-27T16:20:31.694632Z",
     "shell.execute_reply.started": "2021-06-27T16:17:37.498456Z"
    },
    "papermill": {
     "duration": 0.153749,
     "end_time": "2021-06-27T16:20:31.695333",
     "exception": false,
     "start_time": "2021-06-27T16:20:31.541584",
     "status": "completed"
    },
    "tags": []
   },
   "outputs": [
    {
     "data": {
      "text/plain": [
       "85.57"
      ]
     },
     "execution_count": 34,
     "metadata": {},
     "output_type": "execute_result"
    }
   ],
   "source": [
    "# Decision Tree model\n",
    "from sklearn.tree import DecisionTreeClassifier\n",
    "\n",
    "dec_tree = DecisionTreeClassifier()\n",
    "decision_tree = dec_tree.fit(X_train, y_train)\n",
    "prediction_tree = decision_tree.predict(X_test)\n",
    "\n",
    "acc_decision_tree = round(decision_tree.score(X_train, y_train) * 100, 2)\n",
    "acc_decision_tree"
   ]
  },
  {
   "cell_type": "code",
   "execution_count": 35,
   "id": "british-microphone",
   "metadata": {
    "execution": {
     "iopub.execute_input": "2021-06-27T16:20:31.766057Z",
     "iopub.status.busy": "2021-06-27T16:20:31.765367Z",
     "iopub.status.idle": "2021-06-27T16:20:31.983251Z",
     "shell.execute_reply": "2021-06-27T16:20:31.983986Z",
     "shell.execute_reply.started": "2021-06-27T16:17:39.870837Z"
    },
    "papermill": {
     "duration": 0.256007,
     "end_time": "2021-06-27T16:20:31.984257",
     "exception": false,
     "start_time": "2021-06-27T16:20:31.728250",
     "status": "completed"
    },
    "tags": []
   },
   "outputs": [
    {
     "name": "stderr",
     "output_type": "stream",
     "text": [
      "/opt/conda/lib/python3.7/site-packages/ipykernel_launcher.py:6: DataConversionWarning: A column-vector y was passed when a 1d array was expected. Please change the shape of y to (n_samples,), for example using ravel().\n",
      "  \n"
     ]
    },
    {
     "data": {
      "text/plain": [
       "85.57"
      ]
     },
     "execution_count": 35,
     "metadata": {},
     "output_type": "execute_result"
    }
   ],
   "source": [
    "# Random Forest Model\n",
    "\n",
    "from sklearn.ensemble import RandomForestClassifier\n",
    "\n",
    "rf = RandomForestClassifier(n_estimators=100)\n",
    "random_forest = rf.fit(X_train, y_train)\n",
    "prediction_forest = random_forest.predict(X_test)\n",
    "\n",
    "acc_random_forest = round(random_forest.score(X_train, y_train) * 100, 2)\n",
    "acc_random_forest"
   ]
  },
  {
   "cell_type": "code",
   "execution_count": 36,
   "id": "verbal-render",
   "metadata": {
    "execution": {
     "iopub.execute_input": "2021-06-27T16:20:32.059646Z",
     "iopub.status.busy": "2021-06-27T16:20:32.058747Z",
     "iopub.status.idle": "2021-06-27T16:20:32.077244Z",
     "shell.execute_reply": "2021-06-27T16:20:32.076304Z",
     "shell.execute_reply.started": "2021-06-27T16:17:42.779114Z"
    },
    "papermill": {
     "duration": 0.05801,
     "end_time": "2021-06-27T16:20:32.077487",
     "exception": false,
     "start_time": "2021-06-27T16:20:32.019477",
     "status": "completed"
    },
    "tags": []
   },
   "outputs": [
    {
     "name": "stderr",
     "output_type": "stream",
     "text": [
      "/opt/conda/lib/python3.7/site-packages/sklearn/utils/validation.py:63: DataConversionWarning: A column-vector y was passed when a 1d array was expected. Please change the shape of y to (n_samples, ), for example using ravel().\n",
      "  return f(*args, **kwargs)\n"
     ]
    },
    {
     "data": {
      "text/plain": [
       "77.68"
      ]
     },
     "execution_count": 36,
     "metadata": {},
     "output_type": "execute_result"
    }
   ],
   "source": [
    "# Naive Bayes\n",
    "\n",
    "from sklearn.naive_bayes import GaussianNB\n",
    "\n",
    "gnb = GaussianNB()\n",
    "gaussian = gnb.fit(X_train, y_train)\n",
    "prediction_naive = gaussian.predict(X_test)\n",
    "\n",
    "acc_gaussian = round(gaussian.score(X_train, y_train) * 100, 2)\n",
    "acc_gaussian"
   ]
  },
  {
   "cell_type": "code",
   "execution_count": 37,
   "id": "damaged-clark",
   "metadata": {
    "execution": {
     "iopub.execute_input": "2021-06-27T16:20:32.157511Z",
     "iopub.status.busy": "2021-06-27T16:20:32.156842Z",
     "iopub.status.idle": "2021-06-27T16:20:32.168677Z",
     "shell.execute_reply": "2021-06-27T16:20:32.169066Z",
     "shell.execute_reply.started": "2021-06-27T16:17:44.514886Z"
    },
    "papermill": {
     "duration": 0.055506,
     "end_time": "2021-06-27T16:20:32.169267",
     "exception": false,
     "start_time": "2021-06-27T16:20:32.113761",
     "status": "completed"
    },
    "tags": []
   },
   "outputs": [
    {
     "name": "stderr",
     "output_type": "stream",
     "text": [
      "/opt/conda/lib/python3.7/site-packages/sklearn/utils/validation.py:63: DataConversionWarning: A column-vector y was passed when a 1d array was expected. Please change the shape of y to (n_samples, ), for example using ravel().\n",
      "  return f(*args, **kwargs)\n"
     ]
    },
    {
     "data": {
      "text/plain": [
       "79.03"
      ]
     },
     "execution_count": 37,
     "metadata": {},
     "output_type": "execute_result"
    }
   ],
   "source": [
    "# Perceptron Model\n",
    "\n",
    "from sklearn.linear_model import Perceptron\n",
    "\n",
    "pcp = Perceptron()\n",
    "perceptron = pcp.fit(X_train, y_train)\n",
    "prediction_perceptron = perceptron.predict(X_test)\n",
    "\n",
    "acc_perceptron = round(perceptron.score(X_train, y_train) * 100, 2)\n",
    "acc_perceptron"
   ]
  },
  {
   "cell_type": "markdown",
   "id": "noted-hundred",
   "metadata": {
    "papermill": {
     "duration": 0.034888,
     "end_time": "2021-06-27T16:20:32.238752",
     "exception": false,
     "start_time": "2021-06-27T16:20:32.203864",
     "status": "completed"
    },
    "tags": []
   },
   "source": [
    "### Use the section below to submit on the test set"
   ]
  },
  {
   "cell_type": "code",
   "execution_count": 38,
   "id": "center-pharmacology",
   "metadata": {
    "execution": {
     "iopub.execute_input": "2021-06-27T16:20:32.318790Z",
     "iopub.status.busy": "2021-06-27T16:20:32.317960Z",
     "iopub.status.idle": "2021-06-27T16:20:32.321411Z",
     "shell.execute_reply": "2021-06-27T16:20:32.321847Z",
     "shell.execute_reply.started": "2021-06-27T16:18:01.405011Z"
    },
    "papermill": {
     "duration": 0.048496,
     "end_time": "2021-06-27T16:20:32.322006",
     "exception": false,
     "start_time": "2021-06-27T16:20:32.273510",
     "status": "completed"
    },
    "tags": []
   },
   "outputs": [
    {
     "data": {
      "text/html": [
       "<div>\n",
       "<style scoped>\n",
       "    .dataframe tbody tr th:only-of-type {\n",
       "        vertical-align: middle;\n",
       "    }\n",
       "\n",
       "    .dataframe tbody tr th {\n",
       "        vertical-align: top;\n",
       "    }\n",
       "\n",
       "    .dataframe thead th {\n",
       "        text-align: right;\n",
       "    }\n",
       "</style>\n",
       "<table border=\"1\" class=\"dataframe\">\n",
       "  <thead>\n",
       "    <tr style=\"text-align: right;\">\n",
       "      <th></th>\n",
       "      <th>Age</th>\n",
       "      <th>Sex</th>\n",
       "      <th>Embarked</th>\n",
       "      <th>Title</th>\n",
       "      <th>Pclass</th>\n",
       "      <th>FamilySize</th>\n",
       "    </tr>\n",
       "  </thead>\n",
       "  <tbody>\n",
       "    <tr>\n",
       "      <th>0</th>\n",
       "      <td>0</td>\n",
       "      <td>1</td>\n",
       "      <td>3</td>\n",
       "      <td>1</td>\n",
       "      <td>3</td>\n",
       "      <td>0</td>\n",
       "    </tr>\n",
       "    <tr>\n",
       "      <th>1</th>\n",
       "      <td>0</td>\n",
       "      <td>2</td>\n",
       "      <td>1</td>\n",
       "      <td>2</td>\n",
       "      <td>3</td>\n",
       "      <td>1</td>\n",
       "    </tr>\n",
       "    <tr>\n",
       "      <th>2</th>\n",
       "      <td>0</td>\n",
       "      <td>1</td>\n",
       "      <td>3</td>\n",
       "      <td>1</td>\n",
       "      <td>2</td>\n",
       "      <td>0</td>\n",
       "    </tr>\n",
       "    <tr>\n",
       "      <th>3</th>\n",
       "      <td>0</td>\n",
       "      <td>1</td>\n",
       "      <td>1</td>\n",
       "      <td>1</td>\n",
       "      <td>3</td>\n",
       "      <td>0</td>\n",
       "    </tr>\n",
       "    <tr>\n",
       "      <th>4</th>\n",
       "      <td>0</td>\n",
       "      <td>2</td>\n",
       "      <td>1</td>\n",
       "      <td>2</td>\n",
       "      <td>3</td>\n",
       "      <td>1</td>\n",
       "    </tr>\n",
       "  </tbody>\n",
       "</table>\n",
       "</div>"
      ],
      "text/plain": [
       "   Age  Sex  Embarked  Title  Pclass  FamilySize\n",
       "0    0    1         3      1       3           0\n",
       "1    0    2         1      2       3           1\n",
       "2    0    1         3      1       2           0\n",
       "3    0    1         1      1       3           0\n",
       "4    0    2         1      2       3           1"
      ]
     },
     "execution_count": 38,
     "metadata": {},
     "output_type": "execute_result"
    }
   ],
   "source": [
    "test_feature = test_set[['Age', 'Sex', 'Embarked', 'Title', 'Pclass', 'FamilySize']]\n",
    "test_id = test_set['PassengerId']\n",
    "test_feature.head()"
   ]
  },
  {
   "cell_type": "code",
   "execution_count": 39,
   "id": "sixth-sheffield",
   "metadata": {
    "execution": {
     "iopub.execute_input": "2021-06-27T16:20:32.393994Z",
     "iopub.status.busy": "2021-06-27T16:20:32.393163Z",
     "iopub.status.idle": "2021-06-27T16:20:32.413552Z",
     "shell.execute_reply": "2021-06-27T16:20:32.413966Z",
     "shell.execute_reply.started": "2021-06-27T16:18:35.506730Z"
    },
    "papermill": {
     "duration": 0.057918,
     "end_time": "2021-06-27T16:20:32.414137",
     "exception": false,
     "start_time": "2021-06-27T16:20:32.356219",
     "status": "completed"
    },
    "tags": []
   },
   "outputs": [],
   "source": [
    "test_predictions = random_forest.predict(test_feature)"
   ]
  },
  {
   "cell_type": "code",
   "execution_count": 40,
   "id": "floppy-client",
   "metadata": {
    "execution": {
     "iopub.execute_input": "2021-06-27T16:20:32.486358Z",
     "iopub.status.busy": "2021-06-27T16:20:32.485490Z",
     "iopub.status.idle": "2021-06-27T16:20:32.494378Z",
     "shell.execute_reply": "2021-06-27T16:20:32.494802Z",
     "shell.execute_reply.started": "2021-06-27T16:18:37.246660Z"
    },
    "papermill": {
     "duration": 0.046414,
     "end_time": "2021-06-27T16:20:32.494963",
     "exception": false,
     "start_time": "2021-06-27T16:20:32.448549",
     "status": "completed"
    },
    "tags": []
   },
   "outputs": [
    {
     "data": {
      "text/html": [
       "<div>\n",
       "<style scoped>\n",
       "    .dataframe tbody tr th:only-of-type {\n",
       "        vertical-align: middle;\n",
       "    }\n",
       "\n",
       "    .dataframe tbody tr th {\n",
       "        vertical-align: top;\n",
       "    }\n",
       "\n",
       "    .dataframe thead th {\n",
       "        text-align: right;\n",
       "    }\n",
       "</style>\n",
       "<table border=\"1\" class=\"dataframe\">\n",
       "  <thead>\n",
       "    <tr style=\"text-align: right;\">\n",
       "      <th></th>\n",
       "      <th>PassengerId</th>\n",
       "      <th>Survived</th>\n",
       "    </tr>\n",
       "  </thead>\n",
       "  <tbody>\n",
       "    <tr>\n",
       "      <th>0</th>\n",
       "      <td>892</td>\n",
       "      <td>0</td>\n",
       "    </tr>\n",
       "    <tr>\n",
       "      <th>1</th>\n",
       "      <td>893</td>\n",
       "      <td>1</td>\n",
       "    </tr>\n",
       "    <tr>\n",
       "      <th>2</th>\n",
       "      <td>894</td>\n",
       "      <td>0</td>\n",
       "    </tr>\n",
       "    <tr>\n",
       "      <th>3</th>\n",
       "      <td>895</td>\n",
       "      <td>0</td>\n",
       "    </tr>\n",
       "    <tr>\n",
       "      <th>4</th>\n",
       "      <td>896</td>\n",
       "      <td>1</td>\n",
       "    </tr>\n",
       "  </tbody>\n",
       "</table>\n",
       "</div>"
      ],
      "text/plain": [
       "   PassengerId  Survived\n",
       "0          892         0\n",
       "1          893         1\n",
       "2          894         0\n",
       "3          895         0\n",
       "4          896         1"
      ]
     },
     "execution_count": 40,
     "metadata": {},
     "output_type": "execute_result"
    }
   ],
   "source": [
    "output = pd.DataFrame({'PassengerId' : test_id, 'Survived': test_predictions})\n",
    "output.head()"
   ]
  },
  {
   "cell_type": "code",
   "execution_count": 41,
   "id": "naughty-grounds",
   "metadata": {
    "execution": {
     "iopub.execute_input": "2021-06-27T16:20:32.567672Z",
     "iopub.status.busy": "2021-06-27T16:20:32.566787Z",
     "iopub.status.idle": "2021-06-27T16:20:32.570287Z",
     "shell.execute_reply": "2021-06-27T16:20:32.570790Z"
    },
    "papermill": {
     "duration": 0.041253,
     "end_time": "2021-06-27T16:20:32.570977",
     "exception": false,
     "start_time": "2021-06-27T16:20:32.529724",
     "status": "completed"
    },
    "tags": []
   },
   "outputs": [],
   "source": [
    "# Use this data type conversion for the output feature, if the score comes as 0 in submission\n",
    "\n",
    "# model.predict(test_data).astype(int)"
   ]
  },
  {
   "cell_type": "code",
   "execution_count": 42,
   "id": "royal-difference",
   "metadata": {
    "execution": {
     "iopub.execute_input": "2021-06-27T16:20:32.649067Z",
     "iopub.status.busy": "2021-06-27T16:20:32.648449Z",
     "iopub.status.idle": "2021-06-27T16:20:32.657842Z",
     "shell.execute_reply": "2021-06-27T16:20:32.657208Z",
     "shell.execute_reply.started": "2021-06-27T16:18:40.524011Z"
    },
    "papermill": {
     "duration": 0.051007,
     "end_time": "2021-06-27T16:20:32.657988",
     "exception": false,
     "start_time": "2021-06-27T16:20:32.606981",
     "status": "completed"
    },
    "tags": []
   },
   "outputs": [],
   "source": [
    "output.to_csv('/kaggle/working/submission.csv', index=False)"
   ]
  }
 ],
 "metadata": {
  "kernelspec": {
   "display_name": "Python 3",
   "language": "python",
   "name": "python3"
  },
  "language_info": {
   "codemirror_mode": {
    "name": "ipython",
    "version": 3
   },
   "file_extension": ".py",
   "mimetype": "text/x-python",
   "name": "python",
   "nbconvert_exporter": "python",
   "pygments_lexer": "ipython3",
   "version": "3.7.10"
  },
  "papermill": {
   "default_parameters": {},
   "duration": 13.85939,
   "end_time": "2021-06-27T16:20:34.007185",
   "environment_variables": {},
   "exception": null,
   "input_path": "__notebook__.ipynb",
   "output_path": "__notebook__.ipynb",
   "parameters": {},
   "start_time": "2021-06-27T16:20:20.147795",
   "version": "2.3.3"
  }
 },
 "nbformat": 4,
 "nbformat_minor": 5
}
