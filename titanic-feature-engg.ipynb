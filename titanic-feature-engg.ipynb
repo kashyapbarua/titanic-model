{
 "cells": [
  {
   "cell_type": "markdown",
   "id": "approximate-store",
   "metadata": {
    "papermill": {
     "duration": 0.045425,
     "end_time": "2021-06-27T15:36:20.950611",
     "exception": false,
     "start_time": "2021-06-27T15:36:20.905186",
     "status": "completed"
    },
    "tags": []
   },
   "source": [
    "## Titanic Disaster Dataset Feature Engineering\n",
    "\n",
    "This notebook is an attempt towards kick-starting my way around the Titanic dataset to improve my model scores based on feature engineering techniques.\n",
    "This is not going to be an extensive EDA notebook for viewers, as there are already tons of notebooks available with great amount of EDA to understand the intricacies of the dataset from all aspects.\n",
    "* We will work with missing value imputations\n",
    "* We will also try to combine some features with each other to come up with new ones\n",
    "* We will try to improve our scores by building up on our feature engineering process"
   ]
  },
  {
   "cell_type": "code",
   "execution_count": 1,
   "id": "aging-platinum",
   "metadata": {
    "_cell_guid": "b1076dfc-b9ad-4769-8c92-a6c4dae69d19",
    "_uuid": "8f2839f25d086af736a60e9eeb907d3b93b6e0e5",
    "execution": {
     "iopub.execute_input": "2021-06-27T15:36:21.048640Z",
     "iopub.status.busy": "2021-06-27T15:36:21.043675Z",
     "iopub.status.idle": "2021-06-27T15:36:21.053060Z",
     "shell.execute_reply": "2021-06-27T15:36:21.052163Z",
     "shell.execute_reply.started": "2021-06-27T14:30:07.225271Z"
    },
    "papermill": {
     "duration": 0.062493,
     "end_time": "2021-06-27T15:36:21.053486",
     "exception": false,
     "start_time": "2021-06-27T15:36:20.990993",
     "status": "completed"
    },
    "tags": []
   },
   "outputs": [],
   "source": [
    "# Import the required packages here\n",
    "\n",
    "import numpy as np\n",
    "import pandas as pd"
   ]
  },
  {
   "cell_type": "code",
   "execution_count": 2,
   "id": "final-hardwood",
   "metadata": {
    "execution": {
     "iopub.execute_input": "2021-06-27T15:36:21.138690Z",
     "iopub.status.busy": "2021-06-27T15:36:21.137777Z",
     "iopub.status.idle": "2021-06-27T15:36:21.172693Z",
     "shell.execute_reply": "2021-06-27T15:36:21.171965Z",
     "shell.execute_reply.started": "2021-06-27T14:30:07.234135Z"
    },
    "papermill": {
     "duration": 0.080382,
     "end_time": "2021-06-27T15:36:21.173040",
     "exception": false,
     "start_time": "2021-06-27T15:36:21.092658",
     "status": "completed"
    },
    "tags": []
   },
   "outputs": [],
   "source": [
    "# Import the datasets here\n",
    "train = pd.read_csv('/kaggle/input/titanic/train.csv')\n",
    "test = pd.read_csv('/kaggle/input/titanic/test.csv')"
   ]
  },
  {
   "cell_type": "code",
   "execution_count": 3,
   "id": "ranking-bride",
   "metadata": {
    "execution": {
     "iopub.execute_input": "2021-06-27T15:36:21.265280Z",
     "iopub.status.busy": "2021-06-27T15:36:21.264277Z",
     "iopub.status.idle": "2021-06-27T15:36:21.268107Z",
     "shell.execute_reply": "2021-06-27T15:36:21.268866Z",
     "shell.execute_reply.started": "2021-06-27T14:30:07.281563Z"
    },
    "papermill": {
     "duration": 0.052532,
     "end_time": "2021-06-27T15:36:21.269118",
     "exception": false,
     "start_time": "2021-06-27T15:36:21.216586",
     "status": "completed"
    },
    "tags": []
   },
   "outputs": [
    {
     "name": "stdout",
     "output_type": "stream",
     "text": [
      "(891, 12)\n",
      "(418, 11)\n"
     ]
    }
   ],
   "source": [
    "print(train.shape)\n",
    "print(test.shape)"
   ]
  },
  {
   "cell_type": "code",
   "execution_count": 4,
   "id": "japanese-russian",
   "metadata": {
    "execution": {
     "iopub.execute_input": "2021-06-27T15:36:21.368608Z",
     "iopub.status.busy": "2021-06-27T15:36:21.361778Z",
     "iopub.status.idle": "2021-06-27T15:36:21.375162Z",
     "shell.execute_reply": "2021-06-27T15:36:21.374323Z",
     "shell.execute_reply.started": "2021-06-27T14:30:07.288184Z"
    },
    "papermill": {
     "duration": 0.064846,
     "end_time": "2021-06-27T15:36:21.375315",
     "exception": false,
     "start_time": "2021-06-27T15:36:21.310469",
     "status": "completed"
    },
    "tags": []
   },
   "outputs": [],
   "source": [
    "# Append the train and test dataframes for data cleaning\n",
    "\n",
    "train['test_flag'] = 0\n",
    "test['test_flag'] = 1\n",
    "df_combined = pd.concat([train, test], axis=0, copy=True)"
   ]
  },
  {
   "cell_type": "markdown",
   "id": "expected-might",
   "metadata": {
    "papermill": {
     "duration": 0.035242,
     "end_time": "2021-06-27T15:36:21.446390",
     "exception": false,
     "start_time": "2021-06-27T15:36:21.411148",
     "status": "completed"
    },
    "tags": []
   },
   "source": [
    "### High level EDA"
   ]
  },
  {
   "cell_type": "code",
   "execution_count": 5,
   "id": "passive-halloween",
   "metadata": {
    "execution": {
     "iopub.execute_input": "2021-06-27T15:36:21.523269Z",
     "iopub.status.busy": "2021-06-27T15:36:21.522263Z",
     "iopub.status.idle": "2021-06-27T15:36:21.551894Z",
     "shell.execute_reply": "2021-06-27T15:36:21.551327Z",
     "shell.execute_reply.started": "2021-06-27T14:30:07.317477Z"
    },
    "papermill": {
     "duration": 0.070038,
     "end_time": "2021-06-27T15:36:21.552036",
     "exception": false,
     "start_time": "2021-06-27T15:36:21.481998",
     "status": "completed"
    },
    "tags": []
   },
   "outputs": [
    {
     "name": "stdout",
     "output_type": "stream",
     "text": [
      "PassengerId     0.000000\n",
      "Survived       31.932773\n",
      "Pclass          0.000000\n",
      "Name            0.000000\n",
      "Sex             0.000000\n",
      "Age            20.091673\n",
      "SibSp           0.000000\n",
      "Parch           0.000000\n",
      "Ticket          0.000000\n",
      "Fare            0.076394\n",
      "Cabin          77.463713\n",
      "Embarked        0.152788\n",
      "test_flag       0.000000\n",
      "dtype: float64\n"
     ]
    }
   ],
   "source": [
    "# Check the % missing values in all the columns of the train set\n",
    "print(df_combined.isnull().sum()*100/df_combined.shape[0])\n",
    "\n",
    "# Ignore the missing values for the output class 'Survived' as they are from the test set"
   ]
  },
  {
   "cell_type": "code",
   "execution_count": 6,
   "id": "hungarian-innocent",
   "metadata": {
    "execution": {
     "iopub.execute_input": "2021-06-27T15:36:21.630972Z",
     "iopub.status.busy": "2021-06-27T15:36:21.629998Z",
     "iopub.status.idle": "2021-06-27T15:36:21.635549Z",
     "shell.execute_reply": "2021-06-27T15:36:21.635037Z",
     "shell.execute_reply.started": "2021-06-27T15:02:03.028276Z"
    },
    "papermill": {
     "duration": 0.046889,
     "end_time": "2021-06-27T15:36:21.635692",
     "exception": false,
     "start_time": "2021-06-27T15:36:21.588803",
     "status": "completed"
    },
    "tags": []
   },
   "outputs": [],
   "source": [
    "# Subsetting for the list of columns which has less to no missing values\n",
    "\n",
    "df_subset = df_combined[['PassengerId', 'Survived', 'Pclass', 'Sex', 'Age', 'SibSp', 'Parch', 'Ticket', 'Fare', 'Cabin', 'Name', 'Embarked', 'test_flag']]"
   ]
  },
  {
   "cell_type": "markdown",
   "id": "aquatic-advisory",
   "metadata": {
    "papermill": {
     "duration": 0.035456,
     "end_time": "2021-06-27T15:36:21.706805",
     "exception": false,
     "start_time": "2021-06-27T15:36:21.671349",
     "status": "completed"
    },
    "tags": []
   },
   "source": [
    "### Data Cleaning and missing value imputation for the columns"
   ]
  },
  {
   "cell_type": "code",
   "execution_count": 7,
   "id": "frank-slovak",
   "metadata": {
    "execution": {
     "iopub.execute_input": "2021-06-27T15:36:21.817110Z",
     "iopub.status.busy": "2021-06-27T15:36:21.800365Z",
     "iopub.status.idle": "2021-06-27T15:36:21.874954Z",
     "shell.execute_reply": "2021-06-27T15:36:21.874344Z",
     "shell.execute_reply.started": "2021-06-27T15:02:04.521048Z"
    },
    "papermill": {
     "duration": 0.132629,
     "end_time": "2021-06-27T15:36:21.875102",
     "exception": false,
     "start_time": "2021-06-27T15:36:21.742473",
     "status": "completed"
    },
    "tags": []
   },
   "outputs": [
    {
     "name": "stderr",
     "output_type": "stream",
     "text": [
      "/opt/conda/lib/python3.7/site-packages/ipykernel_launcher.py:4: SettingWithCopyWarning: \n",
      "A value is trying to be set on a copy of a slice from a DataFrame.\n",
      "Try using .loc[row_indexer,col_indexer] = value instead\n",
      "\n",
      "See the caveats in the documentation: https://pandas.pydata.org/pandas-docs/stable/user_guide/indexing.html#returning-a-view-versus-a-copy\n",
      "  after removing the cwd from sys.path.\n"
     ]
    },
    {
     "data": {
      "text/html": [
       "<div>\n",
       "<style scoped>\n",
       "    .dataframe tbody tr th:only-of-type {\n",
       "        vertical-align: middle;\n",
       "    }\n",
       "\n",
       "    .dataframe tbody tr th {\n",
       "        vertical-align: top;\n",
       "    }\n",
       "\n",
       "    .dataframe thead th {\n",
       "        text-align: right;\n",
       "    }\n",
       "</style>\n",
       "<table border=\"1\" class=\"dataframe\">\n",
       "  <thead>\n",
       "    <tr style=\"text-align: right;\">\n",
       "      <th>Sex</th>\n",
       "      <th>female</th>\n",
       "      <th>male</th>\n",
       "    </tr>\n",
       "    <tr>\n",
       "      <th>Title</th>\n",
       "      <th></th>\n",
       "      <th></th>\n",
       "    </tr>\n",
       "  </thead>\n",
       "  <tbody>\n",
       "    <tr>\n",
       "      <th>Capt</th>\n",
       "      <td>0</td>\n",
       "      <td>1</td>\n",
       "    </tr>\n",
       "    <tr>\n",
       "      <th>Col</th>\n",
       "      <td>0</td>\n",
       "      <td>4</td>\n",
       "    </tr>\n",
       "    <tr>\n",
       "      <th>Countess</th>\n",
       "      <td>1</td>\n",
       "      <td>0</td>\n",
       "    </tr>\n",
       "    <tr>\n",
       "      <th>Don</th>\n",
       "      <td>0</td>\n",
       "      <td>1</td>\n",
       "    </tr>\n",
       "    <tr>\n",
       "      <th>Dona</th>\n",
       "      <td>1</td>\n",
       "      <td>0</td>\n",
       "    </tr>\n",
       "    <tr>\n",
       "      <th>Dr</th>\n",
       "      <td>1</td>\n",
       "      <td>7</td>\n",
       "    </tr>\n",
       "    <tr>\n",
       "      <th>Jonkheer</th>\n",
       "      <td>0</td>\n",
       "      <td>1</td>\n",
       "    </tr>\n",
       "    <tr>\n",
       "      <th>Lady</th>\n",
       "      <td>1</td>\n",
       "      <td>0</td>\n",
       "    </tr>\n",
       "    <tr>\n",
       "      <th>Major</th>\n",
       "      <td>0</td>\n",
       "      <td>2</td>\n",
       "    </tr>\n",
       "    <tr>\n",
       "      <th>Master</th>\n",
       "      <td>0</td>\n",
       "      <td>61</td>\n",
       "    </tr>\n",
       "    <tr>\n",
       "      <th>Miss</th>\n",
       "      <td>260</td>\n",
       "      <td>0</td>\n",
       "    </tr>\n",
       "    <tr>\n",
       "      <th>Mlle</th>\n",
       "      <td>2</td>\n",
       "      <td>0</td>\n",
       "    </tr>\n",
       "    <tr>\n",
       "      <th>Mme</th>\n",
       "      <td>1</td>\n",
       "      <td>0</td>\n",
       "    </tr>\n",
       "    <tr>\n",
       "      <th>Mr</th>\n",
       "      <td>0</td>\n",
       "      <td>757</td>\n",
       "    </tr>\n",
       "    <tr>\n",
       "      <th>Mrs</th>\n",
       "      <td>197</td>\n",
       "      <td>0</td>\n",
       "    </tr>\n",
       "    <tr>\n",
       "      <th>Ms</th>\n",
       "      <td>2</td>\n",
       "      <td>0</td>\n",
       "    </tr>\n",
       "    <tr>\n",
       "      <th>Rev</th>\n",
       "      <td>0</td>\n",
       "      <td>8</td>\n",
       "    </tr>\n",
       "    <tr>\n",
       "      <th>Sir</th>\n",
       "      <td>0</td>\n",
       "      <td>1</td>\n",
       "    </tr>\n",
       "  </tbody>\n",
       "</table>\n",
       "</div>"
      ],
      "text/plain": [
       "Sex       female  male\n",
       "Title                 \n",
       "Capt           0     1\n",
       "Col            0     4\n",
       "Countess       1     0\n",
       "Don            0     1\n",
       "Dona           1     0\n",
       "Dr             1     7\n",
       "Jonkheer       0     1\n",
       "Lady           1     0\n",
       "Major          0     2\n",
       "Master         0    61\n",
       "Miss         260     0\n",
       "Mlle           2     0\n",
       "Mme            1     0\n",
       "Mr             0   757\n",
       "Mrs          197     0\n",
       "Ms             2     0\n",
       "Rev            0     8\n",
       "Sir            0     1"
      ]
     },
     "execution_count": 7,
     "metadata": {},
     "output_type": "execute_result"
    }
   ],
   "source": [
    "# Cleaning and level modifications for the categorical features\n",
    "\n",
    "for dataset in df_subset:\n",
    "    df_subset['Title'] = df_subset.Name.str.extract(' ([A-Za-z]+)\\.', expand=False)\n",
    "\n",
    "pd.crosstab(df_subset['Title'], df_subset['Sex'])"
   ]
  },
  {
   "cell_type": "code",
   "execution_count": 8,
   "id": "uniform-convertible",
   "metadata": {
    "execution": {
     "iopub.execute_input": "2021-06-27T15:36:21.966509Z",
     "iopub.status.busy": "2021-06-27T15:36:21.963415Z",
     "iopub.status.idle": "2021-06-27T15:36:22.027887Z",
     "shell.execute_reply": "2021-06-27T15:36:22.028512Z",
     "shell.execute_reply.started": "2021-06-27T15:02:05.132820Z"
    },
    "papermill": {
     "duration": 0.116722,
     "end_time": "2021-06-27T15:36:22.028755",
     "exception": false,
     "start_time": "2021-06-27T15:36:21.912033",
     "status": "completed"
    },
    "tags": []
   },
   "outputs": [
    {
     "name": "stderr",
     "output_type": "stream",
     "text": [
      "/opt/conda/lib/python3.7/site-packages/ipykernel_launcher.py:3: SettingWithCopyWarning: \n",
      "A value is trying to be set on a copy of a slice from a DataFrame.\n",
      "Try using .loc[row_indexer,col_indexer] = value instead\n",
      "\n",
      "See the caveats in the documentation: https://pandas.pydata.org/pandas-docs/stable/user_guide/indexing.html#returning-a-view-versus-a-copy\n",
      "  This is separate from the ipykernel package so we can avoid doing imports until\n",
      "/opt/conda/lib/python3.7/site-packages/ipykernel_launcher.py:5: SettingWithCopyWarning: \n",
      "A value is trying to be set on a copy of a slice from a DataFrame.\n",
      "Try using .loc[row_indexer,col_indexer] = value instead\n",
      "\n",
      "See the caveats in the documentation: https://pandas.pydata.org/pandas-docs/stable/user_guide/indexing.html#returning-a-view-versus-a-copy\n",
      "  \"\"\"\n",
      "/opt/conda/lib/python3.7/site-packages/ipykernel_launcher.py:6: SettingWithCopyWarning: \n",
      "A value is trying to be set on a copy of a slice from a DataFrame.\n",
      "Try using .loc[row_indexer,col_indexer] = value instead\n",
      "\n",
      "See the caveats in the documentation: https://pandas.pydata.org/pandas-docs/stable/user_guide/indexing.html#returning-a-view-versus-a-copy\n",
      "  \n",
      "/opt/conda/lib/python3.7/site-packages/ipykernel_launcher.py:7: SettingWithCopyWarning: \n",
      "A value is trying to be set on a copy of a slice from a DataFrame.\n",
      "Try using .loc[row_indexer,col_indexer] = value instead\n",
      "\n",
      "See the caveats in the documentation: https://pandas.pydata.org/pandas-docs/stable/user_guide/indexing.html#returning-a-view-versus-a-copy\n",
      "  import sys\n"
     ]
    },
    {
     "data": {
      "text/html": [
       "<div>\n",
       "<style scoped>\n",
       "    .dataframe tbody tr th:only-of-type {\n",
       "        vertical-align: middle;\n",
       "    }\n",
       "\n",
       "    .dataframe tbody tr th {\n",
       "        vertical-align: top;\n",
       "    }\n",
       "\n",
       "    .dataframe thead th {\n",
       "        text-align: right;\n",
       "    }\n",
       "</style>\n",
       "<table border=\"1\" class=\"dataframe\">\n",
       "  <thead>\n",
       "    <tr style=\"text-align: right;\">\n",
       "      <th></th>\n",
       "      <th>Title</th>\n",
       "      <th>Survived</th>\n",
       "    </tr>\n",
       "  </thead>\n",
       "  <tbody>\n",
       "    <tr>\n",
       "      <th>0</th>\n",
       "      <td>Master</td>\n",
       "      <td>0.575000</td>\n",
       "    </tr>\n",
       "    <tr>\n",
       "      <th>1</th>\n",
       "      <td>Miss</td>\n",
       "      <td>0.702703</td>\n",
       "    </tr>\n",
       "    <tr>\n",
       "      <th>2</th>\n",
       "      <td>Mr</td>\n",
       "      <td>0.156673</td>\n",
       "    </tr>\n",
       "    <tr>\n",
       "      <th>3</th>\n",
       "      <td>Mrs</td>\n",
       "      <td>0.793651</td>\n",
       "    </tr>\n",
       "    <tr>\n",
       "      <th>4</th>\n",
       "      <td>Rare</td>\n",
       "      <td>0.347826</td>\n",
       "    </tr>\n",
       "  </tbody>\n",
       "</table>\n",
       "</div>"
      ],
      "text/plain": [
       "    Title  Survived\n",
       "0  Master  0.575000\n",
       "1    Miss  0.702703\n",
       "2      Mr  0.156673\n",
       "3     Mrs  0.793651\n",
       "4    Rare  0.347826"
      ]
     },
     "execution_count": 8,
     "metadata": {},
     "output_type": "execute_result"
    }
   ],
   "source": [
    "for dataset in df_subset:\n",
    "    df_subset['Title'] = df_subset['Title'].replace(['Lady', 'Countess','Capt', 'Col',\\\n",
    "     'Don', 'Dr', 'Major', 'Rev', 'Sir', 'Jonkheer', 'Dona'], 'Rare')\n",
    "\n",
    "    df_subset['Title'] = df_subset['Title'].replace('Mlle', 'Miss')\n",
    "    df_subset['Title'] = df_subset['Title'].replace('Ms', 'Miss')\n",
    "    df_subset['Title'] = df_subset['Title'].replace('Mme', 'Mrs')\n",
    "    \n",
    "df_subset[['Title', 'Survived']].groupby(['Title'], as_index=False).mean()"
   ]
  },
  {
   "cell_type": "code",
   "execution_count": 9,
   "id": "electric-nightmare",
   "metadata": {
    "execution": {
     "iopub.execute_input": "2021-06-27T15:36:22.117664Z",
     "iopub.status.busy": "2021-06-27T15:36:22.116834Z",
     "iopub.status.idle": "2021-06-27T15:36:22.120828Z",
     "shell.execute_reply": "2021-06-27T15:36:22.120106Z",
     "shell.execute_reply.started": "2021-06-27T15:02:06.054201Z"
    },
    "papermill": {
     "duration": 0.050444,
     "end_time": "2021-06-27T15:36:22.121002",
     "exception": false,
     "start_time": "2021-06-27T15:36:22.070558",
     "status": "completed"
    },
    "tags": []
   },
   "outputs": [],
   "source": [
    "df_subset = df_subset.drop(['Name'], axis = 1)"
   ]
  },
  {
   "cell_type": "code",
   "execution_count": 10,
   "id": "inside-replication",
   "metadata": {
    "execution": {
     "iopub.execute_input": "2021-06-27T15:36:22.217601Z",
     "iopub.status.busy": "2021-06-27T15:36:22.216916Z",
     "iopub.status.idle": "2021-06-27T15:36:22.220710Z",
     "shell.execute_reply": "2021-06-27T15:36:22.220196Z",
     "shell.execute_reply.started": "2021-06-27T15:02:07.454905Z"
    },
    "papermill": {
     "duration": 0.058392,
     "end_time": "2021-06-27T15:36:22.220886",
     "exception": false,
     "start_time": "2021-06-27T15:36:22.162494",
     "status": "completed"
    },
    "tags": []
   },
   "outputs": [],
   "source": [
    "df_subset['Cabin'] = df_subset['Cabin'].replace(np.nan, 'U')\n",
    "df_subset['Cabin_Class'] = df_subset['Cabin'].astype(str).str[0]"
   ]
  },
  {
   "cell_type": "code",
   "execution_count": 11,
   "id": "wired-painting",
   "metadata": {
    "execution": {
     "iopub.execute_input": "2021-06-27T15:36:22.303495Z",
     "iopub.status.busy": "2021-06-27T15:36:22.302794Z",
     "iopub.status.idle": "2021-06-27T15:36:22.309450Z",
     "shell.execute_reply": "2021-06-27T15:36:22.308772Z",
     "shell.execute_reply.started": "2021-06-27T15:02:09.509002Z"
    },
    "papermill": {
     "duration": 0.050654,
     "end_time": "2021-06-27T15:36:22.309619",
     "exception": false,
     "start_time": "2021-06-27T15:36:22.258965",
     "status": "completed"
    },
    "tags": []
   },
   "outputs": [],
   "source": [
    "df_subset = df_subset.drop(['Ticket', 'Cabin'], axis = 1)"
   ]
  },
  {
   "cell_type": "code",
   "execution_count": 12,
   "id": "daily-swimming",
   "metadata": {
    "execution": {
     "iopub.execute_input": "2021-06-27T15:36:22.391794Z",
     "iopub.status.busy": "2021-06-27T15:36:22.391059Z",
     "iopub.status.idle": "2021-06-27T15:36:22.399577Z",
     "shell.execute_reply": "2021-06-27T15:36:22.398752Z",
     "shell.execute_reply.started": "2021-06-27T15:02:10.592218Z"
    },
    "papermill": {
     "duration": 0.05266,
     "end_time": "2021-06-27T15:36:22.399809",
     "exception": false,
     "start_time": "2021-06-27T15:36:22.347149",
     "status": "completed"
    },
    "tags": []
   },
   "outputs": [],
   "source": [
    "median_age = df_subset[\"Age\"].median()\n",
    "df_subset[\"Age\"].fillna(median_age, inplace=True)"
   ]
  },
  {
   "cell_type": "code",
   "execution_count": 13,
   "id": "violent-airfare",
   "metadata": {
    "execution": {
     "iopub.execute_input": "2021-06-27T15:36:22.490633Z",
     "iopub.status.busy": "2021-06-27T15:36:22.489558Z",
     "iopub.status.idle": "2021-06-27T15:36:22.493048Z",
     "shell.execute_reply": "2021-06-27T15:36:22.492440Z",
     "shell.execute_reply.started": "2021-06-27T15:02:11.738167Z"
    },
    "papermill": {
     "duration": 0.04994,
     "end_time": "2021-06-27T15:36:22.493234",
     "exception": false,
     "start_time": "2021-06-27T15:36:22.443294",
     "status": "completed"
    },
    "tags": []
   },
   "outputs": [],
   "source": [
    "# df_subset.Age[df_subset.Age <= 12] = 0\n",
    "# df_subset.Age[(df_subset.Age > 12) & (df_subset.Age <= 30)] = 1\n",
    "# df_subset.Age[(df_subset.Age > 30) & (df_subset.Age <= 50)] = 2\n",
    "# df_subset.Age[(df_subset.Age > 50) & (df_subset.Age <= 65)] = 3\n",
    "# df_subset.Age[df_subset.Age > 65] = 4"
   ]
  },
  {
   "cell_type": "code",
   "execution_count": 14,
   "id": "sorted-anthony",
   "metadata": {
    "execution": {
     "iopub.execute_input": "2021-06-27T15:36:22.590904Z",
     "iopub.status.busy": "2021-06-27T15:36:22.589866Z",
     "iopub.status.idle": "2021-06-27T15:36:22.595292Z",
     "shell.execute_reply": "2021-06-27T15:36:22.594552Z",
     "shell.execute_reply.started": "2021-06-27T15:02:14.542394Z"
    },
    "papermill": {
     "duration": 0.059161,
     "end_time": "2021-06-27T15:36:22.595522",
     "exception": false,
     "start_time": "2021-06-27T15:36:22.536361",
     "status": "completed"
    },
    "tags": []
   },
   "outputs": [],
   "source": [
    "df_subset['Age'] = df_subset['Age'].astype(int)"
   ]
  },
  {
   "cell_type": "code",
   "execution_count": 15,
   "id": "warming-hardware",
   "metadata": {
    "execution": {
     "iopub.execute_input": "2021-06-27T15:36:22.706774Z",
     "iopub.status.busy": "2021-06-27T15:36:22.705959Z",
     "iopub.status.idle": "2021-06-27T15:36:22.710094Z",
     "shell.execute_reply": "2021-06-27T15:36:22.710749Z",
     "shell.execute_reply.started": "2021-06-27T15:02:22.341707Z"
    },
    "papermill": {
     "duration": 0.066728,
     "end_time": "2021-06-27T15:36:22.711016",
     "exception": false,
     "start_time": "2021-06-27T15:36:22.644288",
     "status": "completed"
    },
    "tags": []
   },
   "outputs": [
    {
     "name": "stderr",
     "output_type": "stream",
     "text": [
      "/opt/conda/lib/python3.7/site-packages/ipykernel_launcher.py:1: SettingWithCopyWarning: \n",
      "A value is trying to be set on a copy of a slice from a DataFrame\n",
      "\n",
      "See the caveats in the documentation: https://pandas.pydata.org/pandas-docs/stable/user_guide/indexing.html#returning-a-view-versus-a-copy\n",
      "  \"\"\"Entry point for launching an IPython kernel.\n",
      "/opt/conda/lib/python3.7/site-packages/ipykernel_launcher.py:2: SettingWithCopyWarning: \n",
      "A value is trying to be set on a copy of a slice from a DataFrame\n",
      "\n",
      "See the caveats in the documentation: https://pandas.pydata.org/pandas-docs/stable/user_guide/indexing.html#returning-a-view-versus-a-copy\n",
      "  \n"
     ]
    }
   ],
   "source": [
    "df_subset.Age[df_subset.Age < 18] = 1\n",
    "df_subset.Age[df_subset.Age >= 18] = 0"
   ]
  },
  {
   "cell_type": "code",
   "execution_count": 16,
   "id": "stone-pizza",
   "metadata": {
    "execution": {
     "iopub.execute_input": "2021-06-27T15:36:22.791791Z",
     "iopub.status.busy": "2021-06-27T15:36:22.790807Z",
     "iopub.status.idle": "2021-06-27T15:36:22.803783Z",
     "shell.execute_reply": "2021-06-27T15:36:22.804297Z",
     "shell.execute_reply.started": "2021-06-27T15:02:26.635164Z"
    },
    "papermill": {
     "duration": 0.054512,
     "end_time": "2021-06-27T15:36:22.804536",
     "exception": false,
     "start_time": "2021-06-27T15:36:22.750024",
     "status": "completed"
    },
    "tags": []
   },
   "outputs": [],
   "source": [
    "for dataset in df_subset:\n",
    "    df_subset['FamilySize'] = df_subset['SibSp'] + df_subset['Parch'] + 1"
   ]
  },
  {
   "cell_type": "code",
   "execution_count": 17,
   "id": "subsequent-blowing",
   "metadata": {
    "execution": {
     "iopub.execute_input": "2021-06-27T15:36:22.891232Z",
     "iopub.status.busy": "2021-06-27T15:36:22.890486Z",
     "iopub.status.idle": "2021-06-27T15:36:22.896320Z",
     "shell.execute_reply": "2021-06-27T15:36:22.896905Z",
     "shell.execute_reply.started": "2021-06-27T15:02:27.869460Z"
    },
    "papermill": {
     "duration": 0.051357,
     "end_time": "2021-06-27T15:36:22.897134",
     "exception": false,
     "start_time": "2021-06-27T15:36:22.845777",
     "status": "completed"
    },
    "tags": []
   },
   "outputs": [],
   "source": [
    "df_subset = df_subset.drop(['SibSp', 'Parch'], axis = 1)"
   ]
  },
  {
   "cell_type": "code",
   "execution_count": 18,
   "id": "molecular-reservation",
   "metadata": {
    "execution": {
     "iopub.execute_input": "2021-06-27T15:36:22.987100Z",
     "iopub.status.busy": "2021-06-27T15:36:22.986297Z",
     "iopub.status.idle": "2021-06-27T15:36:23.001550Z",
     "shell.execute_reply": "2021-06-27T15:36:23.002187Z",
     "shell.execute_reply.started": "2021-06-27T15:05:38.483146Z"
    },
    "papermill": {
     "duration": 0.060456,
     "end_time": "2021-06-27T15:36:23.002402",
     "exception": false,
     "start_time": "2021-06-27T15:36:22.941946",
     "status": "completed"
    },
    "tags": []
   },
   "outputs": [
    {
     "name": "stderr",
     "output_type": "stream",
     "text": [
      "/opt/conda/lib/python3.7/site-packages/ipykernel_launcher.py:1: SettingWithCopyWarning: \n",
      "A value is trying to be set on a copy of a slice from a DataFrame\n",
      "\n",
      "See the caveats in the documentation: https://pandas.pydata.org/pandas-docs/stable/user_guide/indexing.html#returning-a-view-versus-a-copy\n",
      "  \"\"\"Entry point for launching an IPython kernel.\n",
      "/opt/conda/lib/python3.7/site-packages/ipykernel_launcher.py:2: SettingWithCopyWarning: \n",
      "A value is trying to be set on a copy of a slice from a DataFrame\n",
      "\n",
      "See the caveats in the documentation: https://pandas.pydata.org/pandas-docs/stable/user_guide/indexing.html#returning-a-view-versus-a-copy\n",
      "  \n",
      "/opt/conda/lib/python3.7/site-packages/ipykernel_launcher.py:3: SettingWithCopyWarning: \n",
      "A value is trying to be set on a copy of a slice from a DataFrame\n",
      "\n",
      "See the caveats in the documentation: https://pandas.pydata.org/pandas-docs/stable/user_guide/indexing.html#returning-a-view-versus-a-copy\n",
      "  This is separate from the ipykernel package so we can avoid doing imports until\n"
     ]
    }
   ],
   "source": [
    "df_subset.FamilySize[df_subset.FamilySize == 1] = 0\n",
    "df_subset.FamilySize[(df_subset.FamilySize > 1) & (df_subset.FamilySize <= 4)] = 1\n",
    "df_subset.FamilySize[(df_subset.FamilySize > 4)] = 2"
   ]
  },
  {
   "cell_type": "code",
   "execution_count": 19,
   "id": "smaller-distributor",
   "metadata": {
    "execution": {
     "iopub.execute_input": "2021-06-27T15:36:23.094943Z",
     "iopub.status.busy": "2021-06-27T15:36:23.093405Z",
     "iopub.status.idle": "2021-06-27T15:36:23.103948Z",
     "shell.execute_reply": "2021-06-27T15:36:23.104525Z",
     "shell.execute_reply.started": "2021-06-27T15:06:36.801165Z"
    },
    "papermill": {
     "duration": 0.056728,
     "end_time": "2021-06-27T15:36:23.104778",
     "exception": false,
     "start_time": "2021-06-27T15:36:23.048050",
     "status": "completed"
    },
    "tags": []
   },
   "outputs": [
    {
     "data": {
      "text/plain": [
       "count    1308.000000\n",
       "mean       33.295479\n",
       "std        51.758668\n",
       "min         0.000000\n",
       "25%         7.895800\n",
       "50%        14.454200\n",
       "75%        31.275000\n",
       "max       512.329200\n",
       "Name: Fare, dtype: float64"
      ]
     },
     "execution_count": 19,
     "metadata": {},
     "output_type": "execute_result"
    }
   ],
   "source": [
    "df_subset['Fare'].describe()"
   ]
  },
  {
   "cell_type": "code",
   "execution_count": 20,
   "id": "heard-still",
   "metadata": {
    "execution": {
     "iopub.execute_input": "2021-06-27T15:36:23.202212Z",
     "iopub.status.busy": "2021-06-27T15:36:23.201152Z",
     "iopub.status.idle": "2021-06-27T15:36:23.203861Z",
     "shell.execute_reply": "2021-06-27T15:36:23.204347Z",
     "shell.execute_reply.started": "2021-06-27T15:06:42.438897Z"
    },
    "papermill": {
     "duration": 0.053565,
     "end_time": "2021-06-27T15:36:23.204557",
     "exception": false,
     "start_time": "2021-06-27T15:36:23.150992",
     "status": "completed"
    },
    "tags": []
   },
   "outputs": [],
   "source": [
    "df_subset['Fare'].fillna(df_subset['Fare'].dropna().median(), inplace=True)"
   ]
  },
  {
   "cell_type": "code",
   "execution_count": 21,
   "id": "analyzed-south",
   "metadata": {
    "execution": {
     "iopub.execute_input": "2021-06-27T15:36:23.296849Z",
     "iopub.status.busy": "2021-06-27T15:36:23.296087Z",
     "iopub.status.idle": "2021-06-27T15:36:23.327600Z",
     "shell.execute_reply": "2021-06-27T15:36:23.328137Z",
     "shell.execute_reply.started": "2021-06-27T15:06:53.874906Z"
    },
    "papermill": {
     "duration": 0.081603,
     "end_time": "2021-06-27T15:36:23.328356",
     "exception": false,
     "start_time": "2021-06-27T15:36:23.246753",
     "status": "completed"
    },
    "tags": []
   },
   "outputs": [
    {
     "name": "stderr",
     "output_type": "stream",
     "text": [
      "/opt/conda/lib/python3.7/site-packages/ipykernel_launcher.py:1: SettingWithCopyWarning: \n",
      "A value is trying to be set on a copy of a slice from a DataFrame\n",
      "\n",
      "See the caveats in the documentation: https://pandas.pydata.org/pandas-docs/stable/user_guide/indexing.html#returning-a-view-versus-a-copy\n",
      "  \"\"\"Entry point for launching an IPython kernel.\n",
      "/opt/conda/lib/python3.7/site-packages/ipykernel_launcher.py:2: SettingWithCopyWarning: \n",
      "A value is trying to be set on a copy of a slice from a DataFrame\n",
      "\n",
      "See the caveats in the documentation: https://pandas.pydata.org/pandas-docs/stable/user_guide/indexing.html#returning-a-view-versus-a-copy\n",
      "  \n",
      "/opt/conda/lib/python3.7/site-packages/ipykernel_launcher.py:3: SettingWithCopyWarning: \n",
      "A value is trying to be set on a copy of a slice from a DataFrame\n",
      "\n",
      "See the caveats in the documentation: https://pandas.pydata.org/pandas-docs/stable/user_guide/indexing.html#returning-a-view-versus-a-copy\n",
      "  This is separate from the ipykernel package so we can avoid doing imports until\n",
      "/opt/conda/lib/python3.7/site-packages/ipykernel_launcher.py:4: SettingWithCopyWarning: \n",
      "A value is trying to be set on a copy of a slice from a DataFrame\n",
      "\n",
      "See the caveats in the documentation: https://pandas.pydata.org/pandas-docs/stable/user_guide/indexing.html#returning-a-view-versus-a-copy\n",
      "  after removing the cwd from sys.path.\n"
     ]
    },
    {
     "data": {
      "text/html": [
       "<div>\n",
       "<style scoped>\n",
       "    .dataframe tbody tr th:only-of-type {\n",
       "        vertical-align: middle;\n",
       "    }\n",
       "\n",
       "    .dataframe tbody tr th {\n",
       "        vertical-align: top;\n",
       "    }\n",
       "\n",
       "    .dataframe thead th {\n",
       "        text-align: right;\n",
       "    }\n",
       "</style>\n",
       "<table border=\"1\" class=\"dataframe\">\n",
       "  <thead>\n",
       "    <tr style=\"text-align: right;\">\n",
       "      <th></th>\n",
       "      <th>PassengerId</th>\n",
       "      <th>Survived</th>\n",
       "      <th>Pclass</th>\n",
       "      <th>Sex</th>\n",
       "      <th>Age</th>\n",
       "      <th>Fare</th>\n",
       "      <th>Embarked</th>\n",
       "      <th>test_flag</th>\n",
       "      <th>Title</th>\n",
       "      <th>Cabin_Class</th>\n",
       "      <th>FamilySize</th>\n",
       "    </tr>\n",
       "  </thead>\n",
       "  <tbody>\n",
       "    <tr>\n",
       "      <th>0</th>\n",
       "      <td>1</td>\n",
       "      <td>0.0</td>\n",
       "      <td>3</td>\n",
       "      <td>male</td>\n",
       "      <td>0</td>\n",
       "      <td>0</td>\n",
       "      <td>S</td>\n",
       "      <td>0</td>\n",
       "      <td>Mr</td>\n",
       "      <td>U</td>\n",
       "      <td>1</td>\n",
       "    </tr>\n",
       "    <tr>\n",
       "      <th>1</th>\n",
       "      <td>2</td>\n",
       "      <td>1.0</td>\n",
       "      <td>1</td>\n",
       "      <td>female</td>\n",
       "      <td>0</td>\n",
       "      <td>3</td>\n",
       "      <td>C</td>\n",
       "      <td>0</td>\n",
       "      <td>Mrs</td>\n",
       "      <td>C</td>\n",
       "      <td>1</td>\n",
       "    </tr>\n",
       "    <tr>\n",
       "      <th>2</th>\n",
       "      <td>3</td>\n",
       "      <td>1.0</td>\n",
       "      <td>3</td>\n",
       "      <td>female</td>\n",
       "      <td>0</td>\n",
       "      <td>1</td>\n",
       "      <td>S</td>\n",
       "      <td>0</td>\n",
       "      <td>Miss</td>\n",
       "      <td>U</td>\n",
       "      <td>0</td>\n",
       "    </tr>\n",
       "    <tr>\n",
       "      <th>3</th>\n",
       "      <td>4</td>\n",
       "      <td>1.0</td>\n",
       "      <td>1</td>\n",
       "      <td>female</td>\n",
       "      <td>0</td>\n",
       "      <td>3</td>\n",
       "      <td>S</td>\n",
       "      <td>0</td>\n",
       "      <td>Mrs</td>\n",
       "      <td>C</td>\n",
       "      <td>1</td>\n",
       "    </tr>\n",
       "    <tr>\n",
       "      <th>4</th>\n",
       "      <td>5</td>\n",
       "      <td>0.0</td>\n",
       "      <td>3</td>\n",
       "      <td>male</td>\n",
       "      <td>0</td>\n",
       "      <td>1</td>\n",
       "      <td>S</td>\n",
       "      <td>0</td>\n",
       "      <td>Mr</td>\n",
       "      <td>U</td>\n",
       "      <td>0</td>\n",
       "    </tr>\n",
       "  </tbody>\n",
       "</table>\n",
       "</div>"
      ],
      "text/plain": [
       "   PassengerId  Survived  Pclass     Sex  Age  Fare Embarked  test_flag Title  \\\n",
       "0            1       0.0       3    male    0     0        S          0    Mr   \n",
       "1            2       1.0       1  female    0     3        C          0   Mrs   \n",
       "2            3       1.0       3  female    0     1        S          0  Miss   \n",
       "3            4       1.0       1  female    0     3        S          0   Mrs   \n",
       "4            5       0.0       3    male    0     1        S          0    Mr   \n",
       "\n",
       "  Cabin_Class  FamilySize  \n",
       "0           U           1  \n",
       "1           C           1  \n",
       "2           U           0  \n",
       "3           C           1  \n",
       "4           U           0  "
      ]
     },
     "execution_count": 21,
     "metadata": {},
     "output_type": "execute_result"
    }
   ],
   "source": [
    "df_subset.Fare[df_subset.Fare <= 7.91] = 0\n",
    "df_subset.Fare[(df_subset.Fare > 7.91) & (df_subset.Fare <= 14.454)] = 1\n",
    "df_subset.Fare[(df_subset.Fare > 14.454) & (df_subset.Fare <= 31)] = 2\n",
    "df_subset.Fare[df_subset.Fare > 31] = 3\n",
    "df_subset['Fare'] = df_subset['Fare'].astype(int)\n",
    "\n",
    "df_subset.head()"
   ]
  },
  {
   "cell_type": "code",
   "execution_count": 22,
   "id": "military-ethiopia",
   "metadata": {
    "execution": {
     "iopub.execute_input": "2021-06-27T15:36:23.428001Z",
     "iopub.status.busy": "2021-06-27T15:36:23.426890Z",
     "iopub.status.idle": "2021-06-27T15:36:23.430665Z",
     "shell.execute_reply": "2021-06-27T15:36:23.430058Z",
     "shell.execute_reply.started": "2021-06-27T15:18:10.969868Z"
    },
    "papermill": {
     "duration": 0.058092,
     "end_time": "2021-06-27T15:36:23.430841",
     "exception": false,
     "start_time": "2021-06-27T15:36:23.372749",
     "status": "completed"
    },
    "tags": []
   },
   "outputs": [],
   "source": [
    "mode_embarked = df_subset.Embarked.dropna().mode()[0]\n",
    "df_subset[\"Embarked\"].fillna(mode_embarked, inplace=True)"
   ]
  },
  {
   "cell_type": "code",
   "execution_count": 23,
   "id": "numerous-tower",
   "metadata": {
    "execution": {
     "iopub.execute_input": "2021-06-27T15:36:23.515474Z",
     "iopub.status.busy": "2021-06-27T15:36:23.514798Z",
     "iopub.status.idle": "2021-06-27T15:36:23.532433Z",
     "shell.execute_reply": "2021-06-27T15:36:23.533002Z",
     "shell.execute_reply.started": "2021-06-27T15:19:39.318205Z"
    },
    "papermill": {
     "duration": 0.06184,
     "end_time": "2021-06-27T15:36:23.533185",
     "exception": false,
     "start_time": "2021-06-27T15:36:23.471345",
     "status": "completed"
    },
    "tags": []
   },
   "outputs": [
    {
     "data": {
      "text/html": [
       "<div>\n",
       "<style scoped>\n",
       "    .dataframe tbody tr th:only-of-type {\n",
       "        vertical-align: middle;\n",
       "    }\n",
       "\n",
       "    .dataframe tbody tr th {\n",
       "        vertical-align: top;\n",
       "    }\n",
       "\n",
       "    .dataframe thead th {\n",
       "        text-align: right;\n",
       "    }\n",
       "</style>\n",
       "<table border=\"1\" class=\"dataframe\">\n",
       "  <thead>\n",
       "    <tr style=\"text-align: right;\">\n",
       "      <th></th>\n",
       "      <th>PassengerId</th>\n",
       "      <th>Survived</th>\n",
       "      <th>Pclass</th>\n",
       "      <th>Sex</th>\n",
       "      <th>Age</th>\n",
       "      <th>Fare</th>\n",
       "      <th>Embarked</th>\n",
       "      <th>test_flag</th>\n",
       "      <th>Title</th>\n",
       "      <th>Cabin_Class</th>\n",
       "      <th>FamilySize</th>\n",
       "    </tr>\n",
       "  </thead>\n",
       "  <tbody>\n",
       "    <tr>\n",
       "      <th>0</th>\n",
       "      <td>1</td>\n",
       "      <td>0.0</td>\n",
       "      <td>3</td>\n",
       "      <td>male</td>\n",
       "      <td>0</td>\n",
       "      <td>0</td>\n",
       "      <td>S</td>\n",
       "      <td>0</td>\n",
       "      <td>Mr</td>\n",
       "      <td>U</td>\n",
       "      <td>1</td>\n",
       "    </tr>\n",
       "    <tr>\n",
       "      <th>1</th>\n",
       "      <td>2</td>\n",
       "      <td>1.0</td>\n",
       "      <td>1</td>\n",
       "      <td>female</td>\n",
       "      <td>0</td>\n",
       "      <td>3</td>\n",
       "      <td>C</td>\n",
       "      <td>0</td>\n",
       "      <td>Mrs</td>\n",
       "      <td>C</td>\n",
       "      <td>1</td>\n",
       "    </tr>\n",
       "    <tr>\n",
       "      <th>2</th>\n",
       "      <td>3</td>\n",
       "      <td>1.0</td>\n",
       "      <td>3</td>\n",
       "      <td>female</td>\n",
       "      <td>0</td>\n",
       "      <td>1</td>\n",
       "      <td>S</td>\n",
       "      <td>0</td>\n",
       "      <td>Miss</td>\n",
       "      <td>U</td>\n",
       "      <td>0</td>\n",
       "    </tr>\n",
       "    <tr>\n",
       "      <th>3</th>\n",
       "      <td>4</td>\n",
       "      <td>1.0</td>\n",
       "      <td>1</td>\n",
       "      <td>female</td>\n",
       "      <td>0</td>\n",
       "      <td>3</td>\n",
       "      <td>S</td>\n",
       "      <td>0</td>\n",
       "      <td>Mrs</td>\n",
       "      <td>C</td>\n",
       "      <td>1</td>\n",
       "    </tr>\n",
       "    <tr>\n",
       "      <th>4</th>\n",
       "      <td>5</td>\n",
       "      <td>0.0</td>\n",
       "      <td>3</td>\n",
       "      <td>male</td>\n",
       "      <td>0</td>\n",
       "      <td>1</td>\n",
       "      <td>S</td>\n",
       "      <td>0</td>\n",
       "      <td>Mr</td>\n",
       "      <td>U</td>\n",
       "      <td>0</td>\n",
       "    </tr>\n",
       "  </tbody>\n",
       "</table>\n",
       "</div>"
      ],
      "text/plain": [
       "   PassengerId  Survived  Pclass     Sex  Age  Fare Embarked  test_flag Title  \\\n",
       "0            1       0.0       3    male    0     0        S          0    Mr   \n",
       "1            2       1.0       1  female    0     3        C          0   Mrs   \n",
       "2            3       1.0       3  female    0     1        S          0  Miss   \n",
       "3            4       1.0       1  female    0     3        S          0   Mrs   \n",
       "4            5       0.0       3    male    0     1        S          0    Mr   \n",
       "\n",
       "  Cabin_Class  FamilySize  \n",
       "0           U           1  \n",
       "1           C           1  \n",
       "2           U           0  \n",
       "3           C           1  \n",
       "4           U           0  "
      ]
     },
     "execution_count": 23,
     "metadata": {},
     "output_type": "execute_result"
    }
   ],
   "source": [
    "df_subset.head()"
   ]
  },
  {
   "cell_type": "code",
   "execution_count": 24,
   "id": "announced-calculator",
   "metadata": {
    "execution": {
     "iopub.execute_input": "2021-06-27T15:36:23.617805Z",
     "iopub.status.busy": "2021-06-27T15:36:23.617103Z",
     "iopub.status.idle": "2021-06-27T15:36:23.637079Z",
     "shell.execute_reply": "2021-06-27T15:36:23.637582Z",
     "shell.execute_reply.started": "2021-06-27T15:20:44.380556Z"
    },
    "papermill": {
     "duration": 0.063939,
     "end_time": "2021-06-27T15:36:23.637796",
     "exception": false,
     "start_time": "2021-06-27T15:36:23.573857",
     "status": "completed"
    },
    "tags": []
   },
   "outputs": [
    {
     "data": {
      "text/html": [
       "<div>\n",
       "<style scoped>\n",
       "    .dataframe tbody tr th:only-of-type {\n",
       "        vertical-align: middle;\n",
       "    }\n",
       "\n",
       "    .dataframe tbody tr th {\n",
       "        vertical-align: top;\n",
       "    }\n",
       "\n",
       "    .dataframe thead th {\n",
       "        text-align: right;\n",
       "    }\n",
       "</style>\n",
       "<table border=\"1\" class=\"dataframe\">\n",
       "  <thead>\n",
       "    <tr style=\"text-align: right;\">\n",
       "      <th></th>\n",
       "      <th>PassengerId</th>\n",
       "      <th>Survived</th>\n",
       "      <th>Pclass</th>\n",
       "      <th>Sex</th>\n",
       "      <th>Age</th>\n",
       "      <th>Fare</th>\n",
       "      <th>Embarked</th>\n",
       "      <th>test_flag</th>\n",
       "      <th>Title</th>\n",
       "      <th>Cabin_Class</th>\n",
       "      <th>FamilySize</th>\n",
       "    </tr>\n",
       "  </thead>\n",
       "  <tbody>\n",
       "    <tr>\n",
       "      <th>0</th>\n",
       "      <td>1</td>\n",
       "      <td>0.0</td>\n",
       "      <td>3</td>\n",
       "      <td>1</td>\n",
       "      <td>0</td>\n",
       "      <td>0</td>\n",
       "      <td>1</td>\n",
       "      <td>0</td>\n",
       "      <td>1</td>\n",
       "      <td>1</td>\n",
       "      <td>1</td>\n",
       "    </tr>\n",
       "    <tr>\n",
       "      <th>1</th>\n",
       "      <td>2</td>\n",
       "      <td>1.0</td>\n",
       "      <td>1</td>\n",
       "      <td>2</td>\n",
       "      <td>0</td>\n",
       "      <td>3</td>\n",
       "      <td>2</td>\n",
       "      <td>0</td>\n",
       "      <td>2</td>\n",
       "      <td>2</td>\n",
       "      <td>1</td>\n",
       "    </tr>\n",
       "    <tr>\n",
       "      <th>2</th>\n",
       "      <td>3</td>\n",
       "      <td>1.0</td>\n",
       "      <td>3</td>\n",
       "      <td>2</td>\n",
       "      <td>0</td>\n",
       "      <td>1</td>\n",
       "      <td>1</td>\n",
       "      <td>0</td>\n",
       "      <td>3</td>\n",
       "      <td>1</td>\n",
       "      <td>0</td>\n",
       "    </tr>\n",
       "    <tr>\n",
       "      <th>3</th>\n",
       "      <td>4</td>\n",
       "      <td>1.0</td>\n",
       "      <td>1</td>\n",
       "      <td>2</td>\n",
       "      <td>0</td>\n",
       "      <td>3</td>\n",
       "      <td>1</td>\n",
       "      <td>0</td>\n",
       "      <td>2</td>\n",
       "      <td>2</td>\n",
       "      <td>1</td>\n",
       "    </tr>\n",
       "    <tr>\n",
       "      <th>4</th>\n",
       "      <td>5</td>\n",
       "      <td>0.0</td>\n",
       "      <td>3</td>\n",
       "      <td>1</td>\n",
       "      <td>0</td>\n",
       "      <td>1</td>\n",
       "      <td>1</td>\n",
       "      <td>0</td>\n",
       "      <td>1</td>\n",
       "      <td>1</td>\n",
       "      <td>0</td>\n",
       "    </tr>\n",
       "  </tbody>\n",
       "</table>\n",
       "</div>"
      ],
      "text/plain": [
       "   PassengerId  Survived  Pclass  Sex  Age  Fare  Embarked  test_flag  Title  \\\n",
       "0            1       0.0       3    1    0     0         1          0      1   \n",
       "1            2       1.0       1    2    0     3         2          0      2   \n",
       "2            3       1.0       3    2    0     1         1          0      3   \n",
       "3            4       1.0       1    2    0     3         1          0      2   \n",
       "4            5       0.0       3    1    0     1         1          0      1   \n",
       "\n",
       "   Cabin_Class  FamilySize  \n",
       "0            1           1  \n",
       "1            2           1  \n",
       "2            1           0  \n",
       "3            2           1  \n",
       "4            1           0  "
      ]
     },
     "execution_count": 24,
     "metadata": {},
     "output_type": "execute_result"
    }
   ],
   "source": [
    "cols_new = ['Embarked', 'Title', 'Sex', 'Cabin_Class']\n",
    "\n",
    "for col in cols_new:\n",
    "    df_subset[col] = pd.factorize(df_subset[col])[0] + 1\n",
    "    \n",
    "df_subset.head()"
   ]
  },
  {
   "cell_type": "code",
   "execution_count": 25,
   "id": "separated-recall",
   "metadata": {
    "execution": {
     "iopub.execute_input": "2021-06-27T15:36:23.724103Z",
     "iopub.status.busy": "2021-06-27T15:36:23.723378Z",
     "iopub.status.idle": "2021-06-27T15:36:23.730857Z",
     "shell.execute_reply": "2021-06-27T15:36:23.731335Z",
     "shell.execute_reply.started": "2021-06-27T15:20:54.670161Z"
    },
    "papermill": {
     "duration": 0.052714,
     "end_time": "2021-06-27T15:36:23.731524",
     "exception": false,
     "start_time": "2021-06-27T15:36:23.678810",
     "status": "completed"
    },
    "tags": []
   },
   "outputs": [],
   "source": [
    "train_set = df_subset[df_subset['test_flag']==0]\n",
    "test_set = df_subset[df_subset['test_flag']==1]"
   ]
  },
  {
   "cell_type": "code",
   "execution_count": 26,
   "id": "senior-morrison",
   "metadata": {
    "execution": {
     "iopub.execute_input": "2021-06-27T15:36:23.816669Z",
     "iopub.status.busy": "2021-06-27T15:36:23.815993Z",
     "iopub.status.idle": "2021-06-27T15:36:23.825742Z",
     "shell.execute_reply": "2021-06-27T15:36:23.824862Z",
     "shell.execute_reply.started": "2021-06-27T15:20:55.932883Z"
    },
    "papermill": {
     "duration": 0.053715,
     "end_time": "2021-06-27T15:36:23.825966",
     "exception": false,
     "start_time": "2021-06-27T15:36:23.772251",
     "status": "completed"
    },
    "tags": []
   },
   "outputs": [
    {
     "name": "stderr",
     "output_type": "stream",
     "text": [
      "/opt/conda/lib/python3.7/site-packages/ipykernel_launcher.py:1: SettingWithCopyWarning: \n",
      "A value is trying to be set on a copy of a slice from a DataFrame.\n",
      "Try using .loc[row_indexer,col_indexer] = value instead\n",
      "\n",
      "See the caveats in the documentation: https://pandas.pydata.org/pandas-docs/stable/user_guide/indexing.html#returning-a-view-versus-a-copy\n",
      "  \"\"\"Entry point for launching an IPython kernel.\n"
     ]
    }
   ],
   "source": [
    "train_set['Survived'] = train_set['Survived'].astype(int)"
   ]
  },
  {
   "cell_type": "code",
   "execution_count": 27,
   "id": "operating-establishment",
   "metadata": {
    "execution": {
     "iopub.execute_input": "2021-06-27T15:36:23.925394Z",
     "iopub.status.busy": "2021-06-27T15:36:23.924702Z",
     "iopub.status.idle": "2021-06-27T15:36:23.928545Z",
     "shell.execute_reply": "2021-06-27T15:36:23.929041Z",
     "shell.execute_reply.started": "2021-06-27T15:20:57.603654Z"
    },
    "papermill": {
     "duration": 0.05774,
     "end_time": "2021-06-27T15:36:23.929240",
     "exception": false,
     "start_time": "2021-06-27T15:36:23.871500",
     "status": "completed"
    },
    "tags": []
   },
   "outputs": [
    {
     "name": "stdout",
     "output_type": "stream",
     "text": [
      "(891, 11)\n",
      "(418, 11)\n"
     ]
    }
   ],
   "source": [
    "print(train_set.shape)\n",
    "print(test_set.shape)"
   ]
  },
  {
   "cell_type": "code",
   "execution_count": 28,
   "id": "quiet-sharing",
   "metadata": {
    "execution": {
     "iopub.execute_input": "2021-06-27T15:36:24.021658Z",
     "iopub.status.busy": "2021-06-27T15:36:24.021022Z",
     "iopub.status.idle": "2021-06-27T15:36:24.024073Z",
     "shell.execute_reply": "2021-06-27T15:36:24.024536Z",
     "shell.execute_reply.started": "2021-06-27T15:21:01.387709Z"
    },
    "papermill": {
     "duration": 0.053915,
     "end_time": "2021-06-27T15:36:24.024729",
     "exception": false,
     "start_time": "2021-06-27T15:36:23.970814",
     "status": "completed"
    },
    "tags": []
   },
   "outputs": [],
   "source": [
    "test_set = test_set.drop(['Survived', 'test_flag'], axis = 1)\n",
    "train_set = train_set.drop(['test_flag'], axis = 1)"
   ]
  },
  {
   "cell_type": "code",
   "execution_count": 29,
   "id": "unable-harmony",
   "metadata": {
    "execution": {
     "iopub.execute_input": "2021-06-27T15:36:24.121048Z",
     "iopub.status.busy": "2021-06-27T15:36:24.115808Z",
     "iopub.status.idle": "2021-06-27T15:36:24.126643Z",
     "shell.execute_reply": "2021-06-27T15:36:24.126033Z",
     "shell.execute_reply.started": "2021-06-27T15:21:02.993924Z"
    },
    "papermill": {
     "duration": 0.061096,
     "end_time": "2021-06-27T15:36:24.126842",
     "exception": false,
     "start_time": "2021-06-27T15:36:24.065746",
     "status": "completed"
    },
    "tags": []
   },
   "outputs": [
    {
     "data": {
      "text/html": [
       "<div>\n",
       "<style scoped>\n",
       "    .dataframe tbody tr th:only-of-type {\n",
       "        vertical-align: middle;\n",
       "    }\n",
       "\n",
       "    .dataframe tbody tr th {\n",
       "        vertical-align: top;\n",
       "    }\n",
       "\n",
       "    .dataframe thead th {\n",
       "        text-align: right;\n",
       "    }\n",
       "</style>\n",
       "<table border=\"1\" class=\"dataframe\">\n",
       "  <thead>\n",
       "    <tr style=\"text-align: right;\">\n",
       "      <th></th>\n",
       "      <th>PassengerId</th>\n",
       "      <th>Survived</th>\n",
       "      <th>Pclass</th>\n",
       "      <th>Sex</th>\n",
       "      <th>Age</th>\n",
       "      <th>Fare</th>\n",
       "      <th>Embarked</th>\n",
       "      <th>Title</th>\n",
       "      <th>Cabin_Class</th>\n",
       "      <th>FamilySize</th>\n",
       "    </tr>\n",
       "  </thead>\n",
       "  <tbody>\n",
       "    <tr>\n",
       "      <th>0</th>\n",
       "      <td>1</td>\n",
       "      <td>0</td>\n",
       "      <td>3</td>\n",
       "      <td>1</td>\n",
       "      <td>0</td>\n",
       "      <td>0</td>\n",
       "      <td>1</td>\n",
       "      <td>1</td>\n",
       "      <td>1</td>\n",
       "      <td>1</td>\n",
       "    </tr>\n",
       "    <tr>\n",
       "      <th>1</th>\n",
       "      <td>2</td>\n",
       "      <td>1</td>\n",
       "      <td>1</td>\n",
       "      <td>2</td>\n",
       "      <td>0</td>\n",
       "      <td>3</td>\n",
       "      <td>2</td>\n",
       "      <td>2</td>\n",
       "      <td>2</td>\n",
       "      <td>1</td>\n",
       "    </tr>\n",
       "    <tr>\n",
       "      <th>2</th>\n",
       "      <td>3</td>\n",
       "      <td>1</td>\n",
       "      <td>3</td>\n",
       "      <td>2</td>\n",
       "      <td>0</td>\n",
       "      <td>1</td>\n",
       "      <td>1</td>\n",
       "      <td>3</td>\n",
       "      <td>1</td>\n",
       "      <td>0</td>\n",
       "    </tr>\n",
       "    <tr>\n",
       "      <th>3</th>\n",
       "      <td>4</td>\n",
       "      <td>1</td>\n",
       "      <td>1</td>\n",
       "      <td>2</td>\n",
       "      <td>0</td>\n",
       "      <td>3</td>\n",
       "      <td>1</td>\n",
       "      <td>2</td>\n",
       "      <td>2</td>\n",
       "      <td>1</td>\n",
       "    </tr>\n",
       "    <tr>\n",
       "      <th>4</th>\n",
       "      <td>5</td>\n",
       "      <td>0</td>\n",
       "      <td>3</td>\n",
       "      <td>1</td>\n",
       "      <td>0</td>\n",
       "      <td>1</td>\n",
       "      <td>1</td>\n",
       "      <td>1</td>\n",
       "      <td>1</td>\n",
       "      <td>0</td>\n",
       "    </tr>\n",
       "  </tbody>\n",
       "</table>\n",
       "</div>"
      ],
      "text/plain": [
       "   PassengerId  Survived  Pclass  Sex  Age  Fare  Embarked  Title  \\\n",
       "0            1         0       3    1    0     0         1      1   \n",
       "1            2         1       1    2    0     3         2      2   \n",
       "2            3         1       3    2    0     1         1      3   \n",
       "3            4         1       1    2    0     3         1      2   \n",
       "4            5         0       3    1    0     1         1      1   \n",
       "\n",
       "   Cabin_Class  FamilySize  \n",
       "0            1           1  \n",
       "1            2           1  \n",
       "2            1           0  \n",
       "3            2           1  \n",
       "4            1           0  "
      ]
     },
     "execution_count": 29,
     "metadata": {},
     "output_type": "execute_result"
    }
   ],
   "source": [
    "train_set.head(5)"
   ]
  },
  {
   "cell_type": "code",
   "execution_count": 30,
   "id": "adjusted-arrest",
   "metadata": {
    "execution": {
     "iopub.execute_input": "2021-06-27T15:36:24.226239Z",
     "iopub.status.busy": "2021-06-27T15:36:24.225368Z",
     "iopub.status.idle": "2021-06-27T15:36:25.390681Z",
     "shell.execute_reply": "2021-06-27T15:36:25.389997Z",
     "shell.execute_reply.started": "2021-06-27T15:33:15.423184Z"
    },
    "papermill": {
     "duration": 1.218029,
     "end_time": "2021-06-27T15:36:25.390868",
     "exception": false,
     "start_time": "2021-06-27T15:36:24.172839",
     "status": "completed"
    },
    "tags": []
   },
   "outputs": [],
   "source": [
    "from sklearn.model_selection import train_test_split\n",
    "\n",
    "X = train_set[['Pclass', 'Sex', 'Age', 'Fare', 'Embarked', 'Title', 'FamilySize']]\n",
    "y = train_set[['Survived']]"
   ]
  },
  {
   "cell_type": "code",
   "execution_count": 31,
   "id": "small-cooper",
   "metadata": {
    "execution": {
     "iopub.execute_input": "2021-06-27T15:36:25.481555Z",
     "iopub.status.busy": "2021-06-27T15:36:25.480918Z",
     "iopub.status.idle": "2021-06-27T15:36:25.488713Z",
     "shell.execute_reply": "2021-06-27T15:36:25.488204Z",
     "shell.execute_reply.started": "2021-06-27T15:33:17.854204Z"
    },
    "papermill": {
     "duration": 0.055752,
     "end_time": "2021-06-27T15:36:25.488879",
     "exception": false,
     "start_time": "2021-06-27T15:36:25.433127",
     "status": "completed"
    },
    "tags": []
   },
   "outputs": [
    {
     "name": "stdout",
     "output_type": "stream",
     "text": [
      "(596, 7) (596, 1)\n",
      "(295, 7) (295, 1)\n"
     ]
    }
   ],
   "source": [
    "X_train, X_test, y_train, y_test = train_test_split(X, y, test_size = 0.33, random_state = 42)\n",
    "\n",
    "print(X_train.shape, y_train.shape)\n",
    "print(X_test.shape, y_test.shape)"
   ]
  },
  {
   "cell_type": "code",
   "execution_count": 32,
   "id": "mineral-buffalo",
   "metadata": {
    "execution": {
     "iopub.execute_input": "2021-06-27T15:36:25.585605Z",
     "iopub.status.busy": "2021-06-27T15:36:25.584949Z",
     "iopub.status.idle": "2021-06-27T15:36:25.589617Z",
     "shell.execute_reply": "2021-06-27T15:36:25.588972Z",
     "shell.execute_reply.started": "2021-06-27T15:33:20.897347Z"
    },
    "papermill": {
     "duration": 0.058763,
     "end_time": "2021-06-27T15:36:25.589880",
     "exception": false,
     "start_time": "2021-06-27T15:36:25.531117",
     "status": "completed"
    },
    "tags": []
   },
   "outputs": [
    {
     "data": {
      "text/html": [
       "<div>\n",
       "<style scoped>\n",
       "    .dataframe tbody tr th:only-of-type {\n",
       "        vertical-align: middle;\n",
       "    }\n",
       "\n",
       "    .dataframe tbody tr th {\n",
       "        vertical-align: top;\n",
       "    }\n",
       "\n",
       "    .dataframe thead th {\n",
       "        text-align: right;\n",
       "    }\n",
       "</style>\n",
       "<table border=\"1\" class=\"dataframe\">\n",
       "  <thead>\n",
       "    <tr style=\"text-align: right;\">\n",
       "      <th></th>\n",
       "      <th>Pclass</th>\n",
       "      <th>Sex</th>\n",
       "      <th>Age</th>\n",
       "      <th>Fare</th>\n",
       "      <th>Embarked</th>\n",
       "      <th>Title</th>\n",
       "      <th>FamilySize</th>\n",
       "    </tr>\n",
       "  </thead>\n",
       "  <tbody>\n",
       "    <tr>\n",
       "      <th>709</th>\n",
       "      <td>3</td>\n",
       "      <td>1</td>\n",
       "      <td>0</td>\n",
       "      <td>2</td>\n",
       "      <td>2</td>\n",
       "      <td>4</td>\n",
       "      <td>1</td>\n",
       "    </tr>\n",
       "    <tr>\n",
       "      <th>439</th>\n",
       "      <td>2</td>\n",
       "      <td>1</td>\n",
       "      <td>0</td>\n",
       "      <td>1</td>\n",
       "      <td>1</td>\n",
       "      <td>1</td>\n",
       "      <td>0</td>\n",
       "    </tr>\n",
       "    <tr>\n",
       "      <th>840</th>\n",
       "      <td>3</td>\n",
       "      <td>1</td>\n",
       "      <td>0</td>\n",
       "      <td>1</td>\n",
       "      <td>1</td>\n",
       "      <td>1</td>\n",
       "      <td>0</td>\n",
       "    </tr>\n",
       "    <tr>\n",
       "      <th>720</th>\n",
       "      <td>2</td>\n",
       "      <td>2</td>\n",
       "      <td>1</td>\n",
       "      <td>3</td>\n",
       "      <td>1</td>\n",
       "      <td>3</td>\n",
       "      <td>1</td>\n",
       "    </tr>\n",
       "    <tr>\n",
       "      <th>39</th>\n",
       "      <td>3</td>\n",
       "      <td>2</td>\n",
       "      <td>1</td>\n",
       "      <td>1</td>\n",
       "      <td>2</td>\n",
       "      <td>3</td>\n",
       "      <td>1</td>\n",
       "    </tr>\n",
       "  </tbody>\n",
       "</table>\n",
       "</div>"
      ],
      "text/plain": [
       "     Pclass  Sex  Age  Fare  Embarked  Title  FamilySize\n",
       "709       3    1    0     2         2      4           1\n",
       "439       2    1    0     1         1      1           0\n",
       "840       3    1    0     1         1      1           0\n",
       "720       2    2    1     3         1      3           1\n",
       "39        3    2    1     1         2      3           1"
      ]
     },
     "execution_count": 32,
     "metadata": {},
     "output_type": "execute_result"
    }
   ],
   "source": [
    "X_test.head()"
   ]
  },
  {
   "cell_type": "code",
   "execution_count": 33,
   "id": "foreign-approach",
   "metadata": {
    "execution": {
     "iopub.execute_input": "2021-06-27T15:36:25.690334Z",
     "iopub.status.busy": "2021-06-27T15:36:25.689530Z",
     "iopub.status.idle": "2021-06-27T15:36:25.832939Z",
     "shell.execute_reply": "2021-06-27T15:36:25.832389Z",
     "shell.execute_reply.started": "2021-06-27T15:33:25.477616Z"
    },
    "papermill": {
     "duration": 0.196659,
     "end_time": "2021-06-27T15:36:25.833097",
     "exception": false,
     "start_time": "2021-06-27T15:36:25.636438",
     "status": "completed"
    },
    "tags": []
   },
   "outputs": [
    {
     "name": "stderr",
     "output_type": "stream",
     "text": [
      "/opt/conda/lib/python3.7/site-packages/sklearn/utils/validation.py:63: DataConversionWarning: A column-vector y was passed when a 1d array was expected. Please change the shape of y to (n_samples, ), for example using ravel().\n",
      "  return f(*args, **kwargs)\n"
     ]
    },
    {
     "data": {
      "text/plain": [
       "79.53"
      ]
     },
     "execution_count": 33,
     "metadata": {},
     "output_type": "execute_result"
    }
   ],
   "source": [
    "# Logistic Regression Model\n",
    "\n",
    "from sklearn.linear_model import LogisticRegression\n",
    "\n",
    "logreg = LogisticRegression()\n",
    "logistic_model = logreg.fit(X_train, y_train)\n",
    "predictions = logistic_model.predict(X_test)\n",
    "\n",
    "acc_logistic_regressions = round(logistic_model.score(X_train, y_train) * 100, 2)\n",
    "acc_logistic_regressions"
   ]
  },
  {
   "cell_type": "code",
   "execution_count": 34,
   "id": "future-effort",
   "metadata": {
    "execution": {
     "iopub.execute_input": "2021-06-27T15:36:25.925878Z",
     "iopub.status.busy": "2021-06-27T15:36:25.925116Z",
     "iopub.status.idle": "2021-06-27T15:36:26.059123Z",
     "shell.execute_reply": "2021-06-27T15:36:26.059665Z",
     "shell.execute_reply.started": "2021-06-27T15:33:27.791875Z"
    },
    "papermill": {
     "duration": 0.183531,
     "end_time": "2021-06-27T15:36:26.059892",
     "exception": false,
     "start_time": "2021-06-27T15:36:25.876361",
     "status": "completed"
    },
    "tags": []
   },
   "outputs": [
    {
     "data": {
      "text/plain": [
       "87.25"
      ]
     },
     "execution_count": 34,
     "metadata": {},
     "output_type": "execute_result"
    }
   ],
   "source": [
    "# Decision Tree model\n",
    "from sklearn.tree import DecisionTreeClassifier\n",
    "\n",
    "dec_tree = DecisionTreeClassifier()\n",
    "decision_tree = dec_tree.fit(X_train, y_train)\n",
    "prediction_tree = decision_tree.predict(X_test)\n",
    "\n",
    "acc_decision_tree = round(decision_tree.score(X_train, y_train) * 100, 2)\n",
    "acc_decision_tree"
   ]
  },
  {
   "cell_type": "code",
   "execution_count": 35,
   "id": "statutory-parcel",
   "metadata": {
    "execution": {
     "iopub.execute_input": "2021-06-27T15:36:26.164563Z",
     "iopub.status.busy": "2021-06-27T15:36:26.163862Z",
     "iopub.status.idle": "2021-06-27T15:36:26.440584Z",
     "shell.execute_reply": "2021-06-27T15:36:26.441172Z",
     "shell.execute_reply.started": "2021-06-27T15:33:35.112332Z"
    },
    "papermill": {
     "duration": 0.331545,
     "end_time": "2021-06-27T15:36:26.441414",
     "exception": false,
     "start_time": "2021-06-27T15:36:26.109869",
     "status": "completed"
    },
    "tags": []
   },
   "outputs": [
    {
     "name": "stderr",
     "output_type": "stream",
     "text": [
      "/opt/conda/lib/python3.7/site-packages/ipykernel_launcher.py:6: DataConversionWarning: A column-vector y was passed when a 1d array was expected. Please change the shape of y to (n_samples,), for example using ravel().\n",
      "  \n"
     ]
    },
    {
     "data": {
      "text/plain": [
       "87.25"
      ]
     },
     "execution_count": 35,
     "metadata": {},
     "output_type": "execute_result"
    }
   ],
   "source": [
    "# Random Forest Model\n",
    "\n",
    "from sklearn.ensemble import RandomForestClassifier\n",
    "\n",
    "rf = RandomForestClassifier(n_estimators=100)\n",
    "random_forest = rf.fit(X_train, y_train)\n",
    "prediction_forest = random_forest.predict(X_test)\n",
    "\n",
    "acc_random_forest = round(random_forest.score(X_train, y_train) * 100, 2)\n",
    "acc_random_forest"
   ]
  },
  {
   "cell_type": "code",
   "execution_count": 36,
   "id": "yellow-principle",
   "metadata": {
    "execution": {
     "iopub.execute_input": "2021-06-27T15:36:26.546194Z",
     "iopub.status.busy": "2021-06-27T15:36:26.545464Z",
     "iopub.status.idle": "2021-06-27T15:36:26.564252Z",
     "shell.execute_reply": "2021-06-27T15:36:26.563679Z",
     "shell.execute_reply.started": "2021-06-27T15:33:38.485636Z"
    },
    "papermill": {
     "duration": 0.072627,
     "end_time": "2021-06-27T15:36:26.564427",
     "exception": false,
     "start_time": "2021-06-27T15:36:26.491800",
     "status": "completed"
    },
    "tags": []
   },
   "outputs": [
    {
     "name": "stderr",
     "output_type": "stream",
     "text": [
      "/opt/conda/lib/python3.7/site-packages/sklearn/utils/validation.py:63: DataConversionWarning: A column-vector y was passed when a 1d array was expected. Please change the shape of y to (n_samples, ), for example using ravel().\n",
      "  return f(*args, **kwargs)\n"
     ]
    },
    {
     "data": {
      "text/plain": [
       "77.68"
      ]
     },
     "execution_count": 36,
     "metadata": {},
     "output_type": "execute_result"
    }
   ],
   "source": [
    "# Naive Bayes\n",
    "\n",
    "from sklearn.naive_bayes import GaussianNB\n",
    "\n",
    "gnb = GaussianNB()\n",
    "gaussian = gnb.fit(X_train, y_train)\n",
    "prediction_naive = gaussian.predict(X_test)\n",
    "\n",
    "acc_gaussian = round(gaussian.score(X_train, y_train) * 100, 2)\n",
    "acc_gaussian"
   ]
  },
  {
   "cell_type": "code",
   "execution_count": 37,
   "id": "mounted-duncan",
   "metadata": {
    "execution": {
     "iopub.execute_input": "2021-06-27T15:36:26.675278Z",
     "iopub.status.busy": "2021-06-27T15:36:26.672628Z",
     "iopub.status.idle": "2021-06-27T15:36:26.688620Z",
     "shell.execute_reply": "2021-06-27T15:36:26.689560Z",
     "shell.execute_reply.started": "2021-06-27T15:33:41.062868Z"
    },
    "papermill": {
     "duration": 0.07561,
     "end_time": "2021-06-27T15:36:26.689853",
     "exception": false,
     "start_time": "2021-06-27T15:36:26.614243",
     "status": "completed"
    },
    "tags": []
   },
   "outputs": [
    {
     "name": "stderr",
     "output_type": "stream",
     "text": [
      "/opt/conda/lib/python3.7/site-packages/sklearn/utils/validation.py:63: DataConversionWarning: A column-vector y was passed when a 1d array was expected. Please change the shape of y to (n_samples, ), for example using ravel().\n",
      "  return f(*args, **kwargs)\n"
     ]
    },
    {
     "data": {
      "text/plain": [
       "68.12"
      ]
     },
     "execution_count": 37,
     "metadata": {},
     "output_type": "execute_result"
    }
   ],
   "source": [
    "# Perceptron Model\n",
    "\n",
    "from sklearn.linear_model import Perceptron\n",
    "\n",
    "pcp = Perceptron()\n",
    "perceptron = pcp.fit(X_train, y_train)\n",
    "prediction_perceptron = perceptron.predict(X_test)\n",
    "\n",
    "acc_perceptron = round(perceptron.score(X_train, y_train) * 100, 2)\n",
    "acc_perceptron"
   ]
  },
  {
   "cell_type": "markdown",
   "id": "cheap-combination",
   "metadata": {
    "papermill": {
     "duration": 0.046118,
     "end_time": "2021-06-27T15:36:26.786016",
     "exception": false,
     "start_time": "2021-06-27T15:36:26.739898",
     "status": "completed"
    },
    "tags": []
   },
   "source": [
    "### Use the section below to submit on the test set"
   ]
  },
  {
   "cell_type": "code",
   "execution_count": 38,
   "id": "stopped-understanding",
   "metadata": {
    "execution": {
     "iopub.execute_input": "2021-06-27T15:36:26.894053Z",
     "iopub.status.busy": "2021-06-27T15:36:26.893138Z",
     "iopub.status.idle": "2021-06-27T15:36:26.898666Z",
     "shell.execute_reply": "2021-06-27T15:36:26.897407Z",
     "shell.execute_reply.started": "2021-06-27T15:33:45.927848Z"
    },
    "papermill": {
     "duration": 0.06694,
     "end_time": "2021-06-27T15:36:26.898849",
     "exception": false,
     "start_time": "2021-06-27T15:36:26.831909",
     "status": "completed"
    },
    "tags": []
   },
   "outputs": [
    {
     "data": {
      "text/html": [
       "<div>\n",
       "<style scoped>\n",
       "    .dataframe tbody tr th:only-of-type {\n",
       "        vertical-align: middle;\n",
       "    }\n",
       "\n",
       "    .dataframe tbody tr th {\n",
       "        vertical-align: top;\n",
       "    }\n",
       "\n",
       "    .dataframe thead th {\n",
       "        text-align: right;\n",
       "    }\n",
       "</style>\n",
       "<table border=\"1\" class=\"dataframe\">\n",
       "  <thead>\n",
       "    <tr style=\"text-align: right;\">\n",
       "      <th></th>\n",
       "      <th>Pclass</th>\n",
       "      <th>Sex</th>\n",
       "      <th>Age</th>\n",
       "      <th>Fare</th>\n",
       "      <th>Embarked</th>\n",
       "      <th>Title</th>\n",
       "      <th>FamilySize</th>\n",
       "    </tr>\n",
       "  </thead>\n",
       "  <tbody>\n",
       "    <tr>\n",
       "      <th>0</th>\n",
       "      <td>3</td>\n",
       "      <td>1</td>\n",
       "      <td>0</td>\n",
       "      <td>0</td>\n",
       "      <td>3</td>\n",
       "      <td>1</td>\n",
       "      <td>0</td>\n",
       "    </tr>\n",
       "    <tr>\n",
       "      <th>1</th>\n",
       "      <td>3</td>\n",
       "      <td>2</td>\n",
       "      <td>0</td>\n",
       "      <td>0</td>\n",
       "      <td>1</td>\n",
       "      <td>2</td>\n",
       "      <td>1</td>\n",
       "    </tr>\n",
       "    <tr>\n",
       "      <th>2</th>\n",
       "      <td>2</td>\n",
       "      <td>1</td>\n",
       "      <td>0</td>\n",
       "      <td>1</td>\n",
       "      <td>3</td>\n",
       "      <td>1</td>\n",
       "      <td>0</td>\n",
       "    </tr>\n",
       "    <tr>\n",
       "      <th>3</th>\n",
       "      <td>3</td>\n",
       "      <td>1</td>\n",
       "      <td>0</td>\n",
       "      <td>1</td>\n",
       "      <td>1</td>\n",
       "      <td>1</td>\n",
       "      <td>0</td>\n",
       "    </tr>\n",
       "    <tr>\n",
       "      <th>4</th>\n",
       "      <td>3</td>\n",
       "      <td>2</td>\n",
       "      <td>0</td>\n",
       "      <td>1</td>\n",
       "      <td>1</td>\n",
       "      <td>2</td>\n",
       "      <td>1</td>\n",
       "    </tr>\n",
       "  </tbody>\n",
       "</table>\n",
       "</div>"
      ],
      "text/plain": [
       "   Pclass  Sex  Age  Fare  Embarked  Title  FamilySize\n",
       "0       3    1    0     0         3      1           0\n",
       "1       3    2    0     0         1      2           1\n",
       "2       2    1    0     1         3      1           0\n",
       "3       3    1    0     1         1      1           0\n",
       "4       3    2    0     1         1      2           1"
      ]
     },
     "execution_count": 38,
     "metadata": {},
     "output_type": "execute_result"
    }
   ],
   "source": [
    "test_feature = test_set[['Pclass', 'Sex', 'Age', 'Fare', 'Embarked', 'Title', 'FamilySize']]\n",
    "test_id = test_set['PassengerId']\n",
    "test_feature.head()"
   ]
  },
  {
   "cell_type": "code",
   "execution_count": 39,
   "id": "patent-preservation",
   "metadata": {
    "execution": {
     "iopub.execute_input": "2021-06-27T15:36:27.001107Z",
     "iopub.status.busy": "2021-06-27T15:36:27.000424Z",
     "iopub.status.idle": "2021-06-27T15:36:27.020605Z",
     "shell.execute_reply": "2021-06-27T15:36:27.020053Z",
     "shell.execute_reply.started": "2021-06-27T15:33:51.187714Z"
    },
    "papermill": {
     "duration": 0.075357,
     "end_time": "2021-06-27T15:36:27.020780",
     "exception": false,
     "start_time": "2021-06-27T15:36:26.945423",
     "status": "completed"
    },
    "tags": []
   },
   "outputs": [],
   "source": [
    "test_predictions = random_forest.predict(test_feature)"
   ]
  },
  {
   "cell_type": "code",
   "execution_count": 40,
   "id": "aggressive-sitting",
   "metadata": {
    "execution": {
     "iopub.execute_input": "2021-06-27T15:36:27.117520Z",
     "iopub.status.busy": "2021-06-27T15:36:27.116526Z",
     "iopub.status.idle": "2021-06-27T15:36:27.127861Z",
     "shell.execute_reply": "2021-06-27T15:36:27.127209Z",
     "shell.execute_reply.started": "2021-06-27T15:33:53.345798Z"
    },
    "papermill": {
     "duration": 0.061315,
     "end_time": "2021-06-27T15:36:27.128005",
     "exception": false,
     "start_time": "2021-06-27T15:36:27.066690",
     "status": "completed"
    },
    "tags": []
   },
   "outputs": [
    {
     "data": {
      "text/html": [
       "<div>\n",
       "<style scoped>\n",
       "    .dataframe tbody tr th:only-of-type {\n",
       "        vertical-align: middle;\n",
       "    }\n",
       "\n",
       "    .dataframe tbody tr th {\n",
       "        vertical-align: top;\n",
       "    }\n",
       "\n",
       "    .dataframe thead th {\n",
       "        text-align: right;\n",
       "    }\n",
       "</style>\n",
       "<table border=\"1\" class=\"dataframe\">\n",
       "  <thead>\n",
       "    <tr style=\"text-align: right;\">\n",
       "      <th></th>\n",
       "      <th>PassengerId</th>\n",
       "      <th>Survived</th>\n",
       "    </tr>\n",
       "  </thead>\n",
       "  <tbody>\n",
       "    <tr>\n",
       "      <th>0</th>\n",
       "      <td>892</td>\n",
       "      <td>0</td>\n",
       "    </tr>\n",
       "    <tr>\n",
       "      <th>1</th>\n",
       "      <td>893</td>\n",
       "      <td>1</td>\n",
       "    </tr>\n",
       "    <tr>\n",
       "      <th>2</th>\n",
       "      <td>894</td>\n",
       "      <td>1</td>\n",
       "    </tr>\n",
       "    <tr>\n",
       "      <th>3</th>\n",
       "      <td>895</td>\n",
       "      <td>0</td>\n",
       "    </tr>\n",
       "    <tr>\n",
       "      <th>4</th>\n",
       "      <td>896</td>\n",
       "      <td>1</td>\n",
       "    </tr>\n",
       "  </tbody>\n",
       "</table>\n",
       "</div>"
      ],
      "text/plain": [
       "   PassengerId  Survived\n",
       "0          892         0\n",
       "1          893         1\n",
       "2          894         1\n",
       "3          895         0\n",
       "4          896         1"
      ]
     },
     "execution_count": 40,
     "metadata": {},
     "output_type": "execute_result"
    }
   ],
   "source": [
    "output = pd.DataFrame({'PassengerId' : test_id, 'Survived': test_predictions})\n",
    "output.head()"
   ]
  },
  {
   "cell_type": "code",
   "execution_count": 41,
   "id": "unusual-latex",
   "metadata": {
    "execution": {
     "iopub.execute_input": "2021-06-27T15:36:27.227656Z",
     "iopub.status.busy": "2021-06-27T15:36:27.226694Z",
     "iopub.status.idle": "2021-06-27T15:36:27.230250Z",
     "shell.execute_reply": "2021-06-27T15:36:27.230697Z"
    },
    "papermill": {
     "duration": 0.056485,
     "end_time": "2021-06-27T15:36:27.230919",
     "exception": false,
     "start_time": "2021-06-27T15:36:27.174434",
     "status": "completed"
    },
    "tags": []
   },
   "outputs": [],
   "source": [
    "# Use this data type conversion for the output feature, if the score comes as 0 in submission\n",
    "\n",
    "# model.predict(test_data).astype(int)"
   ]
  },
  {
   "cell_type": "code",
   "execution_count": 42,
   "id": "floral-update",
   "metadata": {
    "execution": {
     "iopub.execute_input": "2021-06-27T15:36:27.329827Z",
     "iopub.status.busy": "2021-06-27T15:36:27.327895Z",
     "iopub.status.idle": "2021-06-27T15:36:27.338312Z",
     "shell.execute_reply": "2021-06-27T15:36:27.337641Z",
     "shell.execute_reply.started": "2021-06-27T15:34:02.004679Z"
    },
    "papermill": {
     "duration": 0.060236,
     "end_time": "2021-06-27T15:36:27.338461",
     "exception": false,
     "start_time": "2021-06-27T15:36:27.278225",
     "status": "completed"
    },
    "tags": []
   },
   "outputs": [],
   "source": [
    "output.to_csv('/kaggle/working/submission.csv', index=False)"
   ]
  }
 ],
 "metadata": {
  "kernelspec": {
   "display_name": "Python 3",
   "language": "python",
   "name": "python3"
  },
  "language_info": {
   "codemirror_mode": {
    "name": "ipython",
    "version": 3
   },
   "file_extension": ".py",
   "mimetype": "text/x-python",
   "name": "python",
   "nbconvert_exporter": "python",
   "pygments_lexer": "ipython3",
   "version": "3.7.10"
  },
  "papermill": {
   "default_parameters": {},
   "duration": 16.949867,
   "end_time": "2021-06-27T15:36:29.211973",
   "environment_variables": {},
   "exception": null,
   "input_path": "__notebook__.ipynb",
   "output_path": "__notebook__.ipynb",
   "parameters": {},
   "start_time": "2021-06-27T15:36:12.262106",
   "version": "2.3.3"
  }
 },
 "nbformat": 4,
 "nbformat_minor": 5
}
