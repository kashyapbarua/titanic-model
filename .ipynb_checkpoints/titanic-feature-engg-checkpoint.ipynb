{
 "cells": [
  {
   "cell_type": "markdown",
   "metadata": {
    "execution": {
     "iopub.execute_input": "2021-06-27T15:39:43.023309Z",
     "iopub.status.busy": "2021-06-27T15:39:43.022922Z",
     "iopub.status.idle": "2021-06-27T15:39:43.030724Z",
     "shell.execute_reply": "2021-06-27T15:39:43.029112Z",
     "shell.execute_reply.started": "2021-06-27T15:39:43.023276Z"
    },
    "papermill": {
     "duration": 0.035169,
     "end_time": "2021-06-28T16:53:41.289948",
     "exception": false,
     "start_time": "2021-06-28T16:53:41.254779",
     "status": "completed"
    },
    "tags": []
   },
   "source": [
    "## Titanic Disaster Dataset Feature Engineering\n",
    "\n",
    "This notebook is an attempt towards kick-starting my way around the Titanic dataset to improve my model scores based on feature engineering techniques.\n",
    "This is not going to be an extensive EDA notebook for viewers, as there are already tons of notebooks available with great amount of EDA to understand the intricacies of the dataset from all aspects.\n",
    "* We will work with missing value imputations\n",
    "* We will also try to combine some features with each other to come up with new ones\n",
    "* We will try to improve our scores by building up on our feature engineering process"
   ]
  },
  {
   "cell_type": "code",
   "execution_count": 1,
   "metadata": {
    "_cell_guid": "b1076dfc-b9ad-4769-8c92-a6c4dae69d19",
    "_uuid": "8f2839f25d086af736a60e9eeb907d3b93b6e0e5",
    "execution": {
     "iopub.execute_input": "2021-06-28T16:53:41.369239Z",
     "iopub.status.busy": "2021-06-28T16:53:41.368241Z",
     "iopub.status.idle": "2021-06-28T16:53:41.371710Z",
     "shell.execute_reply": "2021-06-28T16:53:41.370965Z",
     "shell.execute_reply.started": "2021-06-28T16:36:06.438274Z"
    },
    "papermill": {
     "duration": 0.047989,
     "end_time": "2021-06-28T16:53:41.371880",
     "exception": false,
     "start_time": "2021-06-28T16:53:41.323891",
     "status": "completed"
    },
    "tags": []
   },
   "outputs": [],
   "source": [
    "# Import the required packages here\n",
    "\n",
    "import numpy as np\n",
    "import pandas as pd\n",
    "import warnings\n",
    "warnings.filterwarnings('ignore') #Remove warning messages within the kernel"
   ]
  },
  {
   "cell_type": "code",
   "execution_count": 2,
   "metadata": {
    "execution": {
     "iopub.execute_input": "2021-06-28T16:53:41.447685Z",
     "iopub.status.busy": "2021-06-28T16:53:41.446952Z",
     "iopub.status.idle": "2021-06-28T16:53:41.477463Z",
     "shell.execute_reply": "2021-06-28T16:53:41.476846Z",
     "shell.execute_reply.started": "2021-06-28T16:36:08.983833Z"
    },
    "papermill": {
     "duration": 0.071926,
     "end_time": "2021-06-28T16:53:41.477609",
     "exception": false,
     "start_time": "2021-06-28T16:53:41.405683",
     "status": "completed"
    },
    "tags": []
   },
   "outputs": [],
   "source": [
    "# Import the datasets here\n",
    "train = pd.read_csv('/kaggle/input/titanic/train.csv')\n",
    "test = pd.read_csv('/kaggle/input/titanic/test.csv')"
   ]
  },
  {
   "cell_type": "code",
   "execution_count": 3,
   "metadata": {
    "execution": {
     "iopub.execute_input": "2021-06-28T16:53:41.552588Z",
     "iopub.status.busy": "2021-06-28T16:53:41.551887Z",
     "iopub.status.idle": "2021-06-28T16:53:41.554868Z",
     "shell.execute_reply": "2021-06-28T16:53:41.555413Z",
     "shell.execute_reply.started": "2021-06-28T16:36:09.183519Z"
    },
    "papermill": {
     "duration": 0.042715,
     "end_time": "2021-06-28T16:53:41.555587",
     "exception": false,
     "start_time": "2021-06-28T16:53:41.512872",
     "status": "completed"
    },
    "tags": []
   },
   "outputs": [
    {
     "name": "stdout",
     "output_type": "stream",
     "text": [
      "(891, 12)\n",
      "(418, 11)\n"
     ]
    }
   ],
   "source": [
    "print(train.shape)\n",
    "print(test.shape)"
   ]
  },
  {
   "cell_type": "code",
   "execution_count": 4,
   "metadata": {
    "execution": {
     "iopub.execute_input": "2021-06-28T16:53:41.628729Z",
     "iopub.status.busy": "2021-06-28T16:53:41.628065Z",
     "iopub.status.idle": "2021-06-28T16:53:41.648958Z",
     "shell.execute_reply": "2021-06-28T16:53:41.649435Z",
     "shell.execute_reply.started": "2021-06-28T16:36:09.524297Z"
    },
    "papermill": {
     "duration": 0.059181,
     "end_time": "2021-06-28T16:53:41.649639",
     "exception": false,
     "start_time": "2021-06-28T16:53:41.590458",
     "status": "completed"
    },
    "tags": []
   },
   "outputs": [],
   "source": [
    "# Append the train and test dataframes for data cleaning. \n",
    "# We also add a flag so that at a later stage, we can split the combined dataframe to train and test again\n",
    "\n",
    "train['test_flag'] = 0\n",
    "test['test_flag'] = 1\n",
    "df_combined = pd.concat([train, test], axis=0, copy=True)"
   ]
  },
  {
   "cell_type": "markdown",
   "metadata": {
    "papermill": {
     "duration": 0.035496,
     "end_time": "2021-06-28T16:53:41.719431",
     "exception": false,
     "start_time": "2021-06-28T16:53:41.683935",
     "status": "completed"
    },
    "tags": []
   },
   "source": [
    "### High level EDA\n",
    "\n",
    "We take a look at the % of missing values in each of the features available in the train and test dataset.\n",
    "\n",
    "_Ignore the missing values in the 'Survived' feature, because of the concatenation the missing values are attributed from the test set_"
   ]
  },
  {
   "cell_type": "code",
   "execution_count": 5,
   "metadata": {
    "execution": {
     "iopub.execute_input": "2021-06-28T16:53:41.792470Z",
     "iopub.status.busy": "2021-06-28T16:53:41.790597Z",
     "iopub.status.idle": "2021-06-28T16:53:41.819081Z",
     "shell.execute_reply": "2021-06-28T16:53:41.819754Z",
     "shell.execute_reply.started": "2021-06-28T16:36:10.452177Z"
    },
    "papermill": {
     "duration": 0.066416,
     "end_time": "2021-06-28T16:53:41.819939",
     "exception": false,
     "start_time": "2021-06-28T16:53:41.753523",
     "status": "completed"
    },
    "tags": []
   },
   "outputs": [
    {
     "name": "stdout",
     "output_type": "stream",
     "text": [
      "PassengerId     0.000000\n",
      "Survived       31.932773\n",
      "Pclass          0.000000\n",
      "Name            0.000000\n",
      "Sex             0.000000\n",
      "Age            20.091673\n",
      "SibSp           0.000000\n",
      "Parch           0.000000\n",
      "Ticket          0.000000\n",
      "Fare            0.076394\n",
      "Cabin          77.463713\n",
      "Embarked        0.152788\n",
      "test_flag       0.000000\n",
      "dtype: float64\n"
     ]
    }
   ],
   "source": [
    "# Check the % missing values in all the columns of the train set\n",
    "print(df_combined.isnull().sum()*100/df_combined.shape[0])\n",
    "\n",
    "# Ignore the missing values for the output class 'Survived' as they are from the test set"
   ]
  },
  {
   "cell_type": "code",
   "execution_count": 6,
   "metadata": {
    "execution": {
     "iopub.execute_input": "2021-06-28T16:53:41.897308Z",
     "iopub.status.busy": "2021-06-28T16:53:41.896282Z",
     "iopub.status.idle": "2021-06-28T16:53:41.903805Z",
     "shell.execute_reply": "2021-06-28T16:53:41.904345Z",
     "shell.execute_reply.started": "2021-06-28T16:36:10.903886Z"
    },
    "papermill": {
     "duration": 0.046279,
     "end_time": "2021-06-28T16:53:41.904530",
     "exception": false,
     "start_time": "2021-06-28T16:53:41.858251",
     "status": "completed"
    },
    "tags": []
   },
   "outputs": [],
   "source": [
    "# Subsetting for the list of columns which has less to no missing values\n",
    "\n",
    "df_subset = df_combined[['PassengerId', 'Survived', 'Pclass', 'Sex', 'Age', 'SibSp', 'Parch', 'Ticket', 'Fare', 'Cabin', 'Name', 'Embarked', 'test_flag']]"
   ]
  },
  {
   "cell_type": "markdown",
   "metadata": {
    "papermill": {
     "duration": 0.035064,
     "end_time": "2021-06-28T16:53:41.974239",
     "exception": false,
     "start_time": "2021-06-28T16:53:41.939175",
     "status": "completed"
    },
    "tags": []
   },
   "source": [
    "### Data Cleaning and missing value imputation for the columns\n",
    "\n",
    "* One of the most common approach to feature engineering has been using the **Name** feature to create a Title feature using regex\n",
    "* Using the **Cabin** feature to create classes from the initial letter of the column. The nan have been tagged as 'U' or 'Unknown' class in the data\n",
    "* We'll not use the **Ticket** feature for now, as that feature didn't make quite a lot of sense to me\n"
   ]
  },
  {
   "cell_type": "code",
   "execution_count": 7,
   "metadata": {
    "execution": {
     "iopub.execute_input": "2021-06-28T16:53:42.097629Z",
     "iopub.status.busy": "2021-06-28T16:53:42.095062Z",
     "iopub.status.idle": "2021-06-28T16:53:42.139921Z",
     "shell.execute_reply": "2021-06-28T16:53:42.140471Z",
     "shell.execute_reply.started": "2021-06-28T16:36:12.186446Z"
    },
    "papermill": {
     "duration": 0.130895,
     "end_time": "2021-06-28T16:53:42.140662",
     "exception": false,
     "start_time": "2021-06-28T16:53:42.009767",
     "status": "completed"
    },
    "tags": []
   },
   "outputs": [
    {
     "data": {
      "text/html": [
       "<div>\n",
       "<style scoped>\n",
       "    .dataframe tbody tr th:only-of-type {\n",
       "        vertical-align: middle;\n",
       "    }\n",
       "\n",
       "    .dataframe tbody tr th {\n",
       "        vertical-align: top;\n",
       "    }\n",
       "\n",
       "    .dataframe thead th {\n",
       "        text-align: right;\n",
       "    }\n",
       "</style>\n",
       "<table border=\"1\" class=\"dataframe\">\n",
       "  <thead>\n",
       "    <tr style=\"text-align: right;\">\n",
       "      <th>Sex</th>\n",
       "      <th>female</th>\n",
       "      <th>male</th>\n",
       "    </tr>\n",
       "    <tr>\n",
       "      <th>Title</th>\n",
       "      <th></th>\n",
       "      <th></th>\n",
       "    </tr>\n",
       "  </thead>\n",
       "  <tbody>\n",
       "    <tr>\n",
       "      <th>Capt</th>\n",
       "      <td>0</td>\n",
       "      <td>1</td>\n",
       "    </tr>\n",
       "    <tr>\n",
       "      <th>Col</th>\n",
       "      <td>0</td>\n",
       "      <td>4</td>\n",
       "    </tr>\n",
       "    <tr>\n",
       "      <th>Countess</th>\n",
       "      <td>1</td>\n",
       "      <td>0</td>\n",
       "    </tr>\n",
       "    <tr>\n",
       "      <th>Don</th>\n",
       "      <td>0</td>\n",
       "      <td>1</td>\n",
       "    </tr>\n",
       "    <tr>\n",
       "      <th>Dona</th>\n",
       "      <td>1</td>\n",
       "      <td>0</td>\n",
       "    </tr>\n",
       "    <tr>\n",
       "      <th>Dr</th>\n",
       "      <td>1</td>\n",
       "      <td>7</td>\n",
       "    </tr>\n",
       "    <tr>\n",
       "      <th>Jonkheer</th>\n",
       "      <td>0</td>\n",
       "      <td>1</td>\n",
       "    </tr>\n",
       "    <tr>\n",
       "      <th>Lady</th>\n",
       "      <td>1</td>\n",
       "      <td>0</td>\n",
       "    </tr>\n",
       "    <tr>\n",
       "      <th>Major</th>\n",
       "      <td>0</td>\n",
       "      <td>2</td>\n",
       "    </tr>\n",
       "    <tr>\n",
       "      <th>Master</th>\n",
       "      <td>0</td>\n",
       "      <td>61</td>\n",
       "    </tr>\n",
       "    <tr>\n",
       "      <th>Miss</th>\n",
       "      <td>260</td>\n",
       "      <td>0</td>\n",
       "    </tr>\n",
       "    <tr>\n",
       "      <th>Mlle</th>\n",
       "      <td>2</td>\n",
       "      <td>0</td>\n",
       "    </tr>\n",
       "    <tr>\n",
       "      <th>Mme</th>\n",
       "      <td>1</td>\n",
       "      <td>0</td>\n",
       "    </tr>\n",
       "    <tr>\n",
       "      <th>Mr</th>\n",
       "      <td>0</td>\n",
       "      <td>757</td>\n",
       "    </tr>\n",
       "    <tr>\n",
       "      <th>Mrs</th>\n",
       "      <td>197</td>\n",
       "      <td>0</td>\n",
       "    </tr>\n",
       "    <tr>\n",
       "      <th>Ms</th>\n",
       "      <td>2</td>\n",
       "      <td>0</td>\n",
       "    </tr>\n",
       "    <tr>\n",
       "      <th>Rev</th>\n",
       "      <td>0</td>\n",
       "      <td>8</td>\n",
       "    </tr>\n",
       "    <tr>\n",
       "      <th>Sir</th>\n",
       "      <td>0</td>\n",
       "      <td>1</td>\n",
       "    </tr>\n",
       "  </tbody>\n",
       "</table>\n",
       "</div>"
      ],
      "text/plain": [
       "Sex       female  male\n",
       "Title                 \n",
       "Capt           0     1\n",
       "Col            0     4\n",
       "Countess       1     0\n",
       "Don            0     1\n",
       "Dona           1     0\n",
       "Dr             1     7\n",
       "Jonkheer       0     1\n",
       "Lady           1     0\n",
       "Major          0     2\n",
       "Master         0    61\n",
       "Miss         260     0\n",
       "Mlle           2     0\n",
       "Mme            1     0\n",
       "Mr             0   757\n",
       "Mrs          197     0\n",
       "Ms             2     0\n",
       "Rev            0     8\n",
       "Sir            0     1"
      ]
     },
     "execution_count": 7,
     "metadata": {},
     "output_type": "execute_result"
    }
   ],
   "source": [
    "# Cleaning and level modifications for the categorical features\n",
    "\n",
    "for dataset in df_subset:\n",
    "    df_subset['Title'] = df_subset.Name.str.extract(' ([A-Za-z]+)\\.', expand=False)\n",
    "\n",
    "pd.crosstab(df_subset['Title'], df_subset['Sex'])"
   ]
  },
  {
   "cell_type": "code",
   "execution_count": 8,
   "metadata": {
    "execution": {
     "iopub.execute_input": "2021-06-28T16:53:42.226579Z",
     "iopub.status.busy": "2021-06-28T16:53:42.225877Z",
     "iopub.status.idle": "2021-06-28T16:53:42.277777Z",
     "shell.execute_reply": "2021-06-28T16:53:42.277249Z",
     "shell.execute_reply.started": "2021-06-28T16:36:15.157761Z"
    },
    "papermill": {
     "duration": 0.101647,
     "end_time": "2021-06-28T16:53:42.277926",
     "exception": false,
     "start_time": "2021-06-28T16:53:42.176279",
     "status": "completed"
    },
    "tags": []
   },
   "outputs": [
    {
     "data": {
      "text/html": [
       "<div>\n",
       "<style scoped>\n",
       "    .dataframe tbody tr th:only-of-type {\n",
       "        vertical-align: middle;\n",
       "    }\n",
       "\n",
       "    .dataframe tbody tr th {\n",
       "        vertical-align: top;\n",
       "    }\n",
       "\n",
       "    .dataframe thead th {\n",
       "        text-align: right;\n",
       "    }\n",
       "</style>\n",
       "<table border=\"1\" class=\"dataframe\">\n",
       "  <thead>\n",
       "    <tr style=\"text-align: right;\">\n",
       "      <th></th>\n",
       "      <th>Title</th>\n",
       "      <th>Survived</th>\n",
       "    </tr>\n",
       "  </thead>\n",
       "  <tbody>\n",
       "    <tr>\n",
       "      <th>0</th>\n",
       "      <td>Master</td>\n",
       "      <td>0.575000</td>\n",
       "    </tr>\n",
       "    <tr>\n",
       "      <th>1</th>\n",
       "      <td>Miss</td>\n",
       "      <td>0.702703</td>\n",
       "    </tr>\n",
       "    <tr>\n",
       "      <th>2</th>\n",
       "      <td>Mr</td>\n",
       "      <td>0.156673</td>\n",
       "    </tr>\n",
       "    <tr>\n",
       "      <th>3</th>\n",
       "      <td>Mrs</td>\n",
       "      <td>0.793651</td>\n",
       "    </tr>\n",
       "    <tr>\n",
       "      <th>4</th>\n",
       "      <td>Rare</td>\n",
       "      <td>0.347826</td>\n",
       "    </tr>\n",
       "  </tbody>\n",
       "</table>\n",
       "</div>"
      ],
      "text/plain": [
       "    Title  Survived\n",
       "0  Master  0.575000\n",
       "1    Miss  0.702703\n",
       "2      Mr  0.156673\n",
       "3     Mrs  0.793651\n",
       "4    Rare  0.347826"
      ]
     },
     "execution_count": 8,
     "metadata": {},
     "output_type": "execute_result"
    }
   ],
   "source": [
    "for dataset in df_subset:\n",
    "    df_subset['Title'] = df_subset['Title'].replace(['Lady', 'Countess','Capt', 'Col',\\\n",
    "     'Don', 'Dr', 'Major', 'Rev', 'Sir', 'Jonkheer', 'Dona'], 'Rare')\n",
    "\n",
    "    df_subset['Title'] = df_subset['Title'].replace('Mlle', 'Miss')\n",
    "    df_subset['Title'] = df_subset['Title'].replace('Ms', 'Miss')\n",
    "    df_subset['Title'] = df_subset['Title'].replace('Mme', 'Mrs')\n",
    "    \n",
    "df_subset[['Title', 'Survived']].groupby(['Title'], as_index=False).mean()"
   ]
  },
  {
   "cell_type": "code",
   "execution_count": 9,
   "metadata": {
    "execution": {
     "iopub.execute_input": "2021-06-28T16:53:42.358278Z",
     "iopub.status.busy": "2021-06-28T16:53:42.356109Z",
     "iopub.status.idle": "2021-06-28T16:53:42.361919Z",
     "shell.execute_reply": "2021-06-28T16:53:42.361365Z",
     "shell.execute_reply.started": "2021-06-28T16:36:18.642266Z"
    },
    "papermill": {
     "duration": 0.048561,
     "end_time": "2021-06-28T16:53:42.362079",
     "exception": false,
     "start_time": "2021-06-28T16:53:42.313518",
     "status": "completed"
    },
    "tags": []
   },
   "outputs": [],
   "source": [
    "df_subset['Cabin'] = df_subset['Cabin'].replace(np.nan, 'U')\n",
    "df_subset['Cabin_Class'] = df_subset['Cabin'].astype(str).str[0]"
   ]
  },
  {
   "cell_type": "code",
   "execution_count": 10,
   "metadata": {
    "execution": {
     "iopub.execute_input": "2021-06-28T16:53:42.439214Z",
     "iopub.status.busy": "2021-06-28T16:53:42.438262Z",
     "iopub.status.idle": "2021-06-28T16:53:42.445752Z",
     "shell.execute_reply": "2021-06-28T16:53:42.445189Z",
     "shell.execute_reply.started": "2021-06-27T16:15:36.709695Z"
    },
    "papermill": {
     "duration": 0.048329,
     "end_time": "2021-06-28T16:53:42.445906",
     "exception": false,
     "start_time": "2021-06-28T16:53:42.397577",
     "status": "completed"
    },
    "tags": []
   },
   "outputs": [],
   "source": [
    "# Remove the columns here, for which we have generated our own classes\n",
    "\n",
    "df_subset = df_subset.drop(['Ticket', 'Cabin', 'Name'], axis = 1)"
   ]
  },
  {
   "cell_type": "markdown",
   "metadata": {
    "papermill": {
     "duration": 0.049408,
     "end_time": "2021-06-28T16:53:42.547300",
     "exception": false,
     "start_time": "2021-06-28T16:53:42.497892",
     "status": "completed"
    },
    "tags": []
   },
   "source": [
    "### Age\n",
    "\n",
    "* We find the median of the **Age** feature to impute the missing ages, which is roughly about 20%\n",
    "* We use the same **Age** column to create buckets of age groups. For _less than 18 (1)_ and for _greater than or equal to 18 (0)_"
   ]
  },
  {
   "cell_type": "code",
   "execution_count": 11,
   "metadata": {
    "execution": {
     "iopub.execute_input": "2021-06-28T16:53:42.628009Z",
     "iopub.status.busy": "2021-06-28T16:53:42.627374Z",
     "iopub.status.idle": "2021-06-28T16:53:42.634361Z",
     "shell.execute_reply": "2021-06-28T16:53:42.633683Z",
     "shell.execute_reply.started": "2021-06-28T16:39:38.354827Z"
    },
    "papermill": {
     "duration": 0.047706,
     "end_time": "2021-06-28T16:53:42.634507",
     "exception": false,
     "start_time": "2021-06-28T16:53:42.586801",
     "status": "completed"
    },
    "tags": []
   },
   "outputs": [],
   "source": [
    "median_age = df_subset[\"Age\"].median()\n",
    "df_subset[\"Age\"].fillna(median_age, inplace=True)"
   ]
  },
  {
   "cell_type": "code",
   "execution_count": 12,
   "metadata": {
    "execution": {
     "iopub.execute_input": "2021-06-28T16:53:42.719143Z",
     "iopub.status.busy": "2021-06-28T16:53:42.718469Z",
     "iopub.status.idle": "2021-06-28T16:53:42.722023Z",
     "shell.execute_reply": "2021-06-28T16:53:42.721425Z",
     "shell.execute_reply.started": "2021-06-28T16:39:42.268435Z"
    },
    "papermill": {
     "duration": 0.050739,
     "end_time": "2021-06-28T16:53:42.722184",
     "exception": false,
     "start_time": "2021-06-28T16:53:42.671445",
     "status": "completed"
    },
    "tags": []
   },
   "outputs": [],
   "source": [
    "df_subset.Age[df_subset.Age < 18] = 1\n",
    "df_subset.Age[df_subset.Age >= 18] = 0"
   ]
  },
  {
   "cell_type": "code",
   "execution_count": 13,
   "metadata": {
    "execution": {
     "iopub.execute_input": "2021-06-28T16:53:42.800190Z",
     "iopub.status.busy": "2021-06-28T16:53:42.799508Z",
     "iopub.status.idle": "2021-06-28T16:53:42.802161Z",
     "shell.execute_reply": "2021-06-28T16:53:42.801529Z",
     "shell.execute_reply.started": "2021-06-28T16:39:44.243816Z"
    },
    "papermill": {
     "duration": 0.044162,
     "end_time": "2021-06-28T16:53:42.802314",
     "exception": false,
     "start_time": "2021-06-28T16:53:42.758152",
     "status": "completed"
    },
    "tags": []
   },
   "outputs": [],
   "source": [
    "df_subset['Age'] = df_subset['Age'].astype(int) # Convert the age column to int type to be able to perform operations"
   ]
  },
  {
   "cell_type": "markdown",
   "metadata": {
    "papermill": {
     "duration": 0.035036,
     "end_time": "2021-06-28T16:53:42.872751",
     "exception": false,
     "start_time": "2021-06-28T16:53:42.837715",
     "status": "completed"
    },
    "tags": []
   },
   "source": [
    "### SibSp & Parch\n",
    "\n",
    "* We use the **Siblings** and the **Parents/Children** features combined to generate a feature called **Family Size**\n",
    "* Having created a new feature out of the above two, we drop the original features\n",
    "* We also use the **Family Size** feature to create buckets. _Family Size = 1 (0), Family Size greater than 1 and less than or equal to 4 (1), Family Size greater than 4 (2)_"
   ]
  },
  {
   "cell_type": "code",
   "execution_count": 14,
   "metadata": {
    "execution": {
     "iopub.execute_input": "2021-06-28T16:53:42.956763Z",
     "iopub.status.busy": "2021-06-28T16:53:42.956132Z",
     "iopub.status.idle": "2021-06-28T16:53:42.958587Z",
     "shell.execute_reply": "2021-06-28T16:53:42.957952Z",
     "shell.execute_reply.started": "2021-06-27T16:15:46.51659Z"
    },
    "papermill": {
     "duration": 0.050816,
     "end_time": "2021-06-28T16:53:42.958723",
     "exception": false,
     "start_time": "2021-06-28T16:53:42.907907",
     "status": "completed"
    },
    "tags": []
   },
   "outputs": [],
   "source": [
    "for dataset in df_subset:\n",
    "    df_subset['FamilySize'] = df_subset['SibSp'] + df_subset['Parch'] + 1"
   ]
  },
  {
   "cell_type": "code",
   "execution_count": 15,
   "metadata": {
    "execution": {
     "iopub.execute_input": "2021-06-28T16:53:43.038695Z",
     "iopub.status.busy": "2021-06-28T16:53:43.038058Z",
     "iopub.status.idle": "2021-06-28T16:53:43.040990Z",
     "shell.execute_reply": "2021-06-28T16:53:43.040463Z",
     "shell.execute_reply.started": "2021-06-27T16:15:47.642955Z"
    },
    "papermill": {
     "duration": 0.046741,
     "end_time": "2021-06-28T16:53:43.041511",
     "exception": false,
     "start_time": "2021-06-28T16:53:42.994770",
     "status": "completed"
    },
    "tags": []
   },
   "outputs": [],
   "source": [
    "df_subset = df_subset.drop(['SibSp', 'Parch'], axis = 1)"
   ]
  },
  {
   "cell_type": "code",
   "execution_count": 16,
   "metadata": {
    "execution": {
     "iopub.execute_input": "2021-06-28T16:53:43.127901Z",
     "iopub.status.busy": "2021-06-28T16:53:43.126916Z",
     "iopub.status.idle": "2021-06-28T16:53:43.130437Z",
     "shell.execute_reply": "2021-06-28T16:53:43.129704Z",
     "shell.execute_reply.started": "2021-06-27T16:15:50.122468Z"
    },
    "papermill": {
     "duration": 0.053279,
     "end_time": "2021-06-28T16:53:43.130587",
     "exception": false,
     "start_time": "2021-06-28T16:53:43.077308",
     "status": "completed"
    },
    "tags": []
   },
   "outputs": [],
   "source": [
    "df_subset.FamilySize[df_subset.FamilySize == 1] = 0\n",
    "df_subset.FamilySize[(df_subset.FamilySize > 1) & (df_subset.FamilySize <= 4)] = 1\n",
    "df_subset.FamilySize[(df_subset.FamilySize > 4)] = 2"
   ]
  },
  {
   "cell_type": "markdown",
   "metadata": {
    "papermill": {
     "duration": 0.037032,
     "end_time": "2021-06-28T16:53:43.203405",
     "exception": false,
     "start_time": "2021-06-28T16:53:43.166373",
     "status": "completed"
    },
    "tags": []
   },
   "source": [
    "### Fare\n",
    "\n",
    "* The **Fare** column has been used to create buckets of Fare class\n",
    "* Firstly, the missing values (0.07%) are replaced using Median imputation\n",
    "* The buckets are Fare <= 7.91 (0), Fare > 7.91 and Fare <= 14.454 (1), Fare > 14.454 and Fare <= 31 (2), Fare > 31 (3)\n",
    "* The Fare buckets have been created based on the percentile of data availabilities"
   ]
  },
  {
   "cell_type": "code",
   "execution_count": 17,
   "metadata": {
    "execution": {
     "iopub.execute_input": "2021-06-28T16:53:43.283288Z",
     "iopub.status.busy": "2021-06-28T16:53:43.282550Z",
     "iopub.status.idle": "2021-06-28T16:53:43.288478Z",
     "shell.execute_reply": "2021-06-28T16:53:43.288926Z",
     "shell.execute_reply.started": "2021-06-28T16:45:34.545693Z"
    },
    "papermill": {
     "duration": 0.049136,
     "end_time": "2021-06-28T16:53:43.289136",
     "exception": false,
     "start_time": "2021-06-28T16:53:43.240000",
     "status": "completed"
    },
    "tags": []
   },
   "outputs": [
    {
     "data": {
      "text/plain": [
       "count    1308.000000\n",
       "mean       33.295479\n",
       "std        51.758668\n",
       "min         0.000000\n",
       "25%         7.895800\n",
       "50%        14.454200\n",
       "75%        31.275000\n",
       "max       512.329200\n",
       "Name: Fare, dtype: float64"
      ]
     },
     "execution_count": 17,
     "metadata": {},
     "output_type": "execute_result"
    }
   ],
   "source": [
    "df_subset['Fare'].describe()"
   ]
  },
  {
   "cell_type": "code",
   "execution_count": 18,
   "metadata": {
    "execution": {
     "iopub.execute_input": "2021-06-28T16:53:43.364395Z",
     "iopub.status.busy": "2021-06-28T16:53:43.363723Z",
     "iopub.status.idle": "2021-06-28T16:53:43.369869Z",
     "shell.execute_reply": "2021-06-28T16:53:43.369211Z",
     "shell.execute_reply.started": "2021-06-27T16:15:50.773888Z"
    },
    "papermill": {
     "duration": 0.045099,
     "end_time": "2021-06-28T16:53:43.370016",
     "exception": false,
     "start_time": "2021-06-28T16:53:43.324917",
     "status": "completed"
    },
    "tags": []
   },
   "outputs": [],
   "source": [
    "df_subset['Fare'].fillna(df_subset['Fare'].dropna().median(), inplace=True)"
   ]
  },
  {
   "cell_type": "code",
   "execution_count": 19,
   "metadata": {
    "execution": {
     "iopub.execute_input": "2021-06-28T16:53:43.473556Z",
     "iopub.status.busy": "2021-06-28T16:53:43.466906Z",
     "iopub.status.idle": "2021-06-28T16:53:43.477964Z",
     "shell.execute_reply": "2021-06-28T16:53:43.478469Z",
     "shell.execute_reply.started": "2021-06-27T16:15:52.130375Z"
    },
    "papermill": {
     "duration": 0.072817,
     "end_time": "2021-06-28T16:53:43.478645",
     "exception": false,
     "start_time": "2021-06-28T16:53:43.405828",
     "status": "completed"
    },
    "tags": []
   },
   "outputs": [
    {
     "data": {
      "text/html": [
       "<div>\n",
       "<style scoped>\n",
       "    .dataframe tbody tr th:only-of-type {\n",
       "        vertical-align: middle;\n",
       "    }\n",
       "\n",
       "    .dataframe tbody tr th {\n",
       "        vertical-align: top;\n",
       "    }\n",
       "\n",
       "    .dataframe thead th {\n",
       "        text-align: right;\n",
       "    }\n",
       "</style>\n",
       "<table border=\"1\" class=\"dataframe\">\n",
       "  <thead>\n",
       "    <tr style=\"text-align: right;\">\n",
       "      <th></th>\n",
       "      <th>PassengerId</th>\n",
       "      <th>Survived</th>\n",
       "      <th>Pclass</th>\n",
       "      <th>Sex</th>\n",
       "      <th>Age</th>\n",
       "      <th>Fare</th>\n",
       "      <th>Embarked</th>\n",
       "      <th>test_flag</th>\n",
       "      <th>Title</th>\n",
       "      <th>Cabin_Class</th>\n",
       "      <th>FamilySize</th>\n",
       "    </tr>\n",
       "  </thead>\n",
       "  <tbody>\n",
       "    <tr>\n",
       "      <th>0</th>\n",
       "      <td>1</td>\n",
       "      <td>0.0</td>\n",
       "      <td>3</td>\n",
       "      <td>male</td>\n",
       "      <td>0</td>\n",
       "      <td>0</td>\n",
       "      <td>S</td>\n",
       "      <td>0</td>\n",
       "      <td>Mr</td>\n",
       "      <td>U</td>\n",
       "      <td>1</td>\n",
       "    </tr>\n",
       "    <tr>\n",
       "      <th>1</th>\n",
       "      <td>2</td>\n",
       "      <td>1.0</td>\n",
       "      <td>1</td>\n",
       "      <td>female</td>\n",
       "      <td>0</td>\n",
       "      <td>3</td>\n",
       "      <td>C</td>\n",
       "      <td>0</td>\n",
       "      <td>Mrs</td>\n",
       "      <td>C</td>\n",
       "      <td>1</td>\n",
       "    </tr>\n",
       "    <tr>\n",
       "      <th>2</th>\n",
       "      <td>3</td>\n",
       "      <td>1.0</td>\n",
       "      <td>3</td>\n",
       "      <td>female</td>\n",
       "      <td>0</td>\n",
       "      <td>1</td>\n",
       "      <td>S</td>\n",
       "      <td>0</td>\n",
       "      <td>Miss</td>\n",
       "      <td>U</td>\n",
       "      <td>0</td>\n",
       "    </tr>\n",
       "    <tr>\n",
       "      <th>3</th>\n",
       "      <td>4</td>\n",
       "      <td>1.0</td>\n",
       "      <td>1</td>\n",
       "      <td>female</td>\n",
       "      <td>0</td>\n",
       "      <td>3</td>\n",
       "      <td>S</td>\n",
       "      <td>0</td>\n",
       "      <td>Mrs</td>\n",
       "      <td>C</td>\n",
       "      <td>1</td>\n",
       "    </tr>\n",
       "    <tr>\n",
       "      <th>4</th>\n",
       "      <td>5</td>\n",
       "      <td>0.0</td>\n",
       "      <td>3</td>\n",
       "      <td>male</td>\n",
       "      <td>0</td>\n",
       "      <td>1</td>\n",
       "      <td>S</td>\n",
       "      <td>0</td>\n",
       "      <td>Mr</td>\n",
       "      <td>U</td>\n",
       "      <td>0</td>\n",
       "    </tr>\n",
       "  </tbody>\n",
       "</table>\n",
       "</div>"
      ],
      "text/plain": [
       "   PassengerId  Survived  Pclass     Sex  Age  Fare Embarked  test_flag Title  \\\n",
       "0            1       0.0       3    male    0     0        S          0    Mr   \n",
       "1            2       1.0       1  female    0     3        C          0   Mrs   \n",
       "2            3       1.0       3  female    0     1        S          0  Miss   \n",
       "3            4       1.0       1  female    0     3        S          0   Mrs   \n",
       "4            5       0.0       3    male    0     1        S          0    Mr   \n",
       "\n",
       "  Cabin_Class  FamilySize  \n",
       "0           U           1  \n",
       "1           C           1  \n",
       "2           U           0  \n",
       "3           C           1  \n",
       "4           U           0  "
      ]
     },
     "execution_count": 19,
     "metadata": {},
     "output_type": "execute_result"
    }
   ],
   "source": [
    "df_subset.Fare[df_subset.Fare <= 7.91] = 0\n",
    "df_subset.Fare[(df_subset.Fare > 7.91) & (df_subset.Fare <= 14.454)] = 1\n",
    "df_subset.Fare[(df_subset.Fare > 14.454) & (df_subset.Fare <= 31)] = 2\n",
    "df_subset.Fare[df_subset.Fare > 31] = 3\n",
    "df_subset['Fare'] = df_subset['Fare'].astype(int) # Convert the fare column to integer type\n",
    "\n",
    "df_subset.head()"
   ]
  },
  {
   "cell_type": "markdown",
   "metadata": {
    "papermill": {
     "duration": 0.036014,
     "end_time": "2021-06-28T16:53:43.550902",
     "exception": false,
     "start_time": "2021-06-28T16:53:43.514888",
     "status": "completed"
    },
    "tags": []
   },
   "source": [
    "### Embarked\n",
    "\n",
    "* We do a simple mode imputation in the Embarked feature which attributes to approximately 0.15% missing"
   ]
  },
  {
   "cell_type": "code",
   "execution_count": 20,
   "metadata": {
    "execution": {
     "iopub.execute_input": "2021-06-28T16:53:43.632765Z",
     "iopub.status.busy": "2021-06-28T16:53:43.632084Z",
     "iopub.status.idle": "2021-06-28T16:53:43.635732Z",
     "shell.execute_reply": "2021-06-28T16:53:43.635182Z",
     "shell.execute_reply.started": "2021-06-27T16:15:53.244042Z"
    },
    "papermill": {
     "duration": 0.048584,
     "end_time": "2021-06-28T16:53:43.635871",
     "exception": false,
     "start_time": "2021-06-28T16:53:43.587287",
     "status": "completed"
    },
    "tags": []
   },
   "outputs": [],
   "source": [
    "mode_embarked = df_subset.Embarked.dropna().mode()[0]\n",
    "df_subset[\"Embarked\"].fillna(mode_embarked, inplace=True)"
   ]
  },
  {
   "cell_type": "code",
   "execution_count": 21,
   "metadata": {
    "execution": {
     "iopub.execute_input": "2021-06-28T16:53:43.718149Z",
     "iopub.status.busy": "2021-06-28T16:53:43.715619Z",
     "iopub.status.idle": "2021-06-28T16:53:43.732342Z",
     "shell.execute_reply": "2021-06-28T16:53:43.731677Z",
     "shell.execute_reply.started": "2021-06-27T16:15:58.914894Z"
    },
    "papermill": {
     "duration": 0.060643,
     "end_time": "2021-06-28T16:53:43.732494",
     "exception": false,
     "start_time": "2021-06-28T16:53:43.671851",
     "status": "completed"
    },
    "tags": []
   },
   "outputs": [
    {
     "data": {
      "text/html": [
       "<div>\n",
       "<style scoped>\n",
       "    .dataframe tbody tr th:only-of-type {\n",
       "        vertical-align: middle;\n",
       "    }\n",
       "\n",
       "    .dataframe tbody tr th {\n",
       "        vertical-align: top;\n",
       "    }\n",
       "\n",
       "    .dataframe thead th {\n",
       "        text-align: right;\n",
       "    }\n",
       "</style>\n",
       "<table border=\"1\" class=\"dataframe\">\n",
       "  <thead>\n",
       "    <tr style=\"text-align: right;\">\n",
       "      <th></th>\n",
       "      <th>PassengerId</th>\n",
       "      <th>Survived</th>\n",
       "      <th>Pclass</th>\n",
       "      <th>Sex</th>\n",
       "      <th>Age</th>\n",
       "      <th>Fare</th>\n",
       "      <th>Embarked</th>\n",
       "      <th>test_flag</th>\n",
       "      <th>Title</th>\n",
       "      <th>Cabin_Class</th>\n",
       "      <th>FamilySize</th>\n",
       "    </tr>\n",
       "  </thead>\n",
       "  <tbody>\n",
       "    <tr>\n",
       "      <th>0</th>\n",
       "      <td>1</td>\n",
       "      <td>0.0</td>\n",
       "      <td>3</td>\n",
       "      <td>1</td>\n",
       "      <td>0</td>\n",
       "      <td>0</td>\n",
       "      <td>1</td>\n",
       "      <td>0</td>\n",
       "      <td>1</td>\n",
       "      <td>1</td>\n",
       "      <td>1</td>\n",
       "    </tr>\n",
       "    <tr>\n",
       "      <th>1</th>\n",
       "      <td>2</td>\n",
       "      <td>1.0</td>\n",
       "      <td>1</td>\n",
       "      <td>2</td>\n",
       "      <td>0</td>\n",
       "      <td>3</td>\n",
       "      <td>2</td>\n",
       "      <td>0</td>\n",
       "      <td>2</td>\n",
       "      <td>2</td>\n",
       "      <td>1</td>\n",
       "    </tr>\n",
       "    <tr>\n",
       "      <th>2</th>\n",
       "      <td>3</td>\n",
       "      <td>1.0</td>\n",
       "      <td>3</td>\n",
       "      <td>2</td>\n",
       "      <td>0</td>\n",
       "      <td>1</td>\n",
       "      <td>1</td>\n",
       "      <td>0</td>\n",
       "      <td>3</td>\n",
       "      <td>1</td>\n",
       "      <td>0</td>\n",
       "    </tr>\n",
       "    <tr>\n",
       "      <th>3</th>\n",
       "      <td>4</td>\n",
       "      <td>1.0</td>\n",
       "      <td>1</td>\n",
       "      <td>2</td>\n",
       "      <td>0</td>\n",
       "      <td>3</td>\n",
       "      <td>1</td>\n",
       "      <td>0</td>\n",
       "      <td>2</td>\n",
       "      <td>2</td>\n",
       "      <td>1</td>\n",
       "    </tr>\n",
       "    <tr>\n",
       "      <th>4</th>\n",
       "      <td>5</td>\n",
       "      <td>0.0</td>\n",
       "      <td>3</td>\n",
       "      <td>1</td>\n",
       "      <td>0</td>\n",
       "      <td>1</td>\n",
       "      <td>1</td>\n",
       "      <td>0</td>\n",
       "      <td>1</td>\n",
       "      <td>1</td>\n",
       "      <td>0</td>\n",
       "    </tr>\n",
       "  </tbody>\n",
       "</table>\n",
       "</div>"
      ],
      "text/plain": [
       "   PassengerId  Survived  Pclass  Sex  Age  Fare  Embarked  test_flag  Title  \\\n",
       "0            1       0.0       3    1    0     0         1          0      1   \n",
       "1            2       1.0       1    2    0     3         2          0      2   \n",
       "2            3       1.0       3    2    0     1         1          0      3   \n",
       "3            4       1.0       1    2    0     3         1          0      2   \n",
       "4            5       0.0       3    1    0     1         1          0      1   \n",
       "\n",
       "   Cabin_Class  FamilySize  \n",
       "0            1           1  \n",
       "1            2           1  \n",
       "2            1           0  \n",
       "3            2           1  \n",
       "4            1           0  "
      ]
     },
     "execution_count": 21,
     "metadata": {},
     "output_type": "execute_result"
    }
   ],
   "source": [
    "# In this step, we use the factorize method to factorize the categorical features that we have created above.\n",
    "# This is done for model interpretability\n",
    "\n",
    "cols_new = ['Embarked', 'Title', 'Sex', 'Cabin_Class']\n",
    "\n",
    "for col in cols_new:\n",
    "    df_subset[col] = pd.factorize(df_subset[col])[0] + 1\n",
    "    \n",
    "df_subset.head()"
   ]
  },
  {
   "cell_type": "code",
   "execution_count": 22,
   "metadata": {
    "execution": {
     "iopub.execute_input": "2021-06-28T16:53:43.813203Z",
     "iopub.status.busy": "2021-06-28T16:53:43.812181Z",
     "iopub.status.idle": "2021-06-28T16:53:43.819205Z",
     "shell.execute_reply": "2021-06-28T16:53:43.818576Z",
     "shell.execute_reply.started": "2021-06-27T16:15:59.328063Z"
    },
    "papermill": {
     "duration": 0.049763,
     "end_time": "2021-06-28T16:53:43.819365",
     "exception": false,
     "start_time": "2021-06-28T16:53:43.769602",
     "status": "completed"
    },
    "tags": []
   },
   "outputs": [],
   "source": [
    "# We split the combined dataset to train and test set again\n",
    "\n",
    "train_set = df_subset[df_subset['test_flag']==0]\n",
    "test_set = df_subset[df_subset['test_flag']==1]\n",
    "\n",
    "train_set['Survived'] = train_set['Survived'].astype(int) # Convert the target feature to integer"
   ]
  },
  {
   "cell_type": "code",
   "execution_count": 23,
   "metadata": {
    "execution": {
     "iopub.execute_input": "2021-06-28T16:53:43.899648Z",
     "iopub.status.busy": "2021-06-28T16:53:43.898572Z",
     "iopub.status.idle": "2021-06-28T16:53:43.902667Z",
     "shell.execute_reply": "2021-06-28T16:53:43.902144Z",
     "shell.execute_reply.started": "2021-06-27T16:16:09.536097Z"
    },
    "papermill": {
     "duration": 0.045657,
     "end_time": "2021-06-28T16:53:43.902801",
     "exception": false,
     "start_time": "2021-06-28T16:53:43.857144",
     "status": "completed"
    },
    "tags": []
   },
   "outputs": [
    {
     "name": "stdout",
     "output_type": "stream",
     "text": [
      "(891, 11)\n",
      "(418, 11)\n"
     ]
    }
   ],
   "source": [
    "# Check if the train and test split was done properly\n",
    "\n",
    "print(train_set.shape)\n",
    "print(test_set.shape)"
   ]
  },
  {
   "cell_type": "code",
   "execution_count": 24,
   "metadata": {
    "execution": {
     "iopub.execute_input": "2021-06-28T16:53:43.984225Z",
     "iopub.status.busy": "2021-06-28T16:53:43.983337Z",
     "iopub.status.idle": "2021-06-28T16:53:43.987425Z",
     "shell.execute_reply": "2021-06-28T16:53:43.986774Z",
     "shell.execute_reply.started": "2021-06-27T16:16:10.926283Z"
    },
    "papermill": {
     "duration": 0.046839,
     "end_time": "2021-06-28T16:53:43.987567",
     "exception": false,
     "start_time": "2021-06-28T16:53:43.940728",
     "status": "completed"
    },
    "tags": []
   },
   "outputs": [],
   "source": [
    "# Remove the columns which are not required. Test Flag is not required since we split the data already, and the Survived column is redundant in the test set\n",
    "\n",
    "test_set = test_set.drop(['Survived', 'test_flag'], axis = 1)\n",
    "train_set = train_set.drop(['test_flag'], axis = 1)"
   ]
  },
  {
   "cell_type": "code",
   "execution_count": 25,
   "metadata": {
    "execution": {
     "iopub.execute_input": "2021-06-28T16:53:44.074669Z",
     "iopub.status.busy": "2021-06-28T16:53:44.073940Z",
     "iopub.status.idle": "2021-06-28T16:53:44.078343Z",
     "shell.execute_reply": "2021-06-28T16:53:44.078814Z",
     "shell.execute_reply.started": "2021-06-27T15:21:02.993924Z"
    },
    "papermill": {
     "duration": 0.054213,
     "end_time": "2021-06-28T16:53:44.079009",
     "exception": false,
     "start_time": "2021-06-28T16:53:44.024796",
     "status": "completed"
    },
    "tags": []
   },
   "outputs": [
    {
     "data": {
      "text/html": [
       "<div>\n",
       "<style scoped>\n",
       "    .dataframe tbody tr th:only-of-type {\n",
       "        vertical-align: middle;\n",
       "    }\n",
       "\n",
       "    .dataframe tbody tr th {\n",
       "        vertical-align: top;\n",
       "    }\n",
       "\n",
       "    .dataframe thead th {\n",
       "        text-align: right;\n",
       "    }\n",
       "</style>\n",
       "<table border=\"1\" class=\"dataframe\">\n",
       "  <thead>\n",
       "    <tr style=\"text-align: right;\">\n",
       "      <th></th>\n",
       "      <th>PassengerId</th>\n",
       "      <th>Survived</th>\n",
       "      <th>Pclass</th>\n",
       "      <th>Sex</th>\n",
       "      <th>Age</th>\n",
       "      <th>Fare</th>\n",
       "      <th>Embarked</th>\n",
       "      <th>Title</th>\n",
       "      <th>Cabin_Class</th>\n",
       "      <th>FamilySize</th>\n",
       "    </tr>\n",
       "  </thead>\n",
       "  <tbody>\n",
       "    <tr>\n",
       "      <th>0</th>\n",
       "      <td>1</td>\n",
       "      <td>0</td>\n",
       "      <td>3</td>\n",
       "      <td>1</td>\n",
       "      <td>0</td>\n",
       "      <td>0</td>\n",
       "      <td>1</td>\n",
       "      <td>1</td>\n",
       "      <td>1</td>\n",
       "      <td>1</td>\n",
       "    </tr>\n",
       "    <tr>\n",
       "      <th>1</th>\n",
       "      <td>2</td>\n",
       "      <td>1</td>\n",
       "      <td>1</td>\n",
       "      <td>2</td>\n",
       "      <td>0</td>\n",
       "      <td>3</td>\n",
       "      <td>2</td>\n",
       "      <td>2</td>\n",
       "      <td>2</td>\n",
       "      <td>1</td>\n",
       "    </tr>\n",
       "    <tr>\n",
       "      <th>2</th>\n",
       "      <td>3</td>\n",
       "      <td>1</td>\n",
       "      <td>3</td>\n",
       "      <td>2</td>\n",
       "      <td>0</td>\n",
       "      <td>1</td>\n",
       "      <td>1</td>\n",
       "      <td>3</td>\n",
       "      <td>1</td>\n",
       "      <td>0</td>\n",
       "    </tr>\n",
       "    <tr>\n",
       "      <th>3</th>\n",
       "      <td>4</td>\n",
       "      <td>1</td>\n",
       "      <td>1</td>\n",
       "      <td>2</td>\n",
       "      <td>0</td>\n",
       "      <td>3</td>\n",
       "      <td>1</td>\n",
       "      <td>2</td>\n",
       "      <td>2</td>\n",
       "      <td>1</td>\n",
       "    </tr>\n",
       "    <tr>\n",
       "      <th>4</th>\n",
       "      <td>5</td>\n",
       "      <td>0</td>\n",
       "      <td>3</td>\n",
       "      <td>1</td>\n",
       "      <td>0</td>\n",
       "      <td>1</td>\n",
       "      <td>1</td>\n",
       "      <td>1</td>\n",
       "      <td>1</td>\n",
       "      <td>0</td>\n",
       "    </tr>\n",
       "  </tbody>\n",
       "</table>\n",
       "</div>"
      ],
      "text/plain": [
       "   PassengerId  Survived  Pclass  Sex  Age  Fare  Embarked  Title  \\\n",
       "0            1         0       3    1    0     0         1      1   \n",
       "1            2         1       1    2    0     3         2      2   \n",
       "2            3         1       3    2    0     1         1      3   \n",
       "3            4         1       1    2    0     3         1      2   \n",
       "4            5         0       3    1    0     1         1      1   \n",
       "\n",
       "   Cabin_Class  FamilySize  \n",
       "0            1           1  \n",
       "1            2           1  \n",
       "2            1           0  \n",
       "3            2           1  \n",
       "4            1           0  "
      ]
     },
     "execution_count": 25,
     "metadata": {},
     "output_type": "execute_result"
    }
   ],
   "source": [
    "train_set.head(5)"
   ]
  },
  {
   "cell_type": "markdown",
   "metadata": {
    "papermill": {
     "duration": 0.037383,
     "end_time": "2021-06-28T16:53:44.154404",
     "exception": false,
     "start_time": "2021-06-28T16:53:44.117021",
     "status": "completed"
    },
    "tags": []
   },
   "source": [
    "### Model Implementation Process\n",
    "\n",
    "We use the engineered features into the models to check out the scores. Below are the set of models that we use for this Kernel\n",
    "1. Logistic Regression\n",
    "2. Decision Tree\n",
    "3. Random Forest\n",
    "4. Naive Bayes"
   ]
  },
  {
   "cell_type": "code",
   "execution_count": 26,
   "metadata": {
    "execution": {
     "iopub.execute_input": "2021-06-28T16:53:44.235340Z",
     "iopub.status.busy": "2021-06-28T16:53:44.234484Z",
     "iopub.status.idle": "2021-06-28T16:53:45.189378Z",
     "shell.execute_reply": "2021-06-28T16:53:45.188694Z",
     "shell.execute_reply.started": "2021-06-27T16:17:28.047567Z"
    },
    "papermill": {
     "duration": 0.997621,
     "end_time": "2021-06-28T16:53:45.189528",
     "exception": false,
     "start_time": "2021-06-28T16:53:44.191907",
     "status": "completed"
    },
    "tags": []
   },
   "outputs": [],
   "source": [
    "from sklearn.model_selection import train_test_split\n",
    "\n",
    "X = train_set[['Age', 'Sex', 'Embarked', 'Title', 'Pclass', 'FamilySize']]\n",
    "y = train_set[['Survived']]"
   ]
  },
  {
   "cell_type": "code",
   "execution_count": 27,
   "metadata": {
    "execution": {
     "iopub.execute_input": "2021-06-28T16:53:45.273123Z",
     "iopub.status.busy": "2021-06-28T16:53:45.272087Z",
     "iopub.status.idle": "2021-06-28T16:53:45.280953Z",
     "shell.execute_reply": "2021-06-28T16:53:45.280191Z",
     "shell.execute_reply.started": "2021-06-27T16:17:29.491303Z"
    },
    "papermill": {
     "duration": 0.05319,
     "end_time": "2021-06-28T16:53:45.281147",
     "exception": false,
     "start_time": "2021-06-28T16:53:45.227957",
     "status": "completed"
    },
    "tags": []
   },
   "outputs": [
    {
     "name": "stdout",
     "output_type": "stream",
     "text": [
      "(596, 6) (596, 1)\n",
      "(295, 6) (295, 1)\n"
     ]
    }
   ],
   "source": [
    "X_train, X_test, y_train, y_test = train_test_split(X, y, test_size = 0.33, random_state = 42)\n",
    "\n",
    "print(X_train.shape, y_train.shape)\n",
    "print(X_test.shape, y_test.shape)"
   ]
  },
  {
   "cell_type": "code",
   "execution_count": 28,
   "metadata": {
    "execution": {
     "iopub.execute_input": "2021-06-28T16:53:45.363575Z",
     "iopub.status.busy": "2021-06-28T16:53:45.362581Z",
     "iopub.status.idle": "2021-06-28T16:53:45.373792Z",
     "shell.execute_reply": "2021-06-28T16:53:45.374322Z",
     "shell.execute_reply.started": "2021-06-27T16:17:32.015087Z"
    },
    "papermill": {
     "duration": 0.05406,
     "end_time": "2021-06-28T16:53:45.374502",
     "exception": false,
     "start_time": "2021-06-28T16:53:45.320442",
     "status": "completed"
    },
    "tags": []
   },
   "outputs": [
    {
     "data": {
      "text/html": [
       "<div>\n",
       "<style scoped>\n",
       "    .dataframe tbody tr th:only-of-type {\n",
       "        vertical-align: middle;\n",
       "    }\n",
       "\n",
       "    .dataframe tbody tr th {\n",
       "        vertical-align: top;\n",
       "    }\n",
       "\n",
       "    .dataframe thead th {\n",
       "        text-align: right;\n",
       "    }\n",
       "</style>\n",
       "<table border=\"1\" class=\"dataframe\">\n",
       "  <thead>\n",
       "    <tr style=\"text-align: right;\">\n",
       "      <th></th>\n",
       "      <th>Age</th>\n",
       "      <th>Sex</th>\n",
       "      <th>Embarked</th>\n",
       "      <th>Title</th>\n",
       "      <th>Pclass</th>\n",
       "      <th>FamilySize</th>\n",
       "    </tr>\n",
       "  </thead>\n",
       "  <tbody>\n",
       "    <tr>\n",
       "      <th>709</th>\n",
       "      <td>0</td>\n",
       "      <td>1</td>\n",
       "      <td>2</td>\n",
       "      <td>4</td>\n",
       "      <td>3</td>\n",
       "      <td>1</td>\n",
       "    </tr>\n",
       "    <tr>\n",
       "      <th>439</th>\n",
       "      <td>0</td>\n",
       "      <td>1</td>\n",
       "      <td>1</td>\n",
       "      <td>1</td>\n",
       "      <td>2</td>\n",
       "      <td>0</td>\n",
       "    </tr>\n",
       "    <tr>\n",
       "      <th>840</th>\n",
       "      <td>0</td>\n",
       "      <td>1</td>\n",
       "      <td>1</td>\n",
       "      <td>1</td>\n",
       "      <td>3</td>\n",
       "      <td>0</td>\n",
       "    </tr>\n",
       "    <tr>\n",
       "      <th>720</th>\n",
       "      <td>1</td>\n",
       "      <td>2</td>\n",
       "      <td>1</td>\n",
       "      <td>3</td>\n",
       "      <td>2</td>\n",
       "      <td>1</td>\n",
       "    </tr>\n",
       "    <tr>\n",
       "      <th>39</th>\n",
       "      <td>1</td>\n",
       "      <td>2</td>\n",
       "      <td>2</td>\n",
       "      <td>3</td>\n",
       "      <td>3</td>\n",
       "      <td>1</td>\n",
       "    </tr>\n",
       "  </tbody>\n",
       "</table>\n",
       "</div>"
      ],
      "text/plain": [
       "     Age  Sex  Embarked  Title  Pclass  FamilySize\n",
       "709    0    1         2      4       3           1\n",
       "439    0    1         1      1       2           0\n",
       "840    0    1         1      1       3           0\n",
       "720    1    2         1      3       2           1\n",
       "39     1    2         2      3       3           1"
      ]
     },
     "execution_count": 28,
     "metadata": {},
     "output_type": "execute_result"
    }
   ],
   "source": [
    "X_test.head()"
   ]
  },
  {
   "cell_type": "code",
   "execution_count": 29,
   "metadata": {
    "execution": {
     "iopub.execute_input": "2021-06-28T16:53:45.457484Z",
     "iopub.status.busy": "2021-06-28T16:53:45.456797Z",
     "iopub.status.idle": "2021-06-28T16:53:45.581201Z",
     "shell.execute_reply": "2021-06-28T16:53:45.580492Z",
     "shell.execute_reply.started": "2021-06-27T16:17:34.908432Z"
    },
    "papermill": {
     "duration": 0.168166,
     "end_time": "2021-06-28T16:53:45.581348",
     "exception": false,
     "start_time": "2021-06-28T16:53:45.413182",
     "status": "completed"
    },
    "tags": []
   },
   "outputs": [
    {
     "data": {
      "text/plain": [
       "80.2"
      ]
     },
     "execution_count": 29,
     "metadata": {},
     "output_type": "execute_result"
    }
   ],
   "source": [
    "# Logistic Regression Model\n",
    "\n",
    "from sklearn.linear_model import LogisticRegression\n",
    "\n",
    "logreg = LogisticRegression()\n",
    "logistic_model = logreg.fit(X_train, y_train)\n",
    "predictions = logistic_model.predict(X_test)\n",
    "\n",
    "acc_logistic_regressions = round(logistic_model.score(X_train, y_train) * 100, 2)\n",
    "acc_logistic_regressions"
   ]
  },
  {
   "cell_type": "code",
   "execution_count": 30,
   "metadata": {
    "execution": {
     "iopub.execute_input": "2021-06-28T16:53:45.668303Z",
     "iopub.status.busy": "2021-06-28T16:53:45.667532Z",
     "iopub.status.idle": "2021-06-28T16:53:45.786344Z",
     "shell.execute_reply": "2021-06-28T16:53:45.785770Z",
     "shell.execute_reply.started": "2021-06-27T16:17:37.498456Z"
    },
    "papermill": {
     "duration": 0.162839,
     "end_time": "2021-06-28T16:53:45.786490",
     "exception": false,
     "start_time": "2021-06-28T16:53:45.623651",
     "status": "completed"
    },
    "tags": []
   },
   "outputs": [
    {
     "data": {
      "text/plain": [
       "85.57"
      ]
     },
     "execution_count": 30,
     "metadata": {},
     "output_type": "execute_result"
    }
   ],
   "source": [
    "# Decision Tree model\n",
    "from sklearn.tree import DecisionTreeClassifier\n",
    "\n",
    "dec_tree = DecisionTreeClassifier()\n",
    "decision_tree = dec_tree.fit(X_train, y_train)\n",
    "prediction_tree = decision_tree.predict(X_test)\n",
    "\n",
    "acc_decision_tree = round(decision_tree.score(X_train, y_train) * 100, 2)\n",
    "acc_decision_tree"
   ]
  },
  {
   "cell_type": "code",
   "execution_count": 31,
   "metadata": {
    "execution": {
     "iopub.execute_input": "2021-06-28T16:53:45.870664Z",
     "iopub.status.busy": "2021-06-28T16:53:45.869937Z",
     "iopub.status.idle": "2021-06-28T16:53:46.131069Z",
     "shell.execute_reply": "2021-06-28T16:53:46.131521Z",
     "shell.execute_reply.started": "2021-06-27T16:17:39.870837Z"
    },
    "papermill": {
     "duration": 0.306361,
     "end_time": "2021-06-28T16:53:46.131692",
     "exception": false,
     "start_time": "2021-06-28T16:53:45.825331",
     "status": "completed"
    },
    "tags": []
   },
   "outputs": [
    {
     "data": {
      "text/plain": [
       "85.57"
      ]
     },
     "execution_count": 31,
     "metadata": {},
     "output_type": "execute_result"
    }
   ],
   "source": [
    "# Random Forest Model\n",
    "\n",
    "from sklearn.ensemble import RandomForestClassifier\n",
    "\n",
    "rf = RandomForestClassifier(n_estimators=100)\n",
    "random_forest = rf.fit(X_train, y_train)\n",
    "prediction_forest = random_forest.predict(X_test)\n",
    "\n",
    "acc_random_forest = round(random_forest.score(X_train, y_train) * 100, 2)\n",
    "acc_random_forest"
   ]
  },
  {
   "cell_type": "code",
   "execution_count": 32,
   "metadata": {
    "execution": {
     "iopub.execute_input": "2021-06-28T16:53:46.216961Z",
     "iopub.status.busy": "2021-06-28T16:53:46.215885Z",
     "iopub.status.idle": "2021-06-28T16:53:46.231342Z",
     "shell.execute_reply": "2021-06-28T16:53:46.230766Z",
     "shell.execute_reply.started": "2021-06-27T16:17:42.779114Z"
    },
    "papermill": {
     "duration": 0.060491,
     "end_time": "2021-06-28T16:53:46.231477",
     "exception": false,
     "start_time": "2021-06-28T16:53:46.170986",
     "status": "completed"
    },
    "tags": []
   },
   "outputs": [
    {
     "data": {
      "text/plain": [
       "77.68"
      ]
     },
     "execution_count": 32,
     "metadata": {},
     "output_type": "execute_result"
    }
   ],
   "source": [
    "# Naive Bayes\n",
    "\n",
    "from sklearn.naive_bayes import GaussianNB\n",
    "\n",
    "gnb = GaussianNB()\n",
    "gaussian = gnb.fit(X_train, y_train)\n",
    "prediction_naive = gaussian.predict(X_test)\n",
    "\n",
    "acc_gaussian = round(gaussian.score(X_train, y_train) * 100, 2)\n",
    "acc_gaussian"
   ]
  },
  {
   "cell_type": "markdown",
   "metadata": {
    "papermill": {
     "duration": 0.039374,
     "end_time": "2021-06-28T16:53:46.310714",
     "exception": false,
     "start_time": "2021-06-28T16:53:46.271340",
     "status": "completed"
    },
    "tags": []
   },
   "source": [
    "It is observed that the best accuracy is obtained in the Random Forest Model, which we will use to make our submissions to the competition."
   ]
  },
  {
   "cell_type": "markdown",
   "metadata": {
    "papermill": {
     "duration": 0.039167,
     "end_time": "2021-06-28T16:53:46.391309",
     "exception": false,
     "start_time": "2021-06-28T16:53:46.352142",
     "status": "completed"
    },
    "tags": []
   },
   "source": [
    "### Use the section below to submit on the test set"
   ]
  },
  {
   "cell_type": "code",
   "execution_count": 33,
   "metadata": {
    "execution": {
     "iopub.execute_input": "2021-06-28T16:53:46.477637Z",
     "iopub.status.busy": "2021-06-28T16:53:46.476916Z",
     "iopub.status.idle": "2021-06-28T16:53:46.484564Z",
     "shell.execute_reply": "2021-06-28T16:53:46.485059Z",
     "shell.execute_reply.started": "2021-06-27T16:18:01.405011Z"
    },
    "papermill": {
     "duration": 0.054316,
     "end_time": "2021-06-28T16:53:46.485230",
     "exception": false,
     "start_time": "2021-06-28T16:53:46.430914",
     "status": "completed"
    },
    "tags": []
   },
   "outputs": [
    {
     "data": {
      "text/html": [
       "<div>\n",
       "<style scoped>\n",
       "    .dataframe tbody tr th:only-of-type {\n",
       "        vertical-align: middle;\n",
       "    }\n",
       "\n",
       "    .dataframe tbody tr th {\n",
       "        vertical-align: top;\n",
       "    }\n",
       "\n",
       "    .dataframe thead th {\n",
       "        text-align: right;\n",
       "    }\n",
       "</style>\n",
       "<table border=\"1\" class=\"dataframe\">\n",
       "  <thead>\n",
       "    <tr style=\"text-align: right;\">\n",
       "      <th></th>\n",
       "      <th>Age</th>\n",
       "      <th>Sex</th>\n",
       "      <th>Embarked</th>\n",
       "      <th>Title</th>\n",
       "      <th>Pclass</th>\n",
       "      <th>FamilySize</th>\n",
       "    </tr>\n",
       "  </thead>\n",
       "  <tbody>\n",
       "    <tr>\n",
       "      <th>0</th>\n",
       "      <td>0</td>\n",
       "      <td>1</td>\n",
       "      <td>3</td>\n",
       "      <td>1</td>\n",
       "      <td>3</td>\n",
       "      <td>0</td>\n",
       "    </tr>\n",
       "    <tr>\n",
       "      <th>1</th>\n",
       "      <td>0</td>\n",
       "      <td>2</td>\n",
       "      <td>1</td>\n",
       "      <td>2</td>\n",
       "      <td>3</td>\n",
       "      <td>1</td>\n",
       "    </tr>\n",
       "    <tr>\n",
       "      <th>2</th>\n",
       "      <td>0</td>\n",
       "      <td>1</td>\n",
       "      <td>3</td>\n",
       "      <td>1</td>\n",
       "      <td>2</td>\n",
       "      <td>0</td>\n",
       "    </tr>\n",
       "    <tr>\n",
       "      <th>3</th>\n",
       "      <td>0</td>\n",
       "      <td>1</td>\n",
       "      <td>1</td>\n",
       "      <td>1</td>\n",
       "      <td>3</td>\n",
       "      <td>0</td>\n",
       "    </tr>\n",
       "    <tr>\n",
       "      <th>4</th>\n",
       "      <td>0</td>\n",
       "      <td>2</td>\n",
       "      <td>1</td>\n",
       "      <td>2</td>\n",
       "      <td>3</td>\n",
       "      <td>1</td>\n",
       "    </tr>\n",
       "  </tbody>\n",
       "</table>\n",
       "</div>"
      ],
      "text/plain": [
       "   Age  Sex  Embarked  Title  Pclass  FamilySize\n",
       "0    0    1         3      1       3           0\n",
       "1    0    2         1      2       3           1\n",
       "2    0    1         3      1       2           0\n",
       "3    0    1         1      1       3           0\n",
       "4    0    2         1      2       3           1"
      ]
     },
     "execution_count": 33,
     "metadata": {},
     "output_type": "execute_result"
    }
   ],
   "source": [
    "test_feature = test_set[['Age', 'Sex', 'Embarked', 'Title', 'Pclass', 'FamilySize']]\n",
    "test_id = test_set['PassengerId']\n",
    "test_feature.head()"
   ]
  },
  {
   "cell_type": "code",
   "execution_count": 34,
   "metadata": {
    "execution": {
     "iopub.execute_input": "2021-06-28T16:53:46.568503Z",
     "iopub.status.busy": "2021-06-28T16:53:46.567839Z",
     "iopub.status.idle": "2021-06-28T16:53:46.588836Z",
     "shell.execute_reply": "2021-06-28T16:53:46.589346Z",
     "shell.execute_reply.started": "2021-06-27T16:18:35.50673Z"
    },
    "papermill": {
     "duration": 0.064378,
     "end_time": "2021-06-28T16:53:46.589544",
     "exception": false,
     "start_time": "2021-06-28T16:53:46.525166",
     "status": "completed"
    },
    "tags": []
   },
   "outputs": [],
   "source": [
    "test_predictions = random_forest.predict(test_feature)"
   ]
  },
  {
   "cell_type": "code",
   "execution_count": 35,
   "metadata": {
    "execution": {
     "iopub.execute_input": "2021-06-28T16:53:46.673811Z",
     "iopub.status.busy": "2021-06-28T16:53:46.673174Z",
     "iopub.status.idle": "2021-06-28T16:53:46.683229Z",
     "shell.execute_reply": "2021-06-28T16:53:46.682537Z",
     "shell.execute_reply.started": "2021-06-27T16:18:37.24666Z"
    },
    "papermill": {
     "duration": 0.052684,
     "end_time": "2021-06-28T16:53:46.683370",
     "exception": false,
     "start_time": "2021-06-28T16:53:46.630686",
     "status": "completed"
    },
    "tags": []
   },
   "outputs": [
    {
     "data": {
      "text/html": [
       "<div>\n",
       "<style scoped>\n",
       "    .dataframe tbody tr th:only-of-type {\n",
       "        vertical-align: middle;\n",
       "    }\n",
       "\n",
       "    .dataframe tbody tr th {\n",
       "        vertical-align: top;\n",
       "    }\n",
       "\n",
       "    .dataframe thead th {\n",
       "        text-align: right;\n",
       "    }\n",
       "</style>\n",
       "<table border=\"1\" class=\"dataframe\">\n",
       "  <thead>\n",
       "    <tr style=\"text-align: right;\">\n",
       "      <th></th>\n",
       "      <th>PassengerId</th>\n",
       "      <th>Survived</th>\n",
       "    </tr>\n",
       "  </thead>\n",
       "  <tbody>\n",
       "    <tr>\n",
       "      <th>0</th>\n",
       "      <td>892</td>\n",
       "      <td>0</td>\n",
       "    </tr>\n",
       "    <tr>\n",
       "      <th>1</th>\n",
       "      <td>893</td>\n",
       "      <td>1</td>\n",
       "    </tr>\n",
       "    <tr>\n",
       "      <th>2</th>\n",
       "      <td>894</td>\n",
       "      <td>0</td>\n",
       "    </tr>\n",
       "    <tr>\n",
       "      <th>3</th>\n",
       "      <td>895</td>\n",
       "      <td>0</td>\n",
       "    </tr>\n",
       "    <tr>\n",
       "      <th>4</th>\n",
       "      <td>896</td>\n",
       "      <td>1</td>\n",
       "    </tr>\n",
       "  </tbody>\n",
       "</table>\n",
       "</div>"
      ],
      "text/plain": [
       "   PassengerId  Survived\n",
       "0          892         0\n",
       "1          893         1\n",
       "2          894         0\n",
       "3          895         0\n",
       "4          896         1"
      ]
     },
     "execution_count": 35,
     "metadata": {},
     "output_type": "execute_result"
    }
   ],
   "source": [
    "output = pd.DataFrame({'PassengerId' : test_id, 'Survived': test_predictions})\n",
    "output.head()"
   ]
  },
  {
   "cell_type": "code",
   "execution_count": 36,
   "metadata": {
    "execution": {
     "iopub.execute_input": "2021-06-28T16:53:46.770407Z",
     "iopub.status.busy": "2021-06-28T16:53:46.769382Z",
     "iopub.status.idle": "2021-06-28T16:53:46.775729Z",
     "shell.execute_reply": "2021-06-28T16:53:46.776316Z",
     "shell.execute_reply.started": "2021-06-27T16:18:40.524011Z"
    },
    "papermill": {
     "duration": 0.051766,
     "end_time": "2021-06-28T16:53:46.776497",
     "exception": false,
     "start_time": "2021-06-28T16:53:46.724731",
     "status": "completed"
    },
    "tags": []
   },
   "outputs": [],
   "source": [
    "output.to_csv('/kaggle/working/submission.csv', index=False)"
   ]
  },
  {
   "cell_type": "code",
   "execution_count": 37,
   "metadata": {
    "execution": {
     "iopub.execute_input": "2021-06-28T16:53:46.860542Z",
     "iopub.status.busy": "2021-06-28T16:53:46.859606Z",
     "iopub.status.idle": "2021-06-28T16:53:46.862938Z",
     "shell.execute_reply": "2021-06-28T16:53:46.863423Z"
    },
    "papermill": {
     "duration": 0.046827,
     "end_time": "2021-06-28T16:53:46.863601",
     "exception": false,
     "start_time": "2021-06-28T16:53:46.816774",
     "status": "completed"
    },
    "tags": []
   },
   "outputs": [],
   "source": [
    "# Use this data type conversion for the output feature, if the score comes as 0 in submission\n",
    "\n",
    "# model.predict(test_data).astype(int)"
   ]
  }
 ],
 "metadata": {
  "kernelspec": {
   "display_name": "Python 3",
   "language": "python",
   "name": "python3"
  },
  "language_info": {
   "codemirror_mode": {
    "name": "ipython",
    "version": 3
   },
   "file_extension": ".py",
   "mimetype": "text/x-python",
   "name": "python",
   "nbconvert_exporter": "python",
   "pygments_lexer": "ipython3",
   "version": "3.8.5"
  },
  "papermill": {
   "default_parameters": {},
   "duration": 14.84063,
   "end_time": "2021-06-28T16:53:47.613759",
   "environment_variables": {},
   "exception": null,
   "input_path": "__notebook__.ipynb",
   "output_path": "__notebook__.ipynb",
   "parameters": {},
   "start_time": "2021-06-28T16:53:32.773129",
   "version": "2.3.3"
  }
 },
 "nbformat": 4,
 "nbformat_minor": 5
}
